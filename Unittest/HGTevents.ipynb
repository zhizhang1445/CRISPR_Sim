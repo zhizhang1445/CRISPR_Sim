{
 "cells": [
  {
   "cell_type": "code",
   "execution_count": 36,
   "metadata": {},
   "outputs": [],
   "source": [
    "import numpy as np\n",
    "import matplotlib.pyplot as plt\n",
    "import numpy.random as random\n",
    "from scipy.signal import convolve\n",
    "import scipy\n",
    "from joblib import Parallel, delayed\n",
    "import time\n",
    "from scipy import sparse\n",
    "from tqdm import tqdm, tqdm_notebook\n",
    "\n",
    "%run ../Scripts/immunity.py\n",
    "%run ../Scripts/altimmunity.py\n",
    "%run ../Scripts/initMethods.py\n",
    "%run ../Scripts/randomHGT.py"
   ]
  },
  {
   "cell_type": "code",
   "execution_count": 46,
   "metadata": {},
   "outputs": [],
   "source": [
    "params = { #parameters relevant for the equations\n",
    "    \"Nh\":                  10000,\n",
    "    \"N0\":                  10000,\n",
    "    \"M\":                       3, #Also L, total number of spacers\n",
    "    \"beta\":                    1,\n",
    "    \"rate_HGT\":              1/10,\n",
    "    \"HGT_bonus_acquisition\": 1000, \n",
    "    \"recovery_time\":            5,\n",
    "    }\n",
    "sim_params = { #parameters relevant for the simulation (including Inital Valuess)\n",
    "    \"dt\":                           1,\n",
    "    \"xdomain\":                    300,\n",
    "    \"dx\":                           1,\n",
    "    \"initial_mean_n\":         [0,-100],\n",
    "    \"initial_var_n\":               40,\n",
    "    \"initial_mean_nh\":         [0,150],\n",
    "    \"initial_var_nh\":              40,\n",
    "    \"num_threads\":                  4,\n",
    "    \"tail_axis\":               [1, 1],\n",
    "    \"conv_size\":                2000,\n",
    "    }"
   ]
  },
  {
   "cell_type": "code",
   "execution_count": 27,
   "metadata": {},
   "outputs": [],
   "source": [
    "nh0 = init_guassian(params[\"Nh\"]*params[\"M\"], sim_params, \"nh\")\n",
    "\n",
    "n0 = init_guassian(params[\"N0\"], sim_params, \"n\")"
   ]
  },
  {
   "cell_type": "code",
   "execution_count": 28,
   "metadata": {},
   "outputs": [
    {
     "data": {
      "text/plain": [
       "30000"
      ]
     },
     "execution_count": 28,
     "metadata": {},
     "output_type": "execute_result"
    }
   ],
   "source": [
    "np.sum(nh0)"
   ]
  },
  {
   "cell_type": "code",
   "execution_count": 29,
   "metadata": {},
   "outputs": [],
   "source": [
    "Nh = params[\"Nh\"]\n",
    "N = np.sum(n0)\n",
    "num_threads = sim_params[\"num_threads\"]"
   ]
  },
  {
   "cell_type": "code",
   "execution_count": 30,
   "metadata": {},
   "outputs": [
    {
     "data": {
      "text/plain": [
       "[<matplotlib.lines.Line2D at 0x7fd37cc81580>]"
      ]
     },
     "execution_count": 30,
     "metadata": {},
     "output_type": "execute_result"
    },
    {
     "data": {
      "image/png": "[encoded data removed]",
      "text/plain": [
       "<Figure size 640x480 with 1 Axes>"
      ]
     },
     "metadata": {},
     "output_type": "display_data"
    }
   ],
   "source": [
    "params[\"beta\"] = 0.0000001\n",
    "guassian_kernel = init_quarter_kernel(params, sim_params, type = \"beta\", exponent=2)\n",
    "nh_intergrated = immunity_gain_from_kernel(nh0, n0, guassian_kernel, params, sim_params)\n",
    "nh_new = immunity_loss_uniform(nh_intergrated, n0, params, sim_params)\n",
    "flat_nh_new = np.array(np.sum(nh_new.todense(), axis = 0)).squeeze()\n",
    "plt.plot(flat_nh_new, label = f\"beta = {0}\")"
   ]
  },
  {
   "cell_type": "code",
   "execution_count": 31,
   "metadata": {},
   "outputs": [
    {
     "data": {
      "text/plain": [
       "40000"
      ]
     },
     "execution_count": 31,
     "metadata": {},
     "output_type": "execute_result"
    }
   ],
   "source": [
    "np.sum(nh_intergrated)"
   ]
  },
  {
   "cell_type": "code",
   "execution_count": 32,
   "metadata": {},
   "outputs": [
    {
     "data": {
      "text/plain": [
       "30000"
      ]
     },
     "execution_count": 32,
     "metadata": {},
     "output_type": "execute_result"
    }
   ],
   "source": [
    "np.sum(nh_new)"
   ]
  },
  {
   "cell_type": "code",
   "execution_count": 41,
   "metadata": {},
   "outputs": [
    {
     "data": {
      "text/plain": [
       "array([19.52564853])"
      ]
     },
     "execution_count": 41,
     "metadata": {},
     "output_type": "execute_result"
    }
   ],
   "source": [
    "current_time = 10\n",
    "time2next_event = get_time_next_HGT(current_time, params, sim_params)\n",
    "time2next_event"
   ]
  },
  {
   "cell_type": "code",
   "execution_count": 47,
   "metadata": {},
   "outputs": [],
   "source": [
    "num_to_add = np.sum(n0) + params[\"HGT_bonus_acquisition\"]\n",
    "num_to_remove = np.sum(n0)\n",
    "\n",
    "timesteps_to_recovery = np.ceil(params[\"recovery_time\"]/sim_params[\"dt\"])\n",
    "counter_to_recovery = timesteps_to_recovery\n",
    "\n",
    "params[\"M\"] = params[\"M\"] + params[\"HGT_bonus_acquisition\"]/params[\"Nh\"]\n",
    "\n",
    "num_to_add = np.sum(n0) - params[\"HGT_bonus_acquisition\"]*(1/timesteps_to_recovery)\n",
    "num_to_remove = np.sum(n0)\n",
    "params[\"M\"] = params[\"M\"] - (params[\"HGT_bonus_acquisition\"]/params[\"Nh\"])*(1/timesteps_to_recovery)\n",
    "\n",
    "counter_to_recovery -= 1"
   ]
  },
  {
   "cell_type": "code",
   "execution_count": 66,
   "metadata": {},
   "outputs": [],
   "source": [
    "%run ../Scripts/coverage.py\n",
    "%run ../Scripts/fitness.py\n",
    "%run ../Scripts/immunity.py\n",
    "%run ../Scripts/initMethods.py\n",
    "%run ../Scripts/supMethods.py\n",
    "%run ../Scripts/mutation.py\n",
    "%run ../Scripts/altImmunity.py"
   ]
  },
  {
   "cell_type": "code",
   "execution_count": 85,
   "metadata": {},
   "outputs": [],
   "source": [
    "params = { #parameters relevant for the equations\n",
    "    \"Nh\":                  10000,\n",
    "    \"N0\":                   1000, #This Will be updated by self-consitent solution\n",
    "    \"R0\":                    20, \n",
    "    \"M\":                       5, #Also L, total number of spacers\n",
    "    \"mu\":                   0.01, #mutation rate\n",
    "    \"gamma_shape\":            20, \n",
    "    \"Np\":                     10, #Number of Cas Protein\n",
    "    \"dc\":                      3, #Required number of complexes to activate defence\n",
    "    \"h\":                       4, #coordination coeff\n",
    "    \"r\":                    2000, #cross-reactivity kernel\n",
    "    \"beta\":                 0.000,\n",
    "    \"rate_HGT\":              1/10,\n",
    "    \"HGT_bonus_acquisition\": 1000, \n",
    "    \"recovery_time\":            5,\n",
    "}\n",
    "sim_params = { #parameters relevant for the simulation (including Inital Valuess)\n",
    "    \"continue\":                 False, #DO NOT CREATE ARBITRARY FOLDERS ONLY FOR TESTS\n",
    "    \"xdomain\":                    500,\n",
    "    \"dx\":                           1,\n",
    "    \"tf\":                          50,\n",
    "    \"dt\":                           1,\n",
    "    \"initial_mean_n\":           [0,0],\n",
    "    \"initial_mean_nh\":          [0,0],\n",
    "    \"conv_size\":                  500,\n",
    "    \"num_threads\":                  1,\n",
    "    \"t_snapshot\":                  10,\n",
    "    \"initial_mean_n\":         [0,-100],\n",
    "    \"initial_var_n\":               40,\n",
    "    \"initial_mean_nh\":         [0,150],\n",
    "    \"initial_var_nh\":              40,\n",
    "}"
   ]
  },
  {
   "cell_type": "code",
   "execution_count": 86,
   "metadata": {},
   "outputs": [],
   "source": [
    "n = init_guassian(params[\"N0\"]*params[\"M\"], sim_params, \"n\")\n",
    "nh = init_guassian(params[\"Nh\"], sim_params, \"nh\")\n",
    "kernel_quarter = init_quarter_kernel(params, sim_params)\n",
    "kernel_exp = init_quarter_kernel(params, sim_params, type=\"Boltzmann\")"
   ]
  },
  {
   "cell_type": "code",
   "execution_count": 87,
   "metadata": {},
   "outputs": [],
   "source": [
    "t = 0\n",
    "time2nextevent = get_time_next_HGT(t, params, sim_params)\n",
    "timesteps_to_recovery = np.ceil(params[\"recovery_time\"]/sim_params[\"dt\"])\n",
    "N_data = []\n",
    "Nh_data = []\n",
    "to_add_data = []\n",
    "time = []\n",
    "\n",
    "\n",
    "while(t < sim_params[\"tf\"]):\n",
    "    p = elementwise_coverage(nh, n, kernel_quarter, params, sim_params)\n",
    "\n",
    "    f = fitness_spacers(n, nh, p, params, sim_params) #f is now a masked array (where mask is where eff_R0 = 0)\n",
    "    f = norm_fitness(f, n, params, sim_params) #renormalize f\n",
    "    n = virus_growth(n, f, params, sim_params) #update\n",
    "\n",
    "    n = mutation(n, params, sim_params)\n",
    "    \n",
    "    if t > time2nextevent:\n",
    "        num_to_add = np.sum(n0) + params[\"HGT_bonus_acquisition\"]\n",
    "        num_to_remove = np.sum(n0)\n",
    "        params[\"M\"] = params[\"M\"] + params[\"HGT_bonus_acquisition\"]/params[\"Nh\"]\n",
    "        counter_to_recovery = timesteps_to_recovery\n",
    "\n",
    "    elif counter_to_recovery > 0:\n",
    "        num_to_add = np.sum(n0) - params[\"HGT_bonus_acquisition\"]*(1/timesteps_to_recovery)\n",
    "        num_to_remove = np.sum(n0)\n",
    "        params[\"M\"] = params[\"M\"] - (params[\"HGT_bonus_acquisition\"]/params[\"Nh\"])*(1/timesteps_to_recovery)\n",
    "        counter_to_recovery -= 0\n",
    "\n",
    "    else:\n",
    "        num_to_add = np.sum(n)\n",
    "        num_to_remove = np.sum(n)\n",
    "        counter_to_recovery -= 0\n",
    "\n",
    "\n",
    "    nh_gain = immunity_gain_from_kernel(nh, n, kernel_exp, params, sim_params, num_to_add) #update nh\n",
    "    nh = immunity_loss_uniform(nh_gain, n, params, sim_params, num_to_remove)\n",
    "\n",
    "    time.append(t)\n",
    "    Nh_data.append(np.sum(nh))\n",
    "    N_data.append(np.sum(n))\n",
    "    to_add_data.append(num_to_add)\n",
    "\n",
    "    t += sim_params[\"dt\"]"
   ]
  },
  {
   "cell_type": "code",
   "execution_count": null,
   "metadata": {},
   "outputs": [],
   "source": []
  }
 ],
 "metadata": {
  "kernelspec": {
   "display_name": "base",
   "language": "python",
   "name": "python3"
  },
  "language_info": {
   "codemirror_mode": {
    "name": "ipython",
    "version": 3
   },
   "file_extension": ".py",
   "mimetype": "text/x-python",
   "name": "python",
   "nbconvert_exporter": "python",
   "pygments_lexer": "ipython3",
   "version": "3.9.7"
  },
  "orig_nbformat": 4
 },
 "nbformat": 4,
 "nbformat_minor": 2
}
