{
 "cells": [
  {
   "cell_type": "code",
   "execution_count": 1,
   "metadata": {},
   "outputs": [],
   "source": [
    "import numpy as np\n",
    "import matplotlib.pyplot as plt\n",
    "import numpy.random as random\n",
    "from scipy.signal import convolve\n",
    "import scipy\n",
    "from joblib import Parallel, delayed\n",
    "import time\n",
    "from scipy import sparse\n",
    "from tqdm import tqdm, tqdm_notebook"
   ]
  },
  {
   "cell_type": "code",
   "execution_count": null,
   "metadata": {},
   "outputs": [],
   "source": [
    "%run ../Scripts/fitness.py\n",
    "%run ../Scripts/immunity.py\n",
    "%run ../Scripts/initMethods.py\n",
    "%run ../Scripts/supMethods.py\n",
    "%run ../Scripts/mutation.py"
   ]
  },
  {
   "cell_type": "code",
   "execution_count": 2,
   "metadata": {},
   "outputs": [],
   "source": [
    "p_coverage = 0.2\n",
    "M = 20\n",
    "R0 = 20\n",
    "Np = 100\n",
    "dc = 3\n",
    "\n",
    "def p_infection(p_coverage, M, Np, dc):\n",
    "    p_infection = (1-p_coverage)**M\n",
    "\n",
    "    for n in range(1, M+1):\n",
    "        p_n_spacer = binomial_pdf(M, n, p_coverage)\n",
    "        for d in range(0, dc+1):\n",
    "            p_infection += binomial_pdf(Np, d, n/M)*p_n_spacer\n",
    "    return p_infection\n",
    "\n",
    "def p_infection_S_max(p_coverage, M, Np, dc, s_max = None):\n",
    "    p_infection = (1-p_coverage)**M\n",
    "    if s_max is None or s_max > M:\n",
    "        s_max = M\n",
    "\n",
    "    for n in range(1, s_max+1):\n",
    "        p_n_spacer = binomial_pdf(M, n, p_coverage)\n",
    "        for d in range(0, dc+1):\n",
    "            p_infection += binomial_pdf(Np, d, n/M)*p_n_spacer\n",
    "    return p_infection\n",
    "\n",
    "def p_1_infection(p_coverage, M, Np, dc):\n",
    "    p_infection = (1-p_coverage)**M\n",
    "\n",
    "    p_1_spacer = binomial_pdf(M, 1, p_coverage)\n",
    "    for d in range(0, dc+1):\n",
    "        p_infection += binomial_pdf(Np, d, 1/M)*p_1_spacer\n",
    "    return p_infection"
   ]
  },
  {
   "cell_type": "code",
   "execution_count": null,
   "metadata": {},
   "outputs": [],
   "source": []
  }
 ],
 "metadata": {
  "kernelspec": {
   "display_name": "base",
   "language": "python",
   "name": "python3"
  },
  "language_info": {
   "codemirror_mode": {
    "name": "ipython",
    "version": 3
   },
   "file_extension": ".py",
   "mimetype": "text/x-python",
   "name": "python",
   "nbconvert_exporter": "python",
   "pygments_lexer": "ipython3",
   "version": "3.11.5"
  }
 },
 "nbformat": 4,
 "nbformat_minor": 2
}
