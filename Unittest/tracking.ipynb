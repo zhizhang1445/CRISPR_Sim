{
 "cells": [
  {
   "cell_type": "code",
   "execution_count": 61,
   "metadata": {},
   "outputs": [],
   "source": [
    "import numpy as np\n",
    "import matplotlib.pyplot as plt\n",
    "from scipy import sparse\n",
    "import json\n",
    "import matplotlib as mpl\n",
    "import matplotlib.pyplot as plt\n",
    "import tqdm\n",
    "\n",
    "%run ../Scripts/trajectory.py\n",
    "%run ../Scripts/trajectoryVisual.py\n",
    "%run ../Scripts/trajsTree.py\n",
    "%run ../Scripts/supMethods.py\n",
    "foldername = \"../Data/test1\""
   ]
  },
  {
   "cell_type": "code",
   "execution_count": 6,
   "metadata": {},
   "outputs": [],
   "source": [
    "with open(foldername + \"/params.json\") as json_file:\n",
    "    params = json.load(json_file)\n",
    "with open(foldername + \"/sim_params.json\") as json_file:\n",
    "    sim_params = json.load(json_file)"
   ]
  },
  {
   "cell_type": "code",
   "execution_count": null,
   "metadata": {},
   "outputs": [],
   "source": [
    "i = 700\n",
    "n_i = scipy.sparse.load_npz(foldername+f\"/sp_frame_n{i}.npz\").todok()\n",
    "indexes = get_nonzero_w_repeats(n_i)\n",
    "means_gmm, covs_gmm, counts_gmm = fit_unknown_GMM(indexes, w = 1000)\n",
    "means, covs, counts = reduce_GMM(means_gmm, covs_gmm, counts_gmm)\n",
    "plot_Ellipses(n_i, i, means, covs, save = False, foldername = foldername)"
   ]
  },
  {
   "cell_type": "code",
   "execution_count": 28,
   "metadata": {},
   "outputs": [],
   "source": [
    "t0 = 300\n",
    "tf = sim_params[\"tf\"]\n",
    "dt = 25\n",
    "t_domain = np.arange(t0, tf, dt)"
   ]
  },
  {
   "cell_type": "code",
   "execution_count": 200,
   "metadata": {},
   "outputs": [],
   "source": [
    "for t in t_domain:\n",
    "    n_i = scipy.sparse.load_npz(foldername+f\"/sp_frame_n{t}.npz\").todok()\n",
    "    indexes = get_nonzero_w_repeats(n_i)\n",
    "    means_gmm, covs_gmm, counts_gmm = fit_unknown_GMM(indexes, w = 1000)\n",
    "    means, covs, counts = reduce_GMM(means_gmm, covs_gmm, counts_gmm)\n",
    "    plot_Ellipses(n_i, t, means, covs, save = True,\n",
    "                foldername = foldername, input_color = \"teal\")\n",
    "    \n",
    "make_Gif(foldername, t_domain, typename = \"GMM_plots\")"
   ]
  },
  {
   "cell_type": "code",
   "execution_count": 63,
   "metadata": {},
   "outputs": [],
   "source": [
    "for t in t_domain:\n",
    "    n_i = scipy.sparse.load_npz(foldername+f\"/sp_frame_n{t}.npz\").todok()\n",
    "    indexes = get_nonzero_w_repeats(n_i)\n",
    "    means_gmm, covs_gmm, counts_gmm = fit_unknown_GMM(indexes, w = 1000)\n",
    "    means, covs, counts = reduce_GMM(means_gmm, covs_gmm, counts_gmm)\n",
    "    next_list = make_Treelist(t, means, covs, counts)\n",
    "    \n",
    "    if t == t0:\n",
    "        init_list = next_list\n",
    "        prev_list = next_list\n",
    "        continue\n",
    "\n",
    "    prev_list = link_Treelists(prev_list, next_list)\n",
    "    prev_list = next_list\n",
    "\n",
    "save_Treelist(foldername, init_list)"
   ]
  },
  {
   "cell_type": "code",
   "execution_count": null,
   "metadata": {},
   "outputs": [],
   "source": [
    "colors = generate_colors(len(init_list))\n",
    "plt.figure()\n",
    "plt.title(f\"Trajectories starting from {t0} to {tf}\")\n",
    "\n",
    "for root_node, color in zip(init_list, colors):\n",
    "    for trajs in root_node.get_all_traversals:\n",
    "        positions = [x.mean for x in trajs]\n",
    "        x_val, y_val = extract_xy(positions)\n",
    "        plt.plot(x_val, y_val, color = color)\n"
   ]
  }
 ],
 "metadata": {
  "kernelspec": {
   "display_name": "base",
   "language": "python",
   "name": "python3"
  },
  "language_info": {
   "codemirror_mode": {
    "name": "ipython",
    "version": 3
   },
   "file_extension": ".py",
   "mimetype": "text/x-python",
   "name": "python",
   "nbconvert_exporter": "python",
   "pygments_lexer": "ipython3",
   "version": "3.9.7"
  },
  "orig_nbformat": 4
 },
 "nbformat": 4,
 "nbformat_minor": 2
}
