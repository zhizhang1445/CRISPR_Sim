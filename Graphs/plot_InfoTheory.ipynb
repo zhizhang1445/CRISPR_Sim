{
 "cells": [
  {
   "cell_type": "code",
   "execution_count": 2,
   "metadata": {},
   "outputs": [],
   "source": [
    "import numpy as np\n",
    "import matplotlib.pyplot as plt\n",
    "import scipy\n",
    "import json\n",
    "import matplotlib as mpl\n",
    "import matplotlib.pyplot as plt\n",
    "import os"
   ]
  },
  {
   "cell_type": "code",
   "execution_count": 3,
   "metadata": {},
   "outputs": [],
   "source": [
    "params = { #parameters relevant for the equations\n",
    "        \"Nh\":                     1E5,\n",
    "        \"N0\":                     1E3, #This Will be updated by self-consitent solution\n",
    "        \"R0\":                      20, \n",
    "        \"M\":                        1, #Also L, total number of spacers\n",
    "        \"mu\":                       1, #mutation rate\n",
    "        \"gamma_shape\":             20, \n",
    "        \"Np\":                      10, #Number of Cas Protein\n",
    "        \"dc\":                       3, #Required number of complexes to activate defence\n",
    "        \"h\":                        4, #coordination coeff\n",
    "        \"r\":                     2000, #cross-reactivity kernel\n",
    "        \"beta\":                     0,\n",
    "        \"rate_HGT\":                 0,\n",
    "        \"HGT_bonus_acq_ratio\":      1,\n",
    "        \"rate_recovery\":          0.1,\n",
    "        \"HGT_type\":                 0,\n",
    "    }\n",
    "\n",
    "sim_params = {\"dx\": 1, \"dt\": 1}"
   ]
  },
  {
   "cell_type": "code",
   "execution_count": 4,
   "metadata": {},
   "outputs": [],
   "source": [
    "%run ../Scripts/formulas.py\n",
    "\n",
    "def fitness_spacer_derivative(u, params):\n",
    "    r = params[\"r\"]\n",
    "    D = calc_diff_const(params, sim_params)\n",
    "    tau = params[\"M\"]*params[\"Nh\"]/params[\"N0\"]"
   ]
  },
  {
   "cell_type": "code",
   "execution_count": null,
   "metadata": {},
   "outputs": [],
   "source": []
  }
 ],
 "metadata": {
  "kernelspec": {
   "display_name": "base",
   "language": "python",
   "name": "python3"
  },
  "language_info": {
   "codemirror_mode": {
    "name": "ipython",
    "version": 3
   },
   "file_extension": ".py",
   "mimetype": "text/x-python",
   "name": "python",
   "nbconvert_exporter": "python",
   "pygments_lexer": "ipython3",
   "version": "3.11.5"
  },
  "orig_nbformat": 4
 },
 "nbformat": 4,
 "nbformat_minor": 2
}
