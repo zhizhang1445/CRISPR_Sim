{
 "cells": [
  {
   "cell_type": "code",
   "execution_count": 1,
   "metadata": {},
   "outputs": [],
   "source": [
    "import numpy as np\n",
    "import matplotlib.pyplot as plt\n",
    "import numpy.random as random\n",
    "from scipy.signal import convolve\n",
    "import scipy\n",
    "from joblib import Parallel, delayed\n",
    "import time\n",
    "from scipy import sparse\n",
    "import json\n",
    "from tqdm import tqdm, tqdm_notebook\n",
    "import os\n",
    "\n",
    "%run ../Scripts/coverage.py\n",
    "%run ../Scripts/fitness.py\n",
    "%run ../Scripts/immunity.py\n",
    "%run ../Scripts/initMethods.py\n",
    "%run ../Scripts/supMethods.py\n",
    "%run ../Scripts/mutation.py\n",
    "%run ../Scripts/altImmunity.py"
   ]
  },
  {
   "cell_type": "code",
   "execution_count": 2,
   "metadata": {},
   "outputs": [],
   "source": [
    "params = { #parameters relevant for the equations\n",
    "    \"Nh\":             1E8,\n",
    "    \"N0\":             1E7, #This Will be updated by self-consitent solution\n",
    "    \"R0\":              20, \n",
    "    \"M\":                1, #Also L, total number of spacers\n",
    "    \"mu\":            0.01, #mutation rate\n",
    "    \"gamma_shape\":     20, \n",
    "    \"Np\":               0, #Number of Cas Protein\n",
    "    \"dc\":               3, #Required number of complexes to activate defence\n",
    "    \"h\":                4, #coordination coeff\n",
    "    \"r\":             2000, #cross-reactivity kernel\n",
    "    \"beta\":        -0.001,\n",
    "}\n",
    "sim_params = { #parameters relevant for the simulation (including Inital Valuess)\n",
    "    \"xdomain\":                   1000,\n",
    "    \"dx\":                           1,\n",
    "    \"tf\":                        2000,\n",
    "    \"dt\":                           1,\n",
    "    \"initial_mean_n\":           [0,0],\n",
    "    \"initial_mean_nh\":          [0,0],\n",
    "    \"conv_size\":                 4000,\n",
    "    \"num_threads\":                 32,\n",
    "    \"tail_axis\":               [1, 1],\n",
    "}"
   ]
  },
  {
   "cell_type": "code",
   "execution_count": 3,
   "metadata": {},
   "outputs": [
    {
     "name": "stdout",
     "output_type": "stream",
     "text": [
      "Phage Population: 10000000.0000| Uc: 10.9541| sigma: 2.6380\n",
      "Phage Population: 62805.4977| Uc: 7.4325| sigma: 2.3942\n",
      "Phage Population: 51734.3430| Uc: 7.2822| sigma: 2.3820\n",
      "Phage Population: 51208.5059| Uc: 7.2743| sigma: 2.3814\n",
      "Phage Population: 51180.5029| Uc: 7.2738| sigma: 2.3813\n",
      "Phage Population: 51179.0027| Uc: 7.2738| sigma: 2.3813\n",
      "Phage Population: 51178.9223| Uc: 7.2738| sigma: 2.3813\n"
     ]
    }
   ],
   "source": [
    "params, sim_params = init_cond(params, sim_params)\n",
    "\n",
    "i = 7\n",
    "foldername = f\"../Data/test{i}\"\n",
    "while os.path.exists(foldername):\n",
    "    i += 1\n",
    "    foldername = f\"../Data/test{i}\"\n",
    "\n",
    "try:\n",
    "    write2json(foldername, params, sim_params)\n",
    "except FileNotFoundError:\n",
    "    os.mkdir(foldername)\n",
    "    write2json(foldername, params, sim_params)\n"
   ]
  },
  {
   "cell_type": "code",
   "execution_count": null,
   "metadata": {},
   "outputs": [],
   "source": [
    "n = init_guassian(params[\"N\"], sim_params, \"n\")\n",
    "nh = init_exptail(params[\"Nh\"], params, sim_params, \"nh\")\n",
    "kernel_quarter = init_quarter_kernel(params, sim_params)\n",
    "kernel_exp = init_quarter_kernel(params, sim_params, type=\"Boltzmann\")\n",
    "\n",
    "for i in range(sim_params[\"tf\"]):\n",
    "    sparse.save_npz(foldername+f\"/sp_frame_n{i}\",n.tocoo())\n",
    "    sparse.save_npz(foldername+f\"/sp_frame_nh{i}\",nh.tocoo())\n",
    "\n",
    "    p = elementwise_coverage(nh, n, kernel_quarter, params, sim_params)\n",
    "    f = fitness_spacers(n, nh, p, params, sim_params) #f is now a masked array (where mask is where eff_R0 = 0)\n",
    "    f = norm_fitness(f, n, params, sim_params) #renormalize f\n",
    "    n = virus_growth(n, f, params, sim_params) #update\n",
    "\n",
    "    n = mutation(n, params, sim_params)\n",
    "    nh_gain = immunity_gain_from_kernel(nh, n, kernel_exp, params, sim_params) #update nh\n",
    "    nh = immunity_loss_uniform(nh_gain, n, params, sim_params)"
   ]
  },
  {
   "cell_type": "code",
   "execution_count": 25,
   "metadata": {},
   "outputs": [],
   "source": [
    "foldername = \"../Data/test13\"\n",
    "with open(foldername + \"/params.json\") as json_file:\n",
    "    params = json.load(json_file)\n",
    "with open(foldername + \"/sim_params.json\") as json_file:\n",
    "    sim_params = json.load(json_file)\n",
    "\n",
    "i = 999\n",
    "kernel_quarter = init_quarter_kernel(params, sim_params)\n",
    "\n",
    "n = sparse.load_npz(foldername+f\"/sp_frame_n{i}.npz\").todok()\n",
    "nh = sparse.load_npz(foldername+f\"/sp_frame_nh{i}.npz\").todok()"
   ]
  },
  {
   "cell_type": "code",
   "execution_count": 26,
   "metadata": {},
   "outputs": [
    {
     "name": "stdout",
     "output_type": "stream",
     "text": [
      "elementwise_coverage took 00:00:37\n"
     ]
    }
   ],
   "source": [
    "p = elementwise_coverage(nh, n, kernel_quarter, params, sim_params)\n",
    "f = fitness_spacers(n, nh, p, params, sim_params) #f is now a masked array (where mask is where eff_R0 = 0)\n",
    "f = norm_fitness(f, n, params, sim_params)"
   ]
  },
  {
   "cell_type": "code",
   "execution_count": 42,
   "metadata": {},
   "outputs": [
    {
     "data": {
      "text/plain": [
       "[<matplotlib.lines.Line2D at 0x7f4441570490>]"
      ]
     },
     "execution_count": 42,
     "metadata": {},
     "output_type": "execute_result"
    },
    {
     "data": {
      "image/png": "[encoded data removed]",
      "text/plain": [
       "<Figure size 640x480 with 1 Axes>"
      ]
     },
     "metadata": {},
     "output_type": "display_data"
    }
   ],
   "source": [
    "plt.figure()\n",
    "foldername = \"../Data/test13\"\n",
    "i = 999\n",
    "n = sparse.load_npz(foldername+f\"/sp_frame_n{i}.npz\")\n",
    "n_squash = np.sum(n.toarray(), axis = 0)[930:960]\n",
    "plt.plot(minmax_norm(n_squash))\n",
    "f_squash = np.sum(f.toarray(), axis = 0)[930:960]\n",
    "plt.plot(f_squash)"
   ]
  },
  {
   "cell_type": "code",
   "execution_count": null,
   "metadata": {},
   "outputs": [],
   "source": [
    "R0_sweep = [20]\n",
    "kernel = init_quarter_kernel(params, sim_params)\n",
    "foldername = \"test0/\"\n",
    "write2json(foldername, params, sim_params)\n",
    "\n",
    "for R0 in R0_sweep:\n",
    "    params[\"R0\"] = R0\n",
    "    n = init_guassian(params[\"N\"], sim_params, \"n\")\n",
    "    nh = init_guassian(params[\"Nh\"], sim_params, \"nh\")\n",
    "\n",
    "    for i in range(10000):\n",
    "\n",
    "        if (i%100 == 0 or i < 20):\n",
    "            sparse.save_npz(foldername+f\"/sp_frame_n{i}\",n.tocoo())\n",
    "            sparse.save_npz(foldername+f\"/sp_frame_nh{i}\",nh.tocoo())\n",
    "\n",
    "        p = elementwise_coverage(nh, n, kernel, params, sim_params)\n",
    "        f = fitness_spacers(n, nh, p, params, sim_params) #f is now a masked array (where mask is where eff_R0 = 0)\n",
    "        # f = norm_fitness(f, n, params, sim_params)\n",
    "        n = virus_growth(n, f, params, sim_params) #update\n",
    "\n",
    "        n = mutation(n, params, sim_params)\n",
    "        nh = immunity_update(nh, n, params, sim_params) #update nh\n",
    "\n",
    "        if np.sum(n) >= 10*params[\"Nh\"]:\n",
    "            break"
   ]
  }
 ],
 "metadata": {
  "kernelspec": {
   "display_name": "base",
   "language": "python",
   "name": "python3"
  },
  "language_info": {
   "codemirror_mode": {
    "name": "ipython",
    "version": 3
   },
   "file_extension": ".py",
   "mimetype": "text/x-python",
   "name": "python",
   "nbconvert_exporter": "python",
   "pygments_lexer": "ipython3",
   "version": "3.9.7"
  },
  "orig_nbformat": 4,
  "vscode": {
   "interpreter": {
    "hash": "b5da1a19760c645bef876c945e2def5171d007c0fd3f14585be32e516ddabd56"
   }
  }
 },
 "nbformat": 4,
 "nbformat_minor": 2
}
