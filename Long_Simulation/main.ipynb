{
 "cells": [
  {
   "cell_type": "code",
   "execution_count": 1,
   "metadata": {},
   "outputs": [],
   "source": [
    "import numpy as np\n",
    "import matplotlib.pyplot as plt\n",
    "import numpy.random as random\n",
    "from scipy.signal import convolve\n",
    "import scipy\n",
    "from joblib import Parallel, delayed\n",
    "import time\n",
    "from scipy import sparse\n",
    "import json\n",
    "from tqdm import tqdm, tqdm_notebook\n",
    "import os\n",
    "\n",
    "%run ../Scripts/coverage.py\n",
    "%run ../Scripts/fitness.py\n",
    "%run ../Scripts/immunity.py\n",
    "%run ../Scripts/initMethods.py\n",
    "%run ../Scripts/supMethods.py\n",
    "%run ../Scripts/mutation.py"
   ]
  },
  {
   "cell_type": "code",
   "execution_count": 11,
   "metadata": {},
   "outputs": [],
   "source": [
    "params = { #parameters relevant for the equations\n",
    "    \"Nh\":             1E8,\n",
    "    \"N0\":             1E7, #This Will be updated by self-consitent solution\n",
    "    \"R0\":              20, \n",
    "    \"M\":                1, #Also L, total number of spacers\n",
    "    \"mu\":          0.0025, #mutation rate\n",
    "    \"gamma_shape\":     20, \n",
    "    \"Np\":               0, #Number of Cas Protein\n",
    "    \"dc\":               3, #Required number of complexes to activate defence\n",
    "    \"h\":                4, #coordination coeff\n",
    "    \"r\":             2000, #cross-reactivity kernel\n",
    "}\n",
    "sim_params = { #parameters relevant for the simulation (including Inital Valuess)\n",
    "    \"xdomain\":                   1000,\n",
    "    \"dx\":                           1,\n",
    "    \"tf\":                        2000,\n",
    "    \"dt\":                           1,\n",
    "    \"initial_mean_n\":           [0,0],\n",
    "    \"initial_mean_nh\":          [0,0],\n",
    "    \"conv_size\":                 4000,\n",
    "    \"num_threads\":                 32,\n",
    "    \"tail_axis\":               [1, 1],\n",
    "}"
   ]
  },
  {
   "cell_type": "code",
   "execution_count": 12,
   "metadata": {},
   "outputs": [
    {
     "name": "stdout",
     "output_type": "stream",
     "text": [
      "Phage Population: 10000000.0000| Uc: 6.7144| sigma: 1.6505\n",
      "Phage Population: 24585.8139| Uc: 3.9746| sigma: 1.4477\n",
      "Phage Population: 18915.8347| Uc: 3.8351| sigma: 1.4349\n",
      "Phage Population: 18580.9567| Uc: 3.8255| sigma: 1.4340\n",
      "Phage Population: 18557.6980| Uc: 3.8248| sigma: 1.4339\n",
      "Phage Population: 18556.0649| Uc: 3.8248| sigma: 1.4339\n",
      "Phage Population: 18555.9501| Uc: 3.8247| sigma: 1.4339\n"
     ]
    }
   ],
   "source": [
    "params, sim_params = init_cond(params, sim_params)\n",
    "\n",
    "i = 7\n",
    "foldername = f\"../Data/test{i}\"\n",
    "while os.path.exists(foldername):\n",
    "    i += 1\n",
    "    foldername = f\"../Data/test{i}\"\n",
    "\n",
    "try:\n",
    "    write2json(foldername, params, sim_params)\n",
    "except FileNotFoundError:\n",
    "    os.mkdir(foldername)\n",
    "    write2json(foldername, params, sim_params)\n"
   ]
  },
  {
   "cell_type": "code",
   "execution_count": 13,
   "metadata": {},
   "outputs": [],
   "source": [
    "n = init_guassian(params[\"N\"], sim_params, \"n\")\n",
    "nh = init_exptail(params[\"Nh\"], params, sim_params, \"nh\")\n",
    "kernel_quarter = init_quarter_kernel(params, sim_params)\n",
    "\n",
    "for i in range(sim_params[\"tf\"]):\n",
    "    sparse.save_npz(foldername+f\"/sp_frame_n{i}\",n.tocoo())\n",
    "    sparse.save_npz(foldername+f\"/sp_frame_nh{i}\",nh.tocoo())\n",
    "\n",
    "    p = elementwise_coverage(nh, n, kernel_quarter, params, sim_params)\n",
    "    f = fitness_spacers(n, nh, p, params, sim_params) #f is now a masked array (where mask is where eff_R0 = 0)\n",
    "    f = norm_fitness(f, n, params, sim_params) #renormalize f\n",
    "    n = virus_growth(n, f, params, sim_params) #update\n",
    "\n",
    "    n = mutation(n, params, sim_params)\n",
    "    nh = immunity_update(nh, n, params, sim_params) #update nh"
   ]
  },
  {
   "cell_type": "code",
   "execution_count": null,
   "metadata": {},
   "outputs": [],
   "source": [
    "R0_sweep = [20]\n",
    "kernel = init_quarter_kernel(params, sim_params)\n",
    "foldername = \"test0/\"\n",
    "write2json(foldername, params, sim_params)\n",
    "\n",
    "for R0 in R0_sweep:\n",
    "    params[\"R0\"] = R0\n",
    "    n = init_guassian(params[\"N\"], sim_params, \"n\")\n",
    "    nh = init_guassian(params[\"Nh\"], sim_params, \"nh\")\n",
    "\n",
    "    for i in range(10000):\n",
    "\n",
    "        if (i%100 == 0 or i < 20):\n",
    "            sparse.save_npz(foldername+f\"/sp_frame_n{i}\",n.tocoo())\n",
    "            sparse.save_npz(foldername+f\"/sp_frame_nh{i}\",nh.tocoo())\n",
    "\n",
    "        p = elementwise_coverage(nh, n, kernel, params, sim_params)\n",
    "        f = fitness_spacers(n, nh, p, params, sim_params) #f is now a masked array (where mask is where eff_R0 = 0)\n",
    "        # f = norm_fitness(f, n, params, sim_params)\n",
    "        n = virus_growth(n, f, params, sim_params) #update\n",
    "\n",
    "        n = mutation(n, params, sim_params)\n",
    "        nh = immunity_update(nh, n, params, sim_params) #update nh\n",
    "\n",
    "        if np.sum(n) >= 10*params[\"Nh\"]:\n",
    "            break"
   ]
  }
 ],
 "metadata": {
  "kernelspec": {
   "display_name": "base",
   "language": "python",
   "name": "python3"
  },
  "language_info": {
   "codemirror_mode": {
    "name": "ipython",
    "version": 3
   },
   "file_extension": ".py",
   "mimetype": "text/x-python",
   "name": "python",
   "nbconvert_exporter": "python",
   "pygments_lexer": "ipython3",
   "version": "3.9.7"
  },
  "orig_nbformat": 4,
  "vscode": {
   "interpreter": {
    "hash": "b5da1a19760c645bef876c945e2def5171d007c0fd3f14585be32e516ddabd56"
   }
  }
 },
 "nbformat": 4,
 "nbformat_minor": 2
}
