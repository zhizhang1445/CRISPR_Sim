{
 "cells": [
  {
   "cell_type": "code",
   "execution_count": 1,
   "metadata": {},
   "outputs": [],
   "source": [
    "import numpy as np\n",
    "import matplotlib.pyplot as plt\n",
    "import numpy.random as random\n",
    "from scipy.signal import convolve\n",
    "import scipy\n",
    "from joblib import Parallel, delayed\n",
    "import time\n",
    "from scipy import sparse\n",
    "import json\n",
    "from tqdm import tqdm, tqdm_notebook\n",
    "import os\n",
    "from antigenicWaveSimulationMethods import main as coEvoSimulation\n",
    "from formulas import compute_shift\n",
    "from coverage import elementwise_coverage\n",
    "from fitness import fitness_spacers, norm_fitness, virus_growth\n",
    "from altImmunity import immunity_loss_uniform, immunity_gain_from_kernel\n",
    "from initMethods import init_exptail, init_full_kernel, init_quarter_kernel, init_guassian, init_cond\n",
    "from supMethods import time_conv, write2json, minmax_norm\n",
    "from mutation import mutation\n",
    "from randomHGT import get_time_next_HGT, HGT_logistic_event"
   ]
  },
  {
   "cell_type": "code",
   "execution_count": 15,
   "metadata": {},
   "outputs": [],
   "source": [
    "params = { #parameters relevant for the equations\n",
    "        \"Nh\":                     1E7,\n",
    "        \"N0\":                     1E9, #This Will be updated by self-consitent solution\n",
    "        \"R0\":                      20, \n",
    "        \"M\":                       10, #Also L, total number of spacers\n",
    "        \"mu\":                     100, #mutation rate\n",
    "        \"gamma_shape\":             20,\n",
    "        \"Np\":                     100, #Number of Cas Protein\n",
    "        \"dc\":                      10, #Required number of complexes to activate defence\n",
    "        \"h\":                       10, #coordination coeff\n",
    "        \"r\":                     2000, #cross-reactivity kernel\n",
    "        \"beta\":                     0,\n",
    "        \"rate_HGT\":                 0,\n",
    "        \"HGT_bonus_acq_ratio\":      0,\n",
    "        \"rate_recovery\":            0,\n",
    "        \"HGT_type\":                 0,\n",
    "    }\n",
    "sim_params = { #parameters relevant for the simulation (including Inital Valuess)\n",
    "        \"continue\":                 False, #DO NOT CREATE ARBITRARY FOLDERS ONLY FOR TESTS\n",
    "        \"xdomain\":                  10000,\n",
    "        \"dx\":                           1,\n",
    "        \"tf\":                        4000,\n",
    "        \"dt\":                           1,\n",
    "        \"dt_exact_fitness\":             1,\n",
    "        \"dt_snapshot\":                  1,\n",
    "        \"initial_mean_n\":           [0,0],\n",
    "        \"initial_mean_nh\":          [0,0],\n",
    "        \"conv_size\":                 4000,\n",
    "        \"num_threads\":                 8,\n",
    "        \"foldername\":  \"../Data_Single_Test_Det_Fit\",\n",
    "        \"seed\":                         34,\n",
    "        \"hard_N0\":                      False,\n",
    "    }"
   ]
  },
  {
   "cell_type": "code",
   "execution_count": 16,
   "metadata": {},
   "outputs": [],
   "source": [
    "params, sim_params = init_cond(params, sim_params)\n",
    "foldername = sim_params[\"foldername\"]\n",
    "\n",
    "try:\n",
    "    write2json(foldername, params, sim_params)\n",
    "except FileNotFoundError:\n",
    "    os.mkdir(foldername)\n",
    "    write2json(foldername, params, sim_params)\n"
   ]
  },
  {
   "cell_type": "code",
   "execution_count": 17,
   "metadata": {},
   "outputs": [],
   "source": [
    "st1 = time.time()\n",
    "n = init_guassian(params[\"N\"], sim_params, \"n\")\n",
    "nh = init_exptail(params[\"Nh\"]*params[\"M\"], params, sim_params, \"nh\")\n",
    "kernel_conv = init_quarter_kernel(params, sim_params)\n",
    "kernel_immunity = init_quarter_kernel(params, sim_params, type=\"Boltzmann\")\n",
    "ed = time.time()\n",
    "            \n",
    "nh_total = params[\"Nh\"]\n",
    "n_total = params[\"N\"]\n",
    "uc = params[\"uc\"]\n",
    "sigma = params[\"sigma\"]\n",
    "M0 = params[\"M0\"]\n",
    "t = 0\n",
    "\n",
    "with open(foldername+'/runtime_stats.txt','w') as file:\n",
    "    file.write(f't: {t}| init_functions: {time_conv(ed-st1)}| Phage Population: {n_total:.4f}| Spacer Population: {nh_total:.4f}| Uc: {uc:.4f}| sigma: {sigma:.4f}| M0: {M0:.4f} \\n')\n"
   ]
  },
  {
   "cell_type": "code",
   "execution_count": 18,
   "metadata": {},
   "outputs": [
    {
     "name": "stderr",
     "output_type": "stream",
     "text": [
      "/Users/zhizhang144515/opt/anaconda3/lib/python3.11/site-packages/joblib/externals/loky/process_executor.py:700: UserWarning: A worker stopped while some jobs were given to the executor. This can be caused by a too short worker timeout or by a memory leak.\n",
      "  warnings.warn(\n"
     ]
    },
    {
     "ename": "KeyboardInterrupt",
     "evalue": "",
     "output_type": "error",
     "traceback": [
      "\u001b[0;31m---------------------------------------------------------------------------\u001b[0m",
      "\u001b[0;31mKeyboardInterrupt\u001b[0m                         Traceback (most recent call last)",
      "Cell \u001b[0;32mIn[18], line 9\u001b[0m\n\u001b[1;32m      7\u001b[0m \u001b[38;5;28;01mif\u001b[39;00m t\u001b[38;5;241m%\u001b[39msim_params[\u001b[38;5;124m\"\u001b[39m\u001b[38;5;124mdt_exact_fitness\u001b[39m\u001b[38;5;124m\"\u001b[39m] \u001b[38;5;241m==\u001b[39m \u001b[38;5;241m0\u001b[39m:\n\u001b[1;32m      8\u001b[0m     str1:\u001b[38;5;28mfloat\u001b[39m \u001b[38;5;241m=\u001b[39m time\u001b[38;5;241m.\u001b[39mtime()\n\u001b[0;32m----> 9\u001b[0m     p \u001b[38;5;241m=\u001b[39m elementwise_coverage(nh, n, kernel_conv, params, sim_params)\n\u001b[1;32m     10\u001b[0m     st2 \u001b[38;5;241m=\u001b[39m time\u001b[38;5;241m.\u001b[39mtime()\n\u001b[1;32m     11\u001b[0m     f \u001b[38;5;241m=\u001b[39m fitness_spacers(n, nh, p, params, sim_params)\n",
      "File \u001b[0;32m~/Documents/CRISPR_Sim/Long_Simulation/../Scripts/coverage.py:128\u001b[0m, in \u001b[0;36melementwise_coverage\u001b[0;34m(nh, n, kernel_quarter, params, sim_params, print_progress)\u001b[0m\n\u001b[1;32m    125\u001b[0m             ind_nh_left \u001b[38;5;241m-\u001b[39m\u001b[38;5;241m=\u001b[39m \u001b[38;5;241m1\u001b[39m\n\u001b[1;32m    126\u001b[0m     \u001b[38;5;28;01mreturn\u001b[39;00m res\n\u001b[0;32m--> 128\u001b[0m results \u001b[38;5;241m=\u001b[39m Parallel(n_jobs\u001b[38;5;241m=\u001b[39mnum_threads)(delayed(convolve_subset)\n\u001b[1;32m    129\u001b[0m     (x_ind_nh, y_ind_nh) \n\u001b[1;32m    130\u001b[0m         \u001b[38;5;28;01mfor\u001b[39;00m x_ind_nh, y_ind_nh\n\u001b[1;32m    131\u001b[0m             \u001b[38;5;129;01min\u001b[39;00m \u001b[38;5;28mzip\u001b[39m(x_nh_sets, y_nh_sets))\n\u001b[1;32m    133\u001b[0m out \u001b[38;5;241m=\u001b[39m np\u001b[38;5;241m.\u001b[39msum(results, axis\u001b[38;5;241m=\u001b[39m\u001b[38;5;241m0\u001b[39m)\n\u001b[1;32m    134\u001b[0m \u001b[38;5;28;01mreturn\u001b[39;00m out\u001b[38;5;241m/\u001b[39mM\n",
      "File \u001b[0;32m~/opt/anaconda3/lib/python3.11/site-packages/joblib/parallel.py:1098\u001b[0m, in \u001b[0;36mParallel.__call__\u001b[0;34m(self, iterable)\u001b[0m\n\u001b[1;32m   1095\u001b[0m     \u001b[38;5;28mself\u001b[39m\u001b[38;5;241m.\u001b[39m_iterating \u001b[38;5;241m=\u001b[39m \u001b[38;5;28;01mFalse\u001b[39;00m\n\u001b[1;32m   1097\u001b[0m \u001b[38;5;28;01mwith\u001b[39;00m \u001b[38;5;28mself\u001b[39m\u001b[38;5;241m.\u001b[39m_backend\u001b[38;5;241m.\u001b[39mretrieval_context():\n\u001b[0;32m-> 1098\u001b[0m     \u001b[38;5;28mself\u001b[39m\u001b[38;5;241m.\u001b[39mretrieve()\n\u001b[1;32m   1099\u001b[0m \u001b[38;5;66;03m# Make sure that we get a last message telling us we are done\u001b[39;00m\n\u001b[1;32m   1100\u001b[0m elapsed_time \u001b[38;5;241m=\u001b[39m time\u001b[38;5;241m.\u001b[39mtime() \u001b[38;5;241m-\u001b[39m \u001b[38;5;28mself\u001b[39m\u001b[38;5;241m.\u001b[39m_start_time\n",
      "File \u001b[0;32m~/opt/anaconda3/lib/python3.11/site-packages/joblib/parallel.py:975\u001b[0m, in \u001b[0;36mParallel.retrieve\u001b[0;34m(self)\u001b[0m\n\u001b[1;32m    973\u001b[0m \u001b[38;5;28;01mtry\u001b[39;00m:\n\u001b[1;32m    974\u001b[0m     \u001b[38;5;28;01mif\u001b[39;00m \u001b[38;5;28mgetattr\u001b[39m(\u001b[38;5;28mself\u001b[39m\u001b[38;5;241m.\u001b[39m_backend, \u001b[38;5;124m'\u001b[39m\u001b[38;5;124msupports_timeout\u001b[39m\u001b[38;5;124m'\u001b[39m, \u001b[38;5;28;01mFalse\u001b[39;00m):\n\u001b[0;32m--> 975\u001b[0m         \u001b[38;5;28mself\u001b[39m\u001b[38;5;241m.\u001b[39m_output\u001b[38;5;241m.\u001b[39mextend(job\u001b[38;5;241m.\u001b[39mget(timeout\u001b[38;5;241m=\u001b[39m\u001b[38;5;28mself\u001b[39m\u001b[38;5;241m.\u001b[39mtimeout))\n\u001b[1;32m    976\u001b[0m     \u001b[38;5;28;01melse\u001b[39;00m:\n\u001b[1;32m    977\u001b[0m         \u001b[38;5;28mself\u001b[39m\u001b[38;5;241m.\u001b[39m_output\u001b[38;5;241m.\u001b[39mextend(job\u001b[38;5;241m.\u001b[39mget())\n",
      "File \u001b[0;32m~/opt/anaconda3/lib/python3.11/site-packages/joblib/_parallel_backends.py:567\u001b[0m, in \u001b[0;36mLokyBackend.wrap_future_result\u001b[0;34m(future, timeout)\u001b[0m\n\u001b[1;32m    564\u001b[0m \u001b[38;5;250m\u001b[39m\u001b[38;5;124;03m\"\"\"Wrapper for Future.result to implement the same behaviour as\u001b[39;00m\n\u001b[1;32m    565\u001b[0m \u001b[38;5;124;03mAsyncResults.get from multiprocessing.\"\"\"\u001b[39;00m\n\u001b[1;32m    566\u001b[0m \u001b[38;5;28;01mtry\u001b[39;00m:\n\u001b[0;32m--> 567\u001b[0m     \u001b[38;5;28;01mreturn\u001b[39;00m future\u001b[38;5;241m.\u001b[39mresult(timeout\u001b[38;5;241m=\u001b[39mtimeout)\n\u001b[1;32m    568\u001b[0m \u001b[38;5;28;01mexcept\u001b[39;00m CfTimeoutError \u001b[38;5;28;01mas\u001b[39;00m e:\n\u001b[1;32m    569\u001b[0m     \u001b[38;5;28;01mraise\u001b[39;00m \u001b[38;5;167;01mTimeoutError\u001b[39;00m \u001b[38;5;28;01mfrom\u001b[39;00m \u001b[38;5;21;01me\u001b[39;00m\n",
      "File \u001b[0;32m~/opt/anaconda3/lib/python3.11/concurrent/futures/_base.py:451\u001b[0m, in \u001b[0;36mFuture.result\u001b[0;34m(self, timeout)\u001b[0m\n\u001b[1;32m    448\u001b[0m \u001b[38;5;28;01melif\u001b[39;00m \u001b[38;5;28mself\u001b[39m\u001b[38;5;241m.\u001b[39m_state \u001b[38;5;241m==\u001b[39m FINISHED:\n\u001b[1;32m    449\u001b[0m     \u001b[38;5;28;01mreturn\u001b[39;00m \u001b[38;5;28mself\u001b[39m\u001b[38;5;241m.\u001b[39m__get_result()\n\u001b[0;32m--> 451\u001b[0m \u001b[38;5;28mself\u001b[39m\u001b[38;5;241m.\u001b[39m_condition\u001b[38;5;241m.\u001b[39mwait(timeout)\n\u001b[1;32m    453\u001b[0m \u001b[38;5;28;01mif\u001b[39;00m \u001b[38;5;28mself\u001b[39m\u001b[38;5;241m.\u001b[39m_state \u001b[38;5;129;01min\u001b[39;00m [CANCELLED, CANCELLED_AND_NOTIFIED]:\n\u001b[1;32m    454\u001b[0m     \u001b[38;5;28;01mraise\u001b[39;00m CancelledError()\n",
      "File \u001b[0;32m~/opt/anaconda3/lib/python3.11/threading.py:320\u001b[0m, in \u001b[0;36mCondition.wait\u001b[0;34m(self, timeout)\u001b[0m\n\u001b[1;32m    318\u001b[0m \u001b[38;5;28;01mtry\u001b[39;00m:    \u001b[38;5;66;03m# restore state no matter what (e.g., KeyboardInterrupt)\u001b[39;00m\n\u001b[1;32m    319\u001b[0m     \u001b[38;5;28;01mif\u001b[39;00m timeout \u001b[38;5;129;01mis\u001b[39;00m \u001b[38;5;28;01mNone\u001b[39;00m:\n\u001b[0;32m--> 320\u001b[0m         waiter\u001b[38;5;241m.\u001b[39macquire()\n\u001b[1;32m    321\u001b[0m         gotit \u001b[38;5;241m=\u001b[39m \u001b[38;5;28;01mTrue\u001b[39;00m\n\u001b[1;32m    322\u001b[0m     \u001b[38;5;28;01melse\u001b[39;00m:\n",
      "\u001b[0;31mKeyboardInterrupt\u001b[0m: "
     ]
    }
   ],
   "source": [
    "while(t < sim_params[\"tf\"]):\n",
    "\n",
    "    if t%sim_params[\"dt_snapshot\"] == 0:\n",
    "        sparse.save_npz(foldername+f\"/sp_frame_n{t}\",n.tocoo())\n",
    "        sparse.save_npz(foldername+f\"/sp_frame_nh{t}\",nh.tocoo()) \n",
    "\n",
    "    if t%sim_params[\"dt_exact_fitness\"] == 0:\n",
    "        str1:float = time.time()\n",
    "        p = elementwise_coverage(nh, n, kernel_conv, params, sim_params)\n",
    "        sparse.save_npz(foldername+f\"/sp_frame_p{t}\",p.tocoo())\n",
    "        st2 = time.time()\n",
    "        f = fitness_spacers(n, nh, p, params, sim_params)\n",
    "        sparse.save_npz(foldername+f\"/sp_frame_f{t}\", f.tocoo())\n",
    "        f = norm_fitness(f, n, params, sim_params) #renormalize f\n",
    "\n",
    "    else:\n",
    "        st1 = time.time()\n",
    "        raise NotImplementedError(\"dt_fast_fitness better be 1\")\n",
    "\n",
    "    n = virus_growth(n, f, params, sim_params, True) #update\n",
    "            \n",
    "    if (np.sum(n) <= 0) or (np.sum(n) >= (1/2)*np.sum(nh)):\n",
    "        with open(foldername+'/runtime_stats.txt','a') as file:\n",
    "            outstring = f\"DEAD at: {t}| N: {np.sum(n)}| Coverage: {time_conv(st2-st1)}| Growth: {time_conv(st3-st2)}| Mutation: {time_conv(st4-st3)}| Immunity: {time_conv(ed-st4)}| Shift Amount: {np.linalg.norm(shift_vector)} \\n\"\n",
    "            file.write(outstring)\n",
    "\n",
    "    st3 = time.time()\n",
    "    n = mutation(n, params, sim_params)\n",
    "\n",
    "    st4 = time.time()\n",
    "    nh_prev = nh\n",
    "\n",
    "    params, sim_params, num_to_add, num_to_remove = HGT_logistic_event(t, n, params, sim_params)\n",
    "    nh_gain = immunity_gain_from_kernel(nh, n, kernel_immunity, params, sim_params, num_to_add) #update nh\n",
    "    nh = immunity_loss_uniform(nh_gain, n, params, sim_params, num_to_remove)\n",
    "            \n",
    "    diff_of_acquisition = num_to_add-num_to_remove\n",
    "    shift_vector = compute_shift(nh, nh_prev, \"max\")\n",
    "    ed = time.time()\n",
    "\n",
    "    with open(foldername+'/runtime_stats.txt','a') as file:\n",
    "        M = params[\"M\"]\n",
    "        outstring = f\"t: {t}| N: {np.sum(n)}| Coverage: {time_conv(st2-st1)}| Growth: {time_conv(st3-st2)}| Mutation: {time_conv(st4-st3)}| Immunity: {time_conv(ed-st4)}| M: {M:.4f}| Net_Acq_Diff: {diff_of_acquisition:.4f}| Shift Amount: {np.linalg.norm(shift_vector):.4f} \\n\"\n",
    "        file.write(outstring)\n",
    "\n",
    "    t += sim_params[\"dt\"]"
   ]
  },
  {
   "cell_type": "code",
   "execution_count": 54,
   "metadata": {},
   "outputs": [
    {
     "data": {
      "text/plain": [
       "707"
      ]
     },
     "execution_count": 54,
     "metadata": {},
     "output_type": "execute_result"
    }
   ],
   "source": [
    "num_to_remove"
   ]
  },
  {
   "cell_type": "code",
   "execution_count": 58,
   "metadata": {},
   "outputs": [
    {
     "data": {
      "text/plain": [
       "306318.99999999994"
      ]
     },
     "execution_count": 58,
     "metadata": {},
     "output_type": "execute_result"
    }
   ],
   "source": [
    "params[\"M\"]*params[\"Nh\"]"
   ]
  },
  {
   "cell_type": "code",
   "execution_count": 53,
   "metadata": {},
   "outputs": [
    {
     "data": {
      "text/plain": [
       "307040"
      ]
     },
     "execution_count": 53,
     "metadata": {},
     "output_type": "execute_result"
    }
   ],
   "source": [
    "np.abs(np.sum(nh))"
   ]
  },
  {
   "cell_type": "code",
   "execution_count": 25,
   "metadata": {},
   "outputs": [],
   "source": [
    "foldername = \"../Data/test13\"\n",
    "with open(foldername + \"/params.json\") as json_file:\n",
    "    params = json.load(json_file)\n",
    "with open(foldername + \"/sim_params.json\") as json_file:\n",
    "    sim_params = json.load(json_file)\n",
    "\n",
    "i = 999\n",
    "kernel_quarter = init_quarter_kernel(params, sim_params)\n",
    "\n",
    "n = sparse.load_npz(foldername+f\"/sp_frame_n{i}.npz\").todok()\n",
    "nh = sparse.load_npz(foldername+f\"/sp_frame_nh{i}.npz\").todok()"
   ]
  },
  {
   "cell_type": "code",
   "execution_count": 26,
   "metadata": {},
   "outputs": [
    {
     "name": "stdout",
     "output_type": "stream",
     "text": [
      "elementwise_coverage took 00:00:37\n"
     ]
    }
   ],
   "source": [
    "p = elementwise_coverage(nh, n, kernel_quarter, params, sim_params)\n",
    "f = fitness_spacers(n, nh, p, params, sim_params) #f is now a masked array (where mask is where eff_R0 = 0)\n",
    "f = norm_fitness(f, n, params, sim_params)"
   ]
  },
  {
   "cell_type": "code",
   "execution_count": 33,
   "metadata": {},
   "outputs": [],
   "source": [
    "a = np.nonzero(f_squash)"
   ]
  },
  {
   "cell_type": "code",
   "execution_count": 46,
   "metadata": {},
   "outputs": [
    {
     "data": {
      "text/plain": [
       "<matplotlib.legend.Legend at 0x7ae59d951d90>"
      ]
     },
     "execution_count": 46,
     "metadata": {},
     "output_type": "execute_result"
    },
    {
     "data": {
      "image/png": "[encoded data removed]",
      "text/plain": [
       "<Figure size 640x480 with 1 Axes>"
      ]
     },
     "metadata": {},
     "output_type": "display_data"
    }
   ],
   "source": [
    "from supMethods import read_json\n",
    "\n",
    "\n",
    "plt.figure()\n",
    "foldername = \"../Data_Mutation_Large/mu_1_seed0\"\n",
    "params, sim_params = read_json(foldername)\n",
    "\n",
    "i = 999\n",
    "n = sparse.load_npz(foldername+f\"/sp_frame_n{i}.npz\")\n",
    "n_squash = np.flip(np.sum(n.toarray(), axis = 0)[9080:9200])\n",
    "nonzero_ind = np.nonzero(n_squash)[0]\n",
    "\n",
    "plt.plot(minmax_norm(n_squash), color = 'red')\n",
    "\n",
    "f = sparse.load_npz(foldername+f\"/sp_frame_f{i}.npz\").todok()\n",
    "f = norm_fitness(f, n, params, sim_params)\n",
    "f_squash = np.flip(np.sum(f.toarray(), axis = 0)[9080:9200])\n",
    "nonzero_ind = np.nonzero(f_squash)[0]\n",
    "\n",
    "plt.plot(nonzero_ind, f_squash[nonzero_ind], color = 'black', linestyle = '--', label = 'Phage Fitness Profile')\n",
    "\n",
    "nh = sparse.load_npz(foldername+f\"/sp_frame_nh{i}.npz\").todok()\n",
    "nh_squash = np.flip(np.sum(nh.toarray(), axis = 0)[9080:9200])\n",
    "\n",
    "plt.hlines(0, 0, 120, color = \"black\")\n",
    "\n",
    "plt.plot(minmax_norm(nh_squash), color = 'blue')\n",
    "x_range = range(len(nh_squash))\n",
    "plt.fill_between(x_range, minmax_norm(nh_squash),color = 'blue', alpha = 0.5)\n",
    "plt.fill_between(x_range, minmax_norm(n_squash),color = 'red', alpha = 0.5)\n",
    "\n",
    "plt.xticks([])  # Remove x-axis ticks\n",
    "plt.yticks([])  # Remove y-axis ticks\n",
    "plt.axis('off')\n",
    "plt.legend()"
   ]
  },
  {
   "cell_type": "code",
   "execution_count": null,
   "metadata": {},
   "outputs": [],
   "source": [
    "R0_sweep = [20]\n",
    "kernel = init_quarter_kernel(params, sim_params)\n",
    "foldername = \"test0/\"\n",
    "write2json(foldername, params, sim_params)\n",
    "\n",
    "for R0 in R0_sweep:\n",
    "    params[\"R0\"] = R0\n",
    "    n = init_guassian(params[\"N\"], sim_params, \"n\")\n",
    "    nh = init_guassian(params[\"Nh\"], sim_params, \"nh\")\n",
    "\n",
    "    for i in range(10000):\n",
    "\n",
    "        if (i%100 == 0 or i < 20):\n",
    "            sparse.save_npz(foldername+f\"/sp_frame_n{i}\",n.tocoo())\n",
    "            sparse.save_npz(foldername+f\"/sp_frame_nh{i}\",nh.tocoo())\n",
    "\n",
    "        p = elementwise_coverage(nh, n, kernel, params, sim_params)\n",
    "        f = fitness_spacers(n, nh, p, params, sim_params) #f is now a masked array (where mask is where eff_R0 = 0)\n",
    "        # f = norm_fitness(f, n, params, sim_params)\n",
    "        n = virus_growth(n, f, params, sim_params) #update\n",
    "\n",
    "        n = mutation(n, params, sim_params)\n",
    "        nh = immunity_update(nh, n, params, sim_params) #update nh\n",
    "\n",
    "        if np.sum(n) >= 10*params[\"Nh\"]:\n",
    "            break"
   ]
  }
 ],
 "metadata": {
  "kernelspec": {
   "display_name": "base",
   "language": "python",
   "name": "python3"
  },
  "language_info": {
   "codemirror_mode": {
    "name": "ipython",
    "version": 3
   },
   "file_extension": ".py",
   "mimetype": "text/x-python",
   "name": "python",
   "nbconvert_exporter": "python",
   "pygments_lexer": "ipython3",
   "version": "3.11.5"
  },
  "orig_nbformat": 4,
  "vscode": {
   "interpreter": {
    "hash": "b5da1a19760c645bef876c945e2def5171d007c0fd3f14585be32e516ddabd56"
   }
  }
 },
 "nbformat": 4,
 "nbformat_minor": 2
}
