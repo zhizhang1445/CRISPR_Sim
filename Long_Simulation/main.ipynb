{
 "cells": [
  {
   "cell_type": "code",
   "execution_count": 76,
   "metadata": {},
   "outputs": [],
   "source": [
    "import numpy as np\n",
    "import matplotlib.pyplot as plt\n",
    "import numpy.random as random\n",
    "from scipy.signal import convolve\n",
    "import scipy\n",
    "from joblib import Parallel, delayed\n",
    "import time\n",
    "from scipy import sparse\n",
    "import json\n",
    "from tqdm import tqdm, tqdm_notebook\n",
    "import os\n",
    "\n",
    "%run ../Scripts/coverage.py\n",
    "%run ../Scripts/fitness.py\n",
    "%run ../Scripts/immunity.py\n",
    "%run ../Scripts/initMethods.py\n",
    "%run ../Scripts/supMethods.py\n",
    "%run ../Scripts/mutation.py"
   ]
  },
  {
   "cell_type": "code",
   "execution_count": 78,
   "metadata": {},
   "outputs": [],
   "source": [
    "params = { #parameters relevant for the equations\n",
    "    \"Nh\":           10E8,\n",
    "    \"N0\":            10E7, #This Will be updated by self-consitent solution\n",
    "    \"R0\":              20, \n",
    "    \"M\":                1, #Also L, total number of spacers\n",
    "    \"mu\":            0.01, #mutation rate\n",
    "    \"gamma_shape\":     20, \n",
    "    \"Np\":               0, #Number of Cas Protein\n",
    "    \"dc\":               3, #Required number of complexes to activate defence\n",
    "    \"h\":                4, #coordination coeff\n",
    "    \"r\":             2000, #cross-reactivity kernel\n",
    "}\n",
    "sim_params = { #parameters relevant for the simulation (including Inital Valuess)\n",
    "    \"xdomain\":                   1000,\n",
    "    \"dx\":                           1,\n",
    "    \"tf\":                        1000,\n",
    "    \"dt\":                           1,\n",
    "    \"initial_mean_n\":           [0,0],\n",
    "    \"initial_mean_nh\":          [0,0],\n",
    "    \"conv_size\":                 4000,\n",
    "    \"num_threads\":                 32,\n",
    "    \"tail_axis\":               [1, 1],\n",
    "}"
   ]
  },
  {
   "cell_type": "code",
   "execution_count": 79,
   "metadata": {},
   "outputs": [
    {
     "name": "stdout",
     "output_type": "stream",
     "text": [
      "Phage Population: 100000000.0000| Uc: 12.3719| sigma: 2.7195\n",
      "Phage Population: 667465.8400| Uc: 9.1587| sigma: 2.5226\n",
      "Phage Population: 574284.5005| Uc: 9.0539| sigma: 2.5153\n",
      "Phage Population: 570990.3443| Uc: 9.0499| sigma: 2.5150\n",
      "Phage Population: 570863.5594| Uc: 9.0498| sigma: 2.5150\n",
      "Phage Population: 570858.6639| Uc: 9.0498| sigma: 2.5150\n",
      "Phage Population: 570858.4749| Uc: 9.0498| sigma: 2.5150\n"
     ]
    }
   ],
   "source": [
    "params, sim_params = init_cond(params, sim_params)\n",
    "foldername = \"test1/\"\n",
    "try:\n",
    "    write2json(foldername, params, sim_params)\n",
    "except FileNotFoundError:\n",
    "    os.mkdir(foldername)\n",
    "    write2json(foldername, params, sim_params)\n"
   ]
  },
  {
   "cell_type": "code",
   "execution_count": null,
   "metadata": {},
   "outputs": [],
   "source": [
    "n = init_guassian(params[\"N\"], sim_params, \"n\")\n",
    "nh = init_exptail(params[\"Nh\"], params, sim_params, \"nh\")\n"
   ]
  },
  {
   "cell_type": "code",
   "execution_count": 75,
   "metadata": {},
   "outputs": [
    {
     "name": "stdout",
     "output_type": "stream",
     "text": [
      "Phage Population: 100.0000| Uc: nan| sigma: nan\n"
     ]
    },
    {
     "name": "stderr",
     "output_type": "stream",
     "text": [
      "/Users/zhizhang144515/Documents/CRISPR_Sim/Scripts/initMethods.py:23: RuntimeWarning: invalid value encountered in power\n",
      "  sigma = np.power(D/s, 1/3)*np.power(common_log, 1/6)\n",
      "/Users/zhizhang144515/Documents/CRISPR_Sim/Scripts/initMethods.py:24: RuntimeWarning: invalid value encountered in power\n",
      "  v0 = np.power(s, 1/3)*np.power(D, 2/3)*np.power(common_log, 1/3)\n"
     ]
    },
    {
     "ename": "ValueError",
     "evalue": "You need 10E6 Nh or 10E3 N0",
     "output_type": "error",
     "traceback": [
      "\u001b[0;31m---------------------------------------------------------------------------\u001b[0m",
      "\u001b[0;31mValueError\u001b[0m                                Traceback (most recent call last)",
      "Cell \u001b[0;32mIn[75], line 13\u001b[0m\n\u001b[1;32m     10\u001b[0m \u001b[39mprint\u001b[39m(\u001b[39mf\u001b[39m\u001b[39m\"\u001b[39m\u001b[39mPhage Population: \u001b[39m\u001b[39m{\u001b[39;00mN0\u001b[39m:\u001b[39;00m\u001b[39m.4f\u001b[39m\u001b[39m}\u001b[39;00m\u001b[39m| Uc: \u001b[39m\u001b[39m{\u001b[39;00muc\u001b[39m:\u001b[39;00m\u001b[39m.4f\u001b[39m\u001b[39m}\u001b[39;00m\u001b[39m| sigma: \u001b[39m\u001b[39m{\u001b[39;00msigma\u001b[39m:\u001b[39;00m\u001b[39m.4f\u001b[39m\u001b[39m}\u001b[39;00m\u001b[39m\"\u001b[39m)\n\u001b[1;32m     12\u001b[0m \u001b[39mif\u001b[39;00m np\u001b[39m.\u001b[39misnan(uc) \u001b[39mor\u001b[39;00m np\u001b[39m.\u001b[39misnan(sigma):\n\u001b[0;32m---> 13\u001b[0m     \u001b[39mraise\u001b[39;00m(\u001b[39mValueError\u001b[39;00m(\u001b[39m\"\u001b[39m\u001b[39mYou need 10E6 Nh or 10E3 N0\u001b[39m\u001b[39m\"\u001b[39m))\n\u001b[1;32m     15\u001b[0m N \u001b[39m=\u001b[39m Nh\u001b[39m*\u001b[39m(params[\u001b[39m\"\u001b[39m\u001b[39ms\u001b[39m\u001b[39m\"\u001b[39m]\u001b[39m*\u001b[39mparams[\u001b[39m\"\u001b[39m\u001b[39mv0\u001b[39m\u001b[39m\"\u001b[39m])\n\u001b[1;32m     16\u001b[0m params[\u001b[39m\"\u001b[39m\u001b[39mN\u001b[39m\u001b[39m\"\u001b[39m] \u001b[39m=\u001b[39m N\n",
      "\u001b[0;31mValueError\u001b[0m: You need 10E6 Nh or 10E3 N0"
     ]
    }
   ],
   "source": [
    "Nh = params[\"Nh\"]\n",
    "N0 = params[\"N0\"]\n",
    "params[\"N\"] = N0\n",
    "\n",
    "for i in range(100):\n",
    "    params, sim_params = fill_parameters(params, sim_params)\n",
    "    N0 = params[\"N\"]\n",
    "    uc = params[\"uc\"]\n",
    "    sigma = params[\"sigma\"]\n",
    "    print(f\"Phage Population: {N0:.4f}| Uc: {uc:.4f}| sigma: {sigma:.4f}\")\n",
    "\n",
    "    if np.isnan(uc) or np.isnan(sigma):\n",
    "        raise(ValueError(\"You need >10E6 Nh or >10E3 N0\"))\n",
    "\n",
    "    N = Nh*(params[\"s\"]*params[\"v0\"])\n",
    "    params[\"N\"] = N\n",
    "    if np.abs(N0-N) <= 0.5:\n",
    "        params[\"N\"] = int(N)\n",
    "        params, sim_params = fill_parameters(params, sim_params)\n",
    "        uc = params[\"uc\"]\n",
    "        sigma = params[\"sigma\"]\n",
    "        print(f\"Phage Population: {N:.4f}| Uc: {uc:.4f}| sigma: {sigma:.4f}\")\n",
    "        break"
   ]
  },
  {
   "cell_type": "code",
   "execution_count": 59,
   "metadata": {},
   "outputs": [
    {
     "data": {
      "image/png": "[encoded data removed]",
      "text/plain": [
       "<Figure size 640x480 with 1 Axes>"
      ]
     },
     "metadata": {},
     "output_type": "display_data"
    }
   ],
   "source": [
    "plt.figure()\n",
    "plt.contour(n.todense(), cmap = \"Reds\")\n",
    "plt.contour(nh.todense(), cmap = \"Blues\")\n",
    "plt.margins(-0.4, -0.4)\n",
    "plt.show()"
   ]
  },
  {
   "cell_type": "code",
   "execution_count": null,
   "metadata": {},
   "outputs": [],
   "source": [
    "n = init_guassian(params[\"N0\"], sim_params, \"n\")\n",
    "nh = init_exptail(params[\"Nh\"], params, sim_params, \"nh\")\n",
    "kernel_quarter = init_quarter_kernel(params, sim_params)\n",
    "\n",
    "for i in range(sim_params[\"tf\"]):\n",
    "    sparse.save_npz(foldername+f\"sp_frame_n{i}\",n.tocoo())\n",
    "    sparse.save_npz(foldername+f\"sp_frame_nh{i}\",nh.tocoo())\n",
    "\n",
    "    p = elementwise_coverage(nh, n, kernel, params, sim_params)\n",
    "    f = fitness_spacers(n, nh, p, params, sim_params) #f is now a masked array (where mask is where eff_R0 = 0)\n",
    "    f = norm_fitness(f, n, params, sim_params) #renormalize f\n",
    "    n = virus_growth(n, f, params, sim_params) #update\n",
    "\n",
    "    n = mutation(n, params, sim_params)\n",
    "    nh = immunity_update(nh, n, params, sim_params) #update nh"
   ]
  },
  {
   "cell_type": "code",
   "execution_count": null,
   "metadata": {},
   "outputs": [],
   "source": [
    "R0_sweep = [20]\n",
    "kernel = init_quarter_kernel(params, sim_params)\n",
    "foldername = \"test0/\"\n",
    "write2json(foldername, params, sim_params)\n",
    "\n",
    "for R0 in R0_sweep:\n",
    "    params[\"R0\"] = R0\n",
    "    n = init_guassian(params[\"N\"], sim_params, \"n\")\n",
    "    nh = init_guassian(params[\"Nh\"], sim_params, \"nh\")\n",
    "\n",
    "    for i in range(10000):\n",
    "\n",
    "        if (i%100 == 0 or i < 20):\n",
    "            sparse.save_npz(foldername+f\"sp_frame_n{i}\",n.tocoo())\n",
    "            sparse.save_npz(foldername+f\"sp_frame_nh{i}\",nh.tocoo())\n",
    "\n",
    "        p = elementwise_coverage(nh, n, kernel, params, sim_params)\n",
    "        f = fitness_spacers(n, nh, p, params, sim_params) #f is now a masked array (where mask is where eff_R0 = 0)\n",
    "        # f = norm_fitness(f, n, params, sim_params)\n",
    "        n = virus_growth(n, f, params, sim_params) #update\n",
    "\n",
    "        n = mutation(n, params, sim_params)\n",
    "        nh = immunity_update(nh, n, params, sim_params) #update nh\n",
    "\n",
    "        if np.sum(n) >= 10*params[\"Nh\"]:\n",
    "            break"
   ]
  }
 ],
 "metadata": {
  "kernelspec": {
   "display_name": "base",
   "language": "python",
   "name": "python3"
  },
  "language_info": {
   "codemirror_mode": {
    "name": "ipython",
    "version": 3
   },
   "file_extension": ".py",
   "mimetype": "text/x-python",
   "name": "python",
   "nbconvert_exporter": "python",
   "pygments_lexer": "ipython3",
   "version": "3.9.7"
  },
  "orig_nbformat": 4,
  "vscode": {
   "interpreter": {
    "hash": "b5da1a19760c645bef876c945e2def5171d007c0fd3f14585be32e516ddabd56"
   }
  }
 },
 "nbformat": 4,
 "nbformat_minor": 2
}
