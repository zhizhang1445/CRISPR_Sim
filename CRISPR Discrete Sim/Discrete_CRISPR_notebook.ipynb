{
 "cells": [
  {
   "cell_type": "code",
   "execution_count": 1,
   "metadata": {},
   "outputs": [],
   "source": [
    "import numpy as np\n",
    "import numpy.ma as ma\n",
    "import pandas as pd\n",
    "import matplotlib.pyplot as plt\n",
    "import copy\n",
    "from scipy.ndimage import convolve\n",
    "import matplotlib.animation as animation\n",
    "import warnings\n",
    "import json\n",
    "import scipy\n",
    "import os\n",
    "\n",
    "import discrete_CRISPR_methods as ds"
   ]
  },
  {
   "cell_type": "code",
   "execution_count": 8,
   "metadata": {},
   "outputs": [],
   "source": [
    "params = { #parameters relevant for the equations\n",
    "    \"Nh\":            1000,\n",
    "    \"N0\":           10000,\n",
    "    \"R0\":             10,\n",
    "    \"M\":              100, #Also L, total number of spacers\n",
    "    \"D\":                3, #Unused\n",
    "    \"mu\":             0.1, #mutation rate\n",
    "    \"gamma_shape\":     20, \n",
    "    \"Np\":              10, #Number of Cas Protein\n",
    "    \"dc\":               8, #Required number of complexes to activate defence\n",
    "    \"h\":               10, #coordination coeff\n",
    "    \"r\":             0.5, #cross-reactivity kernel\n",
    "}\n",
    "sim_params = { #parameters relevant for the simulation (including Inital Valuess)\n",
    "    \"xdomain\":                   10,\n",
    "    \"dx\":                         1,\n",
    "    \"t0\":                         0, \n",
    "    \"tf\":                      1000,\n",
    "    \"dt\":                       0.1,\n",
    "    \"noise_mean\":                 0,\n",
    "    \"noise_std\":                0.1,\n",
    "    \"initial_mean\":           [0,0],\n",
    "    \"initial_var\":                5,\n",
    "    \"n_step_prior\":               5,\n",
    "    \"folder_name\":  \"simulation#11/\",\n",
    "    \"conv_size\":                  1,\n",
    "}"
   ]
  },
  {
   "cell_type": "code",
   "execution_count": 9,
   "metadata": {},
   "outputs": [],
   "source": [
    "x_range = sim_params[\"xdomain\"] #Initialize the spaces\n",
    "dx = sim_params[\"dx\"]\n",
    "x_linspace = np.arange(-x_range, x_range, dx)\n",
    "x_size = np.size(x_linspace)\n",
    "sim_params[\"x_size\"] = x_size\n",
    "\n",
    "t_size = (sim_params[\"tf\"]-sim_params[\"t0\"])/sim_params[\"dt\"]\n",
    "\n",
    "s = np.zeros([x_size, x_size], dtype=int)\n",
    "n = np.zeros([x_size, x_size], dtype=int) \n",
    "nh = np.zeros([x_size, x_size], dtype=int) #nh(x,t) = Nh*h(x,t) there should be a total of Nh*M elements \n",
    "coordmap = np.meshgrid(x_linspace, x_linspace) #coordmap is kinda stupid since we are not in any real space\n",
    "c = nh.copy() # c is unused (supposed to be coverage)"
   ]
  },
  {
   "cell_type": "code",
   "execution_count": 10,
   "metadata": {},
   "outputs": [
    {
     "data": {
      "text/plain": [
       "<matplotlib.image.AxesImage at 0x7f80392ad910>"
      ]
     },
     "execution_count": 10,
     "metadata": {},
     "output_type": "execute_result"
    },
    {
     "data": {
      "image/png": "[encoded data removed]",
      "text/plain": [
       "<Figure size 432x288 with 1 Axes>"
      ]
     },
     "metadata": {
      "needs_background": "light"
     },
     "output_type": "display_data"
    }
   ],
   "source": [
    "n0 = np.zeros(n.size, dtype=int) #Initial value of n0, initialized with a gaussian distributed\n",
    "\n",
    "N0 = int(params[\"N0\"])\n",
    "initial_position = sim_params[\"initial_mean\"]\n",
    "initial_var = sim_params[\"initial_var\"]\n",
    "\n",
    "x_map = coordmap[0]\n",
    "y_map = coordmap[1]\n",
    "\n",
    "rsqrd = (x_map-initial_position[0])**2 + (y_map-initial_position[0])**2\n",
    "\n",
    "p0 = np.exp(-rsqrd/(2*(initial_var**2)))\n",
    "p0 = p0/np.sum(p0) # initial prob distribution for n: Gaussian dist\n",
    "\n",
    "p0 = p0.ravel()\n",
    "\n",
    "for i in range(N0):\n",
    "    index = np.random.choice(n.size, p=p0) #Should really have a better way of doing this, this is extremely slow: maybe MPI?\n",
    "    n0[index] += 1\n",
    "\n",
    "n = copy.deepcopy(n0.reshape(n.shape)) #Make a deepcopy to seperate the two functions\n",
    "plt.figure()\n",
    "plt.imshow(n)"
   ]
  },
  {
   "cell_type": "code",
   "execution_count": 11,
   "metadata": {},
   "outputs": [
    {
     "data": {
      "text/plain": [
       "<matplotlib.image.AxesImage at 0x7f8049e12fd0>"
      ]
     },
     "execution_count": 11,
     "metadata": {},
     "output_type": "execute_result"
    },
    {
     "data": {
      "image/png": "[encoded data removed]",
      "text/plain": [
       "<Figure size 432x288 with 1 Axes>"
      ]
     },
     "metadata": {
      "needs_background": "light"
     },
     "output_type": "display_data"
    }
   ],
   "source": [
    "nh0 = np.zeros(nh.size, dtype=int) #Similarly, this is the initial value for nh\n",
    "\n",
    "Nh = int(params[\"Nh\"])\n",
    "M = int(params[\"M\"])\n",
    "\n",
    "initial_position = sim_params[\"initial_mean\"]\n",
    "initial_var = 10*sim_params[\"initial_var\"] #just 10 times the variance of n0, maybe change this?\n",
    "\n",
    "x_map = coordmap[0]\n",
    "y_map = coordmap[1]\n",
    "\n",
    "rsqrd = (x_map-initial_position[0])**2 + (y_map-initial_position[0])**2\n",
    "\n",
    "p0 = np.exp(-rsqrd/(2*(initial_var**2)))\n",
    "p0 = p0/np.sum(p0) # initial prob distribution for n: Gaussian dist\n",
    "\n",
    "p0 = p0.ravel()\n",
    "\n",
    "for i in range(Nh*M):\n",
    "    index = np.random.choice(nh.size, p=p0) #similarly, this is really slow\n",
    "    nh0[index] += 1\n",
    "\n",
    "nh = copy.deepcopy(nh0.reshape(nh.shape))\n",
    "plt.figure()\n",
    "plt.imshow(nh)"
   ]
  },
  {
   "cell_type": "code",
   "execution_count": 12,
   "metadata": {},
   "outputs": [],
   "source": [
    "nh = nh0.reshape(nh.shape)\n",
    "n = n0.reshape(n.shape) # In time \n",
    "\n",
    "t_start = sim_params[\"t0\"] #Time parameters\n",
    "t_stop = sim_params[\"tf\"]\n",
    "t_step = sim_params[\"dt\"]\n",
    "\n",
    "frames_n = [] #Store the frames as gifs\n",
    "frames_nh = []\n",
    "frames_f = []\n",
    "times = []\n",
    "\n",
    "N = []\n",
    "\n",
    "for t in np.arange(t_start, t_stop, t_step):\n",
    "\n",
    "    f = ds.fitness_spacers(n, nh, params, sim_params) #f is now a masked array (where mask is where eff_R0 = 0)\n",
    "    n = ds.virus_growth(n, f, params, sim_params) #update\n",
    "    n = ds.mutation(n, params, sim_params)\n",
    "\n",
    "    nh = ds.immunity_gain(nh, n) #update nh\n",
    "    nh = ds.immunity_loss(nh, n)\n",
    "\n",
    "    current_N = np.sum(n)\n",
    "    current_Nh = np.sum(nh)\n",
    "    \n",
    "    frames_nh.append([nh])\n",
    "    frames_f.append([f])\n",
    "    frames_n.append([n])\n",
    "    times.append([t])\n",
    "    N.append([current_N])\n",
    "\n",
    "    n_step_prior = sim_params[\"n_step_prior\"]\n",
    "\n",
    "    if (current_N > current_Nh/2) and (t > (t_stop - t_start)/2):\n",
    "        print(\"Population Reset\")\n",
    "        break\n",
    "\n",
    "    if (current_N == 0):\n",
    "        print(\"Population Death\")\n",
    "        break"
   ]
  },
  {
   "cell_type": "code",
   "execution_count": 8,
   "metadata": {},
   "outputs": [
    {
     "data": {
      "image/png": "[encoded data removed]",
      "text/plain": [
       "<Figure size 432x288 with 1 Axes>"
      ]
     },
     "metadata": {
      "needs_background": "light"
     },
     "output_type": "display_data"
    },
    {
     "data": {
      "image/png": "[encoded data removed]",
      "text/plain": [
       "<Figure size 432x288 with 1 Axes>"
      ]
     },
     "metadata": {
      "needs_background": "light"
     },
     "output_type": "display_data"
    },
    {
     "data": {
      "image/png": "[encoded data removed]",
      "text/plain": [
       "<Figure size 432x288 with 1 Axes>"
      ]
     },
     "metadata": {
      "needs_background": "light"
     },
     "output_type": "display_data"
    }
   ],
   "source": [
    "sim_params[\"folder_name\"] = \"Test\"\n",
    "os.mkdir(sim_params[\"folder_name\"])\n",
    "os.chdir(sim_params[\"folder_name\"])\n",
    "\n",
    "ds.write2json(\"\", params, sim_params)\n",
    "ds.makeGif(frames_n, \"n_simulation\")\n",
    "ds.makeGif(frames_nh, \"nh_simulation\")\n",
    "ds.makeGif(frames_f, \"f_simulation\")\n",
    "\n",
    "os.chdir(\"../\")"
   ]
  },
  {
   "cell_type": "code",
   "execution_count": 7,
   "metadata": {},
   "outputs": [],
   "source": [
    "def update(n, nh):\n",
    "\n",
    "    f = ds.fitness(nh, params, sim_params) #f is now a masked array (where mask is where eff_R0 = 0)\n",
    "    n = ds.virus_growth(n, f, params, sim_params) #update n\n",
    "    n = ds.mutation(n, params, sim_params)\n",
    "\n",
    "    nh = ds.immunity_gain(nh, n) #update nh\n",
    "    nh = ds.immunity_loss(nh, n)\n",
    "\n",
    "    return n, nh"
   ]
  },
  {
   "cell_type": "code",
   "execution_count": 85,
   "metadata": {},
   "outputs": [],
   "source": [
    "def binomial_pdf(n, x, p):\n",
    "    multiplicity = scipy.special.binom(n, x)\n",
    "    bernouilli = (p**x)*((1-p)**(n-x))\n",
    "    return multiplicity*bernouilli\n",
    "\n",
    "def p_single_spacer(h, params, sim_params):\n",
    "    return h/params[\"M\"]"
   ]
  },
  {
   "cell_type": "code",
   "execution_count": 103,
   "metadata": {},
   "outputs": [],
   "source": [
    "M = params[\"M\"]\n",
    "Np = params[\"Np\"]\n",
    "h = nh/Nh\n",
    "P0 = p_single_spacer(h, params, sim_params)\n",
    "P_0_spacer = binomial_pdf(M, 0, P0)\n",
    "\n",
    "P_1_spacer = binomial_pdf(M, 1, P0)\n",
    "P_tt = P_0_spacer\n",
    "for d in range(1, Np):\n",
    "    P_tt += binomial_pdf(Np, d, 1/M)*P_1_spacer*(1-ds.alpha(d, params))"
   ]
  },
  {
   "cell_type": "code",
   "execution_count": 108,
   "metadata": {},
   "outputs": [
    {
     "data": {
      "text/plain": [
       "[<matplotlib.lines.Line2D at 0x7fcaa860f490>]"
      ]
     },
     "execution_count": 108,
     "metadata": {},
     "output_type": "execute_result"
    },
    {
     "data": {
      "image/png": "[encoded data removed]",
      "text/plain": [
       "<Figure size 432x288 with 1 Axes>"
      ]
     },
     "metadata": {
      "needs_background": "light"
     },
     "output_type": "display_data"
    }
   ],
   "source": [
    "d = np.arange(0, Np)\n",
    "h = 10\n",
    "dc = 5\n",
    "a = d**h/(d**h + dc**h)\n",
    "plt.plot(d, 1-a)"
   ]
  },
  {
   "cell_type": "code",
   "execution_count": null,
   "metadata": {},
   "outputs": [],
   "source": []
  }
 ],
 "metadata": {
  "kernelspec": {
   "display_name": "Python 3.9.7 ('base')",
   "language": "python",
   "name": "python3"
  },
  "language_info": {
   "codemirror_mode": {
    "name": "ipython",
    "version": 3
   },
   "file_extension": ".py",
   "mimetype": "text/x-python",
   "name": "python",
   "nbconvert_exporter": "python",
   "pygments_lexer": "ipython3",
   "version": "3.9.7"
  },
  "orig_nbformat": 4,
  "vscode": {
   "interpreter": {
    "hash": "ebcecea298eea1cfaf9072f1a359d41de78376b896924b732cb01e1a1ddaaea6"
   }
  }
 },
 "nbformat": 4,
 "nbformat_minor": 2
}
