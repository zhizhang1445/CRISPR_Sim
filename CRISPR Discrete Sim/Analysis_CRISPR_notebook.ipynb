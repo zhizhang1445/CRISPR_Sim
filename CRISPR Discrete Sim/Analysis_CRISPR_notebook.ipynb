{
 "cells": [
  {
   "cell_type": "code",
   "execution_count": 1,
   "metadata": {},
   "outputs": [],
   "source": [
    "import numpy as np\n",
    "import numpy.ma as ma\n",
    "import pandas as pd\n",
    "import matplotlib as mpl\n",
    "import matplotlib.pyplot as plt\n",
    "import copy\n",
    "from scipy.ndimage import convolve\n",
    "import matplotlib.animation as animation\n",
    "import warnings\n",
    "import json\n",
    "import scipy\n",
    "import os\n",
    "from sklearn.mixture import GaussianMixture\n",
    "from sklearn.model_selection import StratifiedKFold\n",
    "\n",
    "import discrete_CRISPR_methods as ds\n",
    "import discrete_CRISPR_sim_methods as ds2"
   ]
  },
  {
   "cell_type": "code",
   "execution_count": 2,
   "metadata": {},
   "outputs": [],
   "source": [
    "def calculate_variance(single_frame, params, sim_params):\n",
    "    x_range = sim_params[\"xdomain\"] #Initialize the spaces\n",
    "    dx = sim_params[\"dx\"]\n",
    "\n",
    "    x_linspace = np.arange(-x_range, x_range, dx)\n",
    "    coordmap = np.meshgrid(x_linspace, x_linspace)\n",
    "    radius = coordmap[0]**2 + coordmap[1]**2\n",
    "\n",
    "    rqrd = 0\n",
    "    for n, r2 in zip(np.ravel(single_frame), np.ravel(radius)):\n",
    "        rqrd += n*r2\n",
    "    \n",
    "    return rqrd/np.sum(single_frame)"
   ]
  },
  {
   "cell_type": "code",
   "execution_count": 88,
   "metadata": {},
   "outputs": [],
   "source": [
    "def get_Gaussian_Fit(frames_n, params, sim_params):\n",
    "    frame_means = []\n",
    "    frame_cov = []\n",
    "    x_range = sim_params[\"xdomain\"] #Initialize the spaces\n",
    "    dx = sim_params[\"dx\"]\n",
    "\n",
    "    x_linspace = np.arange(-x_range, x_range, dx)\n",
    "    coordmap = np.meshgrid(x_linspace, x_linspace)\n",
    "\n",
    "    for single_frame in frames_n:\n",
    "        point_data = []\n",
    "        for nonzero_ind in np.argwhere(single_frame):\n",
    "            n = single_frame[nonzero_ind[0], nonzero_ind[1]]\n",
    "            x_ind = coordmap[1][nonzero_ind[0], nonzero_ind[1]]\n",
    "            y_ind = coordmap[0][nonzero_ind[0], nonzero_ind[1]]\n",
    "            for _ in range(n):\n",
    "                point_data.append([x_ind, y_ind])\n",
    "\n",
    "        point_data = np.array(point_data).squeeze()\n",
    "\n",
    "        gaussian_estimator = GaussianMixture(covariance_type=\"full\", max_iter=20)\n",
    "        gaussian_estimator.fit(point_data)\n",
    "\n",
    "        covariances = gaussian_estimator.covariances_.squeeze()\n",
    "        means = gaussian_estimator.means_.squeeze()\n",
    "\n",
    "        frame_means.append(means)\n",
    "        frame_cov.append(covariances)\n",
    "\n",
    "    frame_means = np.array(frame_means).squeeze()\n",
    "    return frame_means, frame_cov"
   ]
  },
  {
   "cell_type": "code",
   "execution_count": 89,
   "metadata": {},
   "outputs": [],
   "source": [
    "def make_ellipse(means, covariances, color = \"navy\"):\n",
    "    v, w = np.linalg.eigh(covariances)\n",
    "    u = w[0] / np.linalg.norm(w[0])\n",
    "    angle = np.arctan2(u[1], u[0])\n",
    "    angle = 180 * angle / np.pi  # convert to degrees\n",
    "    v = 2.0 * np.sqrt(2.0) * np.sqrt(v)\n",
    "    ell = mpl.patches.Ellipse(\n",
    "        means, v[0], v[1], 180 + angle, color=color\n",
    "    )\n",
    "    return ell"
   ]
  },
  {
   "cell_type": "code",
   "execution_count": 3,
   "metadata": {},
   "outputs": [],
   "source": [
    "foldername = '/media/homes/thisiszhi/code/data/ParamsSweep/'\n",
    "subfolders = [ f.path for f in os.scandir(foldername) if f.is_dir() ]"
   ]
  },
  {
   "cell_type": "code",
   "execution_count": 98,
   "metadata": {},
   "outputs": [
    {
     "name": "stdout",
     "output_type": "stream",
     "text": [
      "/media/homes/thisiszhi/code/data/ParamsSweep/Simulation#7\n",
      "/media/homes/thisiszhi/code/data/ParamsSweep/Simulation#3\n",
      "/media/homes/thisiszhi/code/data/ParamsSweep/Simulation#5\n",
      "/media/homes/thisiszhi/code/data/ParamsSweep/Simulation#1\n",
      "/media/homes/thisiszhi/code/data/ParamsSweep/Simulation#0\n",
      "/media/homes/thisiszhi/code/data/ParamsSweep/Simulation#9\n",
      "/media/homes/thisiszhi/code/data/ParamsSweep/Simulation#8\n",
      "/media/homes/thisiszhi/code/data/ParamsSweep/Simulation#2\n",
      "/media/homes/thisiszhi/code/data/ParamsSweep/Simulation#6\n",
      "/media/homes/thisiszhi/code/data/ParamsSweep/Simulation#4\n"
     ]
    }
   ],
   "source": [
    "for current_folder in subfolders:\n",
    "    print(current_folder)\n",
    "    os.chdir(current_folder)\n",
    "    params = json.load(open(\"_params.json\"))\n",
    "    sim_params = json.load(open(\"_sim_params.json\"))\n",
    "\n",
    "    frames_f = np.load(\"frames_f.npy\")\n",
    "    frames_n = np.load(\"frames_n.npy\")\n",
    "\n",
    "    frames_nvar = []\n",
    "    for frame in frames_n:\n",
    "        frames_nvar.append(calculate_variance(frame, params, sim_params))\n",
    "\n",
    "    frames_nvar = np.array(frames_nvar).squeeze()\n",
    "    avg_var = np.mean(frames_nvar)\n",
    "\n",
    "    plt.figure()\n",
    "    plt.title(\"$<r^2(t)>$ of N\")\n",
    "    plt.ylabel(\"dist\")\n",
    "    plt.xlabel(\"frame number\")\n",
    "    plt.plot(frames_nvar)\n",
    "    plt.hlines(avg_var, 0, len(frames_nvar), colors=\"r\")\n",
    "    plt.savefig(\"variance_plot.png\")\n",
    "    plt.close()"
   ]
  },
  {
   "cell_type": "code",
   "execution_count": 59,
   "metadata": {},
   "outputs": [
    {
     "name": "stdout",
     "output_type": "stream",
     "text": [
      "/media/homes/thisiszhi/code/data/ParamsSweep/Simulation#7\n",
      "/media/homes/thisiszhi/code/data/ParamsSweep/Simulation#3\n",
      "/media/homes/thisiszhi/code/data/ParamsSweep/Simulation#5\n",
      "/media/homes/thisiszhi/code/data/ParamsSweep/Simulation#1\n",
      "/media/homes/thisiszhi/code/data/ParamsSweep/Simulation#0\n",
      "/media/homes/thisiszhi/code/data/ParamsSweep/Simulation#9\n",
      "/media/homes/thisiszhi/code/data/ParamsSweep/Simulation#8\n",
      "/media/homes/thisiszhi/code/data/ParamsSweep/Simulation#2\n",
      "/media/homes/thisiszhi/code/data/ParamsSweep/Simulation#6\n",
      "/media/homes/thisiszhi/code/data/ParamsSweep/Simulation#4\n"
     ]
    }
   ],
   "source": [
    "for current_folder in subfolders:\n",
    "    print(current_folder)\n",
    "    os.chdir(current_folder)\n",
    "    params = json.load(open(\"_params.json\"))\n",
    "    sim_params = json.load(open(\"_sim_params.json\"))\n",
    "\n",
    "    frames_f = np.load(\"frames_f.npy\")\n",
    "    frames_n = np.load(\"frames_n.npy\")\n",
    "\n",
    "    frame = ma.array(frames_f[0], mask = (frames_n[0] == 0)).compressed()\n",
    "    height, bins = np.histogram(frame, 25, range = (-1.1, 1.1))\n",
    "    cummulative = np.zeros(height.shape)\n",
    "\n",
    "    for single_f, single_n in zip(frames_f, frames_n):\n",
    "        frame = ma.array(single_f, mask = (single_n == 0)).compressed()\n",
    "        height, _ = np.histogram(frame, 25, range = (-1.1, 1.1))\n",
    "        cummulative += height\n",
    "\n",
    "    norm_height = cummulative/np.sum(cummulative)\n",
    "    plt.figure()\n",
    "    plt.bar(bins[:-1], norm_height, width = 0.05)\n",
    "    plt.title(\"Fitness Distribution (entire frame)\")\n",
    "    plt.savefig(\"fitness_plot.png\")\n",
    "    plt.close()"
   ]
  },
  {
   "cell_type": "code",
   "execution_count": 57,
   "metadata": {},
   "outputs": [
    {
     "name": "stdout",
     "output_type": "stream",
     "text": [
      "/media/homes/thisiszhi/code/data/ParamsSweep/Simulation#7\n",
      "/media/homes/thisiszhi/code/data/ParamsSweep/Simulation#3\n",
      "/media/homes/thisiszhi/code/data/ParamsSweep/Simulation#5\n",
      "/media/homes/thisiszhi/code/data/ParamsSweep/Simulation#1\n",
      "/media/homes/thisiszhi/code/data/ParamsSweep/Simulation#0\n",
      "/media/homes/thisiszhi/code/data/ParamsSweep/Simulation#9\n",
      "/media/homes/thisiszhi/code/data/ParamsSweep/Simulation#8\n",
      "/media/homes/thisiszhi/code/data/ParamsSweep/Simulation#2\n",
      "/media/homes/thisiszhi/code/data/ParamsSweep/Simulation#6\n",
      "/media/homes/thisiszhi/code/data/ParamsSweep/Simulation#4\n"
     ]
    }
   ],
   "source": [
    "for current_folder in subfolders:\n",
    "    print(current_folder)\n",
    "    os.chdir(current_folder)\n",
    "    params = json.load(open(\"_params.json\"))\n",
    "    sim_params = json.load(open(\"_sim_params.json\"))\n",
    "\n",
    "    frames_n = np.load(\"frames_n.npy\")\n",
    "\n",
    "    N = []\n",
    "\n",
    "    for single_n in frames_n:\n",
    "        n = np.sum(single_n)\n",
    "        N.append(n)\n",
    "\n",
    "    plt.figure()\n",
    "    plt.plot(N)\n",
    "    plt.title(\"Number of active phage over time\")\n",
    "    plt.ylabel(\"Population\")\n",
    "    plt.xlabel(\"Frame number\")\n",
    "    plt.savefig(\"Inflected_Population_plot.png\")\n",
    "    plt.close()"
   ]
  },
  {
   "cell_type": "code",
   "execution_count": 99,
   "metadata": {},
   "outputs": [
    {
     "name": "stdout",
     "output_type": "stream",
     "text": [
      "/media/homes/thisiszhi/code/data/ParamsSweep/Simulation#7\n",
      "/media/homes/thisiszhi/code/data/ParamsSweep/Simulation#3\n",
      "/media/homes/thisiszhi/code/data/ParamsSweep/Simulation#5\n",
      "/media/homes/thisiszhi/code/data/ParamsSweep/Simulation#1\n",
      "/media/homes/thisiszhi/code/data/ParamsSweep/Simulation#0\n",
      "/media/homes/thisiszhi/code/data/ParamsSweep/Simulation#9\n",
      "/media/homes/thisiszhi/code/data/ParamsSweep/Simulation#8\n",
      "/media/homes/thisiszhi/code/data/ParamsSweep/Simulation#2\n",
      "/media/homes/thisiszhi/code/data/ParamsSweep/Simulation#6\n",
      "/media/homes/thisiszhi/code/data/ParamsSweep/Simulation#4\n"
     ]
    }
   ],
   "source": [
    "for current_folder in subfolders:\n",
    "    print(current_folder)\n",
    "    os.chdir(current_folder)\n",
    "    params = json.load(open(\"_params.json\"))\n",
    "    sim_params = json.load(open(\"_sim_params.json\"))\n",
    "    colors = [\"navy\", \"turquoise\", \"darkorange\"]\n",
    "\n",
    "    frames_n = np.load(\"frames_n.npy\")\n",
    "    frames_means, frames_cov = get_Gaussian_Fit(frames_n, params, sim_params)\n",
    "\n",
    "    fig, ax = plt.subplots()\n",
    "    ax.plot(frames_means[:,0], frames_means[:,1])\n",
    "    plt.title(\"Trajectory of Gaussian Fit\")\n",
    "\n",
    "    ax.scatter(frames_means[0, 0], frames_means[0, 1], color = 'red')\n",
    "    ell1 = make_ellipse(frames_means[0], frames_cov[0], 'red')\n",
    "    ell1.set_clip_box(ax.bbox)\n",
    "    ell1.set_alpha(0.15)\n",
    "    ax.add_patch(ell1)\n",
    "    ax.set_aspect(\"equal\", \"datalim\")\n",
    "\n",
    "    ax.scatter(frames_means[-1, 0], frames_means[-1, 1], color = 'black')\n",
    "    ell2 = make_ellipse(frames_means[-1], frames_cov[-1], 'black')\n",
    "    ell2.set_clip_box(ax.bbox)\n",
    "    ell2.set_alpha(0.15)\n",
    "    ax.add_patch(ell2)\n",
    "    ax.set_aspect(\"equal\", \"datalim\")\n",
    "    plt.savefig(\"Gaussian_Fit_Plot.png\")\n",
    "    plt.close()"
   ]
  },
  {
   "cell_type": "code",
   "execution_count": null,
   "metadata": {},
   "outputs": [],
   "source": []
  }
 ],
 "metadata": {
  "kernelspec": {
   "display_name": "Python 3.8.2 64-bit",
   "language": "python",
   "name": "python3"
  },
  "language_info": {
   "codemirror_mode": {
    "name": "ipython",
    "version": 3
   },
   "file_extension": ".py",
   "mimetype": "text/x-python",
   "name": "python",
   "nbconvert_exporter": "python",
   "pygments_lexer": "ipython3",
   "version": "3.6.9"
  },
  "orig_nbformat": 4,
  "vscode": {
   "interpreter": {
    "hash": "31f2aee4e71d21fbe5cf8b01ff0e069b9275f58929596ceb00d14d90e3e16cd6"
   }
  }
 },
 "nbformat": 4,
 "nbformat_minor": 2
}
