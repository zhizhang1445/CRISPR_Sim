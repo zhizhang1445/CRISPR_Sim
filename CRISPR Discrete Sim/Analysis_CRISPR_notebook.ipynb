{
 "cells": [
  {
   "cell_type": "code",
   "execution_count": 1,
   "metadata": {},
   "outputs": [],
   "source": [
    "import numpy as np\n",
    "import numpy.ma as ma\n",
    "import pandas as pd\n",
    "import matplotlib as mpl\n",
    "import matplotlib.pyplot as plt\n",
    "from scipy.ndimage import convolve\n",
    "import matplotlib.animation as animation\n",
    "import json\n",
    "import scipy\n",
    "import os\n",
    "from sklearn.mixture import GaussianMixture\n",
    "\n",
    "import discrete_CRISPR_methods as ds\n",
    "import discrete_CRISPR_sim_methods as ds2\n",
    "\n",
    "foldername = '/media/homes/thisiszhi/code/data/Params10xM1000/'"
   ]
  },
  {
   "cell_type": "code",
   "execution_count": 2,
   "metadata": {},
   "outputs": [],
   "source": [
    "def load_stuff(frame_cut):\n",
    "    params = json.load(open(\"_params.json\"))\n",
    "    sim_params = json.load(open(\"_sim_params.json\"))\n",
    "    try:\n",
    "        frames_f = np.load(\"frames_f.npy\")[frame_cut:]\n",
    "        frames_n = np.load(\"frames_n.npy\")[frame_cut:]\n",
    "        frames_nh = np.load(\"frames_nh.npy\")[frame_cut:]\n",
    "\n",
    "    except IndexError:\n",
    "        frames_f = np.load(\"frames_f.npy\")\n",
    "        frames_n = np.load(\"frames_n.npy\")\n",
    "        frames_nh = np.load(\"frames_nh.npy\")\n",
    "    return params, sim_params, frames_f, frames_n, frames_nh"
   ]
  },
  {
   "cell_type": "code",
   "execution_count": 3,
   "metadata": {},
   "outputs": [],
   "source": [
    "def calculate_variance(single_frame, params, sim_params):\n",
    "    x_range = sim_params[\"xdomain\"] #Initialize the spaces\n",
    "    dx = sim_params[\"dx\"]\n",
    "\n",
    "    x_linspace = np.arange(-x_range, x_range, dx)\n",
    "    coordmap = np.meshgrid(x_linspace, x_linspace)\n",
    "    radius = coordmap[0]**2 + coordmap[1]**2\n",
    "\n",
    "    rqrd = 0\n",
    "    for n, r2 in zip(np.ravel(single_frame), np.ravel(radius)):\n",
    "        rqrd += n*r2\n",
    "    \n",
    "    return rqrd/np.sum(single_frame)"
   ]
  },
  {
   "cell_type": "code",
   "execution_count": 4,
   "metadata": {},
   "outputs": [],
   "source": [
    "def get_Gaussian_Fit(frames_n, params, sim_params):\n",
    "    frame_means = []\n",
    "    frame_cov = []\n",
    "    x_range = sim_params[\"xdomain\"] #Initialize the spaces\n",
    "    dx = sim_params[\"dx\"]\n",
    "\n",
    "    x_linspace = np.arange(-x_range, x_range, dx)\n",
    "    coordmap = np.meshgrid(x_linspace, x_linspace)\n",
    "\n",
    "    for single_frame in frames_n:\n",
    "        point_data = []\n",
    "        try:\n",
    "            for nonzero_ind in np.argwhere(single_frame):\n",
    "                n = single_frame[nonzero_ind[0], nonzero_ind[1]]\n",
    "                x_ind = coordmap[1][nonzero_ind[0], nonzero_ind[1]]\n",
    "                y_ind = coordmap[0][nonzero_ind[0], nonzero_ind[1]]\n",
    "                for _ in range(n):\n",
    "                    point_data.append([x_ind, y_ind])\n",
    "\n",
    "            point_data = np.array(point_data).squeeze()\n",
    "\n",
    "            gaussian_estimator = GaussianMixture(covariance_type=\"full\", max_iter=20)\n",
    "            gaussian_estimator.fit(point_data)\n",
    "\n",
    "            covariances = gaussian_estimator.covariances_.squeeze()\n",
    "            means = gaussian_estimator.means_.squeeze()\n",
    "\n",
    "            frame_means.append(means)\n",
    "            frame_cov.append(covariances)\n",
    "            \n",
    "        except ValueError:\n",
    "            continue\n",
    "\n",
    "    frame_means = np.array(frame_means).squeeze()\n",
    "    return frame_means, frame_cov"
   ]
  },
  {
   "cell_type": "code",
   "execution_count": 5,
   "metadata": {},
   "outputs": [],
   "source": [
    "def make_ellipse(means, covariances, color = \"navy\"):\n",
    "    v, w = np.linalg.eigh(covariances)\n",
    "    u = w[0] / np.linalg.norm(w[0])\n",
    "    angle = np.arctan2(u[1], u[0])\n",
    "    angle = 180 * angle / np.pi  # convert to degrees\n",
    "    v = 2.0 * np.sqrt(2.0) * np.sqrt(v)\n",
    "    ell = mpl.patches.Ellipse(\n",
    "        means, v[0], v[1], 180 + angle, color=color\n",
    "    )\n",
    "    return ell"
   ]
  },
  {
   "cell_type": "code",
   "execution_count": 6,
   "metadata": {},
   "outputs": [],
   "source": [
    "subfolders = [ f.path for f in os.scandir(foldername) if f.is_dir() ]\n",
    "frame_cut = 0"
   ]
  },
  {
   "cell_type": "code",
   "execution_count": 7,
   "metadata": {},
   "outputs": [],
   "source": [
    "for current_folder in subfolders:\n",
    "    os.chdir(current_folder)\n",
    "    results = {\n",
    "        \"avg_r2\":                   0,\n",
    "        \"avg_f\":                    0,\n",
    "        \"avg_grp_vel\":              0,\n",
    "        \"diff_coeff\":               0,\n",
    "        \"avg_tt_cov\":               0,\n",
    "\n",
    "        \"var_r2\":                   0,\n",
    "        \"var_f\":                    0,\n",
    "        \"var_grp_vel\":              0,\n",
    "        \"var_diff_coeff\":           0,\n",
    "        \"var_tt_cov\":               0,\n",
    "    }\n",
    "    with open('_results.json', 'w') as fp:\n",
    "        json.dump(results, fp)"
   ]
  },
  {
   "cell_type": "code",
   "execution_count": 8,
   "metadata": {},
   "outputs": [
    {
     "name": "stdout",
     "output_type": "stream",
     "text": [
      "/media/homes/thisiszhi/code/data/Params10xM1000/Simulation#7\n",
      "/media/homes/thisiszhi/code/data/Params10xM1000/Simulation#3\n",
      "/media/homes/thisiszhi/code/data/Params10xM1000/Simulation#5\n"
     ]
    },
    {
     "name": "stderr",
     "output_type": "stream",
     "text": [
      "/usr/local/lib/python3.6/dist-packages/ipykernel_launcher.py:13: RuntimeWarning: invalid value encountered in long_scalars\n",
      "  del sys.path[0]\n"
     ]
    },
    {
     "name": "stdout",
     "output_type": "stream",
     "text": [
      "/media/homes/thisiszhi/code/data/Params10xM1000/Simulation#1\n",
      "/media/homes/thisiszhi/code/data/Params10xM1000/Simulation#0\n",
      "/media/homes/thisiszhi/code/data/Params10xM1000/Simulation#9\n",
      "/media/homes/thisiszhi/code/data/Params10xM1000/Simulation#8\n",
      "/media/homes/thisiszhi/code/data/Params10xM1000/Simulation#2\n",
      "/media/homes/thisiszhi/code/data/Params10xM1000/Simulation#6\n",
      "/media/homes/thisiszhi/code/data/Params10xM1000/Simulation#4\n"
     ]
    }
   ],
   "source": [
    "for current_folder in subfolders:\n",
    "# current_folder = subfolders[0]\n",
    "    print(current_folder)\n",
    "    os.chdir(current_folder)\n",
    "    params, sim_params, frames_f, frames_n, frames_nh = load_stuff(frame_cut)\n",
    "\n",
    "    frames_nvar = []\n",
    "    for frame in frames_n:\n",
    "        frames_nvar.append(calculate_variance(frame, params, sim_params))\n",
    "\n",
    "    frames_nvar = np.array(frames_nvar).squeeze()\n",
    "    avg_var = np.mean(frames_nvar)\n",
    "    var_var = np.var(frames_nvar)\n",
    "    err_var = var_var\n",
    "\n",
    "    plt.figure()\n",
    "    plt.title(\"$<r^2(t)>$ of N\")\n",
    "    plt.ylabel(\"dist\")\n",
    "    plt.xlabel(\"frame number\")\n",
    "    plt.plot(frames_nvar)\n",
    "\n",
    "    try:\n",
    "        x = np.arange(0,len(frames_nvar),1)\n",
    "        fit = np.polyfit(x, frames_nvar, 1)\n",
    "        plt.plot(x, np.polyval(fit, x), color=\"r\")\n",
    "        var_diff = np.var(np.polyval(fit, x)-frames_nvar)\n",
    "        err_diff = var_diff\n",
    "    except TypeError:\n",
    "        fit = [np.NaN, np.NaN]\n",
    "        err_diff = np.NaN\n",
    "        pass\n",
    "    plt.savefig(\"variance_plot.png\")\n",
    "    plt.close()\n",
    "\n",
    "    results = json.load(open(\"_results.json\"))\n",
    "    results[\"avg_r2\"] = avg_var\n",
    "    results[\"var_r2\"] = err_var\n",
    "    results[\"diff_coeff\"] = fit[0]/2\n",
    "    results[\"var_diff_coeff\"] = err_diff/2\n",
    "    with open('_results.json', 'w') as fp:\n",
    "        json.dump(results, fp)"
   ]
  },
  {
   "cell_type": "code",
   "execution_count": 9,
   "metadata": {},
   "outputs": [
    {
     "name": "stdout",
     "output_type": "stream",
     "text": [
      "/media/homes/thisiszhi/code/data/Params10xM1000/Simulation#7\n",
      "/media/homes/thisiszhi/code/data/Params10xM1000/Simulation#3\n",
      "/media/homes/thisiszhi/code/data/Params10xM1000/Simulation#5\n"
     ]
    },
    {
     "name": "stderr",
     "output_type": "stream",
     "text": [
      "/usr/local/lib/python3.6/dist-packages/numpy/core/fromnumeric.py:2920: RuntimeWarning: Mean of empty slice.\n",
      "  out=out, **kwargs)\n",
      "/usr/local/lib/python3.6/dist-packages/numpy/core/_methods.py:85: RuntimeWarning: invalid value encountered in double_scalars\n",
      "  ret = ret.dtype.type(ret / rcount)\n",
      "/usr/local/lib/python3.6/dist-packages/numpy/core/fromnumeric.py:3157: RuntimeWarning: Degrees of freedom <= 0 for slice\n",
      "  **kwargs)\n",
      "/usr/local/lib/python3.6/dist-packages/numpy/core/_methods.py:110: RuntimeWarning: invalid value encountered in true_divide\n",
      "  arrmean, rcount, out=arrmean, casting='unsafe', subok=False)\n",
      "/usr/local/lib/python3.6/dist-packages/numpy/core/_methods.py:132: RuntimeWarning: invalid value encountered in double_scalars\n",
      "  ret = ret.dtype.type(ret / rcount)\n"
     ]
    },
    {
     "name": "stdout",
     "output_type": "stream",
     "text": [
      "/media/homes/thisiszhi/code/data/Params10xM1000/Simulation#1\n",
      "/media/homes/thisiszhi/code/data/Params10xM1000/Simulation#0\n",
      "/media/homes/thisiszhi/code/data/Params10xM1000/Simulation#9\n",
      "/media/homes/thisiszhi/code/data/Params10xM1000/Simulation#8\n",
      "/media/homes/thisiszhi/code/data/Params10xM1000/Simulation#2\n",
      "/media/homes/thisiszhi/code/data/Params10xM1000/Simulation#6\n",
      "/media/homes/thisiszhi/code/data/Params10xM1000/Simulation#4\n"
     ]
    }
   ],
   "source": [
    "for current_folder in subfolders:\n",
    "    # current_folder = subfolders[3]\n",
    "    print(current_folder)\n",
    "    os.chdir(current_folder)\n",
    "    params, sim_params, frames_f, frames_n, frames_nh = load_stuff(frame_cut)\n",
    "\n",
    "    try:\n",
    "        frame = ma.array(frames_f[0], mask = (frames_n[0] == 0)).compressed()\n",
    "        height, bins = np.histogram(frame, 25, range = (-1.1, 1.1))\n",
    "        cummulative = np.zeros(height.shape)\n",
    "\n",
    "        frame_avg = []\n",
    "        frame_var = []\n",
    "        \n",
    "        for single_f, single_n in zip(frames_f, frames_n):\n",
    "            ma_f = (single_n == 0)\n",
    "\n",
    "            if np.sum(ma_f) == 0:\n",
    "                print(\"population Death\")\n",
    "                break\n",
    "\n",
    "            frame = ma.array(single_f, mask = ma_f).compressed()\n",
    "            frame_avg.append(np.mean(frame))\n",
    "            frame_var.append(np.var(frame))\n",
    "            height, _ = np.histogram(frame, 25, range = (-1.1, 1.1))\n",
    "            cummulative += height\n",
    "\n",
    "        norm_height = cummulative/np.sum(cummulative)\n",
    "\n",
    "        plt.figure()\n",
    "        plt.bar(bins[:-1], norm_height, width = 0.05)\n",
    "        plt.title(\"Fitness Distribution\")\n",
    "        plt.savefig(\"fitness_plot.png\")\n",
    "        plt.close()\n",
    "\n",
    "        results = json.load(open(\"_results.json\"))\n",
    "        results[\"avg_f\"] = np.mean(frame_avg)\n",
    "        results[\"var_f\"] = np.mean(frame_var)\n",
    "        with open('_results.json', 'w') as fp:\n",
    "            json.dump(results, fp)\n",
    "\n",
    "    except IndexError:\n",
    "        pass"
   ]
  },
  {
   "cell_type": "code",
   "execution_count": 10,
   "metadata": {},
   "outputs": [
    {
     "name": "stdout",
     "output_type": "stream",
     "text": [
      "/media/homes/thisiszhi/code/data/Params10xM1000/Simulation#7\n",
      "/media/homes/thisiszhi/code/data/Params10xM1000/Simulation#3\n",
      "/media/homes/thisiszhi/code/data/Params10xM1000/Simulation#5\n",
      "/media/homes/thisiszhi/code/data/Params10xM1000/Simulation#1\n",
      "/media/homes/thisiszhi/code/data/Params10xM1000/Simulation#0\n",
      "/media/homes/thisiszhi/code/data/Params10xM1000/Simulation#9\n",
      "/media/homes/thisiszhi/code/data/Params10xM1000/Simulation#8\n",
      "/media/homes/thisiszhi/code/data/Params10xM1000/Simulation#2\n",
      "/media/homes/thisiszhi/code/data/Params10xM1000/Simulation#6\n",
      "/media/homes/thisiszhi/code/data/Params10xM1000/Simulation#4\n"
     ]
    }
   ],
   "source": [
    "for current_folder in subfolders:\n",
    "    print(current_folder)\n",
    "    os.chdir(current_folder)\n",
    "    params, sim_params, frames_f, frames_n, frames_nh = load_stuff(frame_cut)\n",
    "\n",
    "    N = []\n",
    "    for single_n in frames_n:\n",
    "        n = np.sum(single_n)\n",
    "        N.append(n)\n",
    "\n",
    "    plt.figure()\n",
    "    plt.plot(N)\n",
    "    plt.title(\"Number of active phage over time\")\n",
    "    plt.ylabel(\"Population\")\n",
    "    plt.xlabel(\"Frame number\")\n",
    "    plt.savefig(\"Inflected_Population_plot.png\")\n",
    "    plt.close()"
   ]
  },
  {
   "cell_type": "code",
   "execution_count": 11,
   "metadata": {},
   "outputs": [
    {
     "name": "stdout",
     "output_type": "stream",
     "text": [
      "/media/homes/thisiszhi/code/data/Params10xM1000/Simulation#7\n",
      "/media/homes/thisiszhi/code/data/Params10xM1000/Simulation#3\n",
      "/media/homes/thisiszhi/code/data/Params10xM1000/Simulation#5\n",
      "/media/homes/thisiszhi/code/data/Params10xM1000/Simulation#1\n",
      "/media/homes/thisiszhi/code/data/Params10xM1000/Simulation#0\n",
      "/media/homes/thisiszhi/code/data/Params10xM1000/Simulation#9\n",
      "/media/homes/thisiszhi/code/data/Params10xM1000/Simulation#8\n",
      "/media/homes/thisiszhi/code/data/Params10xM1000/Simulation#2\n",
      "/media/homes/thisiszhi/code/data/Params10xM1000/Simulation#6\n",
      "/media/homes/thisiszhi/code/data/Params10xM1000/Simulation#4\n"
     ]
    }
   ],
   "source": [
    "for current_folder in subfolders:\n",
    "    print(current_folder)\n",
    "    os.chdir(current_folder)\n",
    "    params, sim_params, frames_f, frames_n, frames_nh = load_stuff(frame_cut)\n",
    "    try:\n",
    "        frames_means, frames_cov = get_Gaussian_Fit(frames_n, params, sim_params)\n",
    "\n",
    "        fig, ax = plt.subplots()\n",
    "        ax.plot(frames_means[:,0], frames_means[:,1])\n",
    "        plt.title(\"Trajectory of Gaussian Fit\")\n",
    "\n",
    "        ax.scatter(frames_means[0, 0], frames_means[0, 1], color = 'red')\n",
    "        ell1 = make_ellipse(frames_means[0], frames_cov[0], 'red')\n",
    "        ell1.set_clip_box(ax.bbox)\n",
    "        ell1.set_alpha(0.15)\n",
    "        ax.add_patch(ell1)\n",
    "        ax.set_aspect(\"equal\", \"datalim\")\n",
    "\n",
    "        ax.scatter(frames_means[-1, 0], frames_means[-1, 1], color = 'black')\n",
    "        ell2 = make_ellipse(frames_means[-1], frames_cov[-1], 'black')\n",
    "        ell2.set_clip_box(ax.bbox)\n",
    "        ell2.set_alpha(0.15)\n",
    "        ax.add_patch(ell2)\n",
    "        ax.set_aspect(\"equal\", \"datalim\")\n",
    "\n",
    "        plt_bd = sim_params[\"xdomain\"]\n",
    "        plt.xlim(-plt_bd, plt_bd)\n",
    "        plt.ylim(-plt_bd, plt_bd)\n",
    "\n",
    "        plt.savefig(\"Gaussian_Fit_Plot.png\")\n",
    "        plt.close()\n",
    "    except IndexError:\n",
    "        pass"
   ]
  },
  {
   "cell_type": "code",
   "execution_count": 12,
   "metadata": {},
   "outputs": [
    {
     "name": "stdout",
     "output_type": "stream",
     "text": [
      "/media/homes/thisiszhi/code/data/Params10xM1000/Simulation#7\n",
      "/media/homes/thisiszhi/code/data/Params10xM1000/Simulation#3\n",
      "/media/homes/thisiszhi/code/data/Params10xM1000/Simulation#5\n",
      "/media/homes/thisiszhi/code/data/Params10xM1000/Simulation#1\n",
      "/media/homes/thisiszhi/code/data/Params10xM1000/Simulation#0\n",
      "/media/homes/thisiszhi/code/data/Params10xM1000/Simulation#9\n",
      "/media/homes/thisiszhi/code/data/Params10xM1000/Simulation#8\n",
      "/media/homes/thisiszhi/code/data/Params10xM1000/Simulation#2\n",
      "/media/homes/thisiszhi/code/data/Params10xM1000/Simulation#6\n",
      "/media/homes/thisiszhi/code/data/Params10xM1000/Simulation#4\n"
     ]
    }
   ],
   "source": [
    "for current_folder in subfolders:\n",
    "    print(current_folder)\n",
    "    os.chdir(current_folder)\n",
    "    params, sim_params, frames_f, frames_n, frames_nh = load_stuff(frame_cut)\n",
    "\n",
    "    try:\n",
    "        frames_means, frames_cov = get_Gaussian_Fit(frames_n, params, sim_params)\n",
    "\n",
    "        frame_det_cov = []\n",
    "        for cov in frames_cov:\n",
    "            frame_det_cov.append(np.linalg.det(cov))\n",
    "        frame_det_cov = np.array(frame_det_cov).squeeze()\n",
    "\n",
    "        plt.figure()\n",
    "        plt.title(\"Total Variance over Frames\")\n",
    "        plt.xlabel(\"Frame Number\")\n",
    "        plt.plot(frame_det_cov)\n",
    "        plt.savefig(\"Total_Variance_Plot.png\")\n",
    "        plt.close()\n",
    "\n",
    "        results = json.load(open(\"_results.json\"))\n",
    "        results[\"avg_tt_cov\"] = np.mean(frame_det_cov)\n",
    "        results[\"var_tt_cov\"] = np.var(frame_det_cov)\n",
    "        with open('_results.json', 'w') as fp:\n",
    "            json.dump(results, fp)\n",
    "    except IndexError:\n",
    "        pass"
   ]
  },
  {
   "cell_type": "code",
   "execution_count": 13,
   "metadata": {},
   "outputs": [
    {
     "name": "stdout",
     "output_type": "stream",
     "text": [
      "/media/homes/thisiszhi/code/data/Params10xM1000/Simulation#7\n",
      "/media/homes/thisiszhi/code/data/Params10xM1000/Simulation#3\n",
      "/media/homes/thisiszhi/code/data/Params10xM1000/Simulation#5\n",
      "/media/homes/thisiszhi/code/data/Params10xM1000/Simulation#1\n",
      "/media/homes/thisiszhi/code/data/Params10xM1000/Simulation#0\n",
      "/media/homes/thisiszhi/code/data/Params10xM1000/Simulation#9\n",
      "/media/homes/thisiszhi/code/data/Params10xM1000/Simulation#8\n",
      "/media/homes/thisiszhi/code/data/Params10xM1000/Simulation#2\n",
      "/media/homes/thisiszhi/code/data/Params10xM1000/Simulation#6\n",
      "/media/homes/thisiszhi/code/data/Params10xM1000/Simulation#4\n"
     ]
    }
   ],
   "source": [
    "for current_folder in subfolders:\n",
    "    print(current_folder)\n",
    "    os.chdir(current_folder)\n",
    "    params, sim_params, frames_f, frames_n, frames_nh = load_stuff(frame_cut)\n",
    "    \n",
    "    try:\n",
    "        dt = sim_params[\"dt\"]\n",
    "        frames_means, frames_cov = get_Gaussian_Fit(frames_n, params, sim_params)\n",
    "\n",
    "        frame_dist = []\n",
    "        tt_time = dt\n",
    "        for i in range(len(frames_means[1:])):\n",
    "            diff = frames_means[i-1]-frames_means[i]\n",
    "            r = diff[0]**2 + diff[1]**2\n",
    "            frame_dist.append(r)\n",
    "            tt_time += dt\n",
    "\n",
    "        mean_dist = np.mean(np.array(frame_dist))\n",
    "        err_dist = np.var(frame_dist)\n",
    "\n",
    "        results = json.load(open(\"_results.json\"))\n",
    "        results[\"avg_grp_vel\"] = mean_dist/dt\n",
    "        results[\"var_grp_vel\"] = err_dist/dt\n",
    "\n",
    "        with open('_results.json', 'w') as fp:\n",
    "            json.dump(results, fp)\n",
    "    except IndexError:\n",
    "        pass"
   ]
  },
  {
   "cell_type": "code",
   "execution_count": null,
   "metadata": {},
   "outputs": [],
   "source": []
  }
 ],
 "metadata": {
  "kernelspec": {
   "display_name": "Python 3.8.2 64-bit",
   "language": "python",
   "name": "python3"
  },
  "language_info": {
   "codemirror_mode": {
    "name": "ipython",
    "version": 3
   },
   "file_extension": ".py",
   "mimetype": "text/x-python",
   "name": "python",
   "nbconvert_exporter": "python",
   "pygments_lexer": "ipython3",
   "version": "3.6.9"
  },
  "orig_nbformat": 4,
  "vscode": {
   "interpreter": {
    "hash": "31f2aee4e71d21fbe5cf8b01ff0e069b9275f58929596ceb00d14d90e3e16cd6"
   }
  }
 },
 "nbformat": 4,
 "nbformat_minor": 2
}
