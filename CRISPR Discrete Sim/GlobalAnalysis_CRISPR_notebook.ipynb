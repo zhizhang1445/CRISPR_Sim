{
 "cells": [
  {
   "cell_type": "code",
   "execution_count": 7,
   "metadata": {},
   "outputs": [],
   "source": [
    "import numpy as np\n",
    "import numpy.ma as ma\n",
    "import pandas as pd\n",
    "import matplotlib as mpl\n",
    "import matplotlib.pyplot as plt\n",
    "from scipy.ndimage import convolve\n",
    "import matplotlib.animation as animation\n",
    "import json\n",
    "import scipy\n",
    "import os\n",
    "from sklearn.mixture import GaussianMixture\n",
    "\n",
    "import discrete_CRISPR_methods as ds\n",
    "import discrete_CRISPR_sim_methods as ds2\n",
    "\n",
    "foldername = '/media/homes/thisiszhi/code/data/ParamsSweepNpNoCtrl/'\n",
    "x_variable = \"Np\""
   ]
  },
  {
   "cell_type": "code",
   "execution_count": 8,
   "metadata": {},
   "outputs": [],
   "source": [
    "def load_stuff(frame_cut):\n",
    "    params = json.load(open(\"_params.json\"))\n",
    "    sim_params = json.load(open(\"_sim_params.json\"))\n",
    "    try:\n",
    "        frames_f = np.load(\"frames_f.npy\")[frame_cut:]\n",
    "        frames_n = np.load(\"frames_n.npy\")[frame_cut:]\n",
    "        frames_nh = np.load(\"frames_nh.npy\")[frame_cut:]\n",
    "\n",
    "    except IndexError:\n",
    "        frames_f = np.load(\"frames_f.npy\")\n",
    "        frames_n = np.load(\"frames_n.npy\")\n",
    "        frames_nh = np.load(\"frames_nh.npy\")\n",
    "    return params, sim_params, frames_f, frames_n, frames_nh"
   ]
  },
  {
   "cell_type": "code",
   "execution_count": 9,
   "metadata": {},
   "outputs": [],
   "source": [
    "subfolders = [ f.path for f in os.scandir(foldername) if f.is_dir() ]\n"
   ]
  },
  {
   "cell_type": "code",
   "execution_count": 10,
   "metadata": {},
   "outputs": [
    {
     "data": {
      "image/png": "[encoded data removed]",
      "text/plain": [
       "<Figure size 432x288 with 1 Axes>"
      ]
     },
     "metadata": {
      "needs_background": "light"
     },
     "output_type": "display_data"
    }
   ],
   "source": [
    "y_variable = \"avg_f\"\n",
    "y_variable_err = \"var_f\"\n",
    "\n",
    "y = []\n",
    "y_err = []\n",
    "x = []\n",
    "\n",
    "for current_folder in subfolders:\n",
    "    os.chdir(current_folder)\n",
    "\n",
    "    results = json.load(open(\"_results.json\"))\n",
    "    params = json.load(open(\"_params.json\"))\n",
    "\n",
    "    y.append(results[y_variable])\n",
    "    y_err.append(results[y_variable_err])\n",
    "    x.append(params[x_variable])\n",
    "\n",
    "plt.figure()\n",
    "plt.title(y_variable + \" versus \" + x_variable)\n",
    "# plt.scatter(x, y, color = \"k\")\n",
    "plt.errorbar(x, y, y_err, color = \"b\", fmt = \"o\")\n",
    "\n",
    "os.chdir(foldername)\n",
    "plt.savefig(y_variable + \".png\")"
   ]
  },
  {
   "cell_type": "code",
   "execution_count": 14,
   "metadata": {},
   "outputs": [
    {
     "data": {
      "image/png": "[encoded data removed]",
      "text/plain": [
       "<Figure size 432x288 with 1 Axes>"
      ]
     },
     "metadata": {
      "needs_background": "light"
     },
     "output_type": "display_data"
    }
   ],
   "source": [
    "y_variable = \"diff_coeff\"\n",
    "y_variable_err = \"var_diff_coeff\"\n",
    "\n",
    "y = []\n",
    "y_err = []\n",
    "x = []\n",
    "\n",
    "for current_folder in subfolders:\n",
    "    os.chdir(current_folder)\n",
    "\n",
    "    results = json.load(open(\"_results.json\"))\n",
    "    params = json.load(open(\"_params.json\"))\n",
    "\n",
    "    y.append(results[y_variable])\n",
    "    y_err.append(results[y_variable_err])\n",
    "    x.append(params[x_variable])\n",
    "\n",
    "plt.figure()\n",
    "plt.title(y_variable + \" versus \" + x_variable)\n",
    "# plt.scatter(x, y, color = \"k\")\n",
    "plt.errorbar(x, y, np.sqrt(y_err)/100, color = \"b\", fmt = \"o\")\n",
    "plt.ylim(bottom = 0)\n",
    "\n",
    "os.chdir(foldername)\n",
    "plt.savefig(y_variable + \".png\")"
   ]
  },
  {
   "cell_type": "code",
   "execution_count": 12,
   "metadata": {},
   "outputs": [
    {
     "data": {
      "image/png": "[encoded data removed]",
      "text/plain": [
       "<Figure size 432x288 with 1 Axes>"
      ]
     },
     "metadata": {
      "needs_background": "light"
     },
     "output_type": "display_data"
    }
   ],
   "source": [
    "y_variable = \"avg_grp_vel\"\n",
    "y_variable_err = \"var_grp_vel\"\n",
    "\n",
    "y = []\n",
    "y_err = []\n",
    "x = []\n",
    "\n",
    "for current_folder in subfolders:\n",
    "    os.chdir(current_folder)\n",
    "\n",
    "    results = json.load(open(\"_results.json\"))\n",
    "    params = json.load(open(\"_params.json\"))\n",
    "\n",
    "    y.append(results[y_variable])\n",
    "    y_err.append(results[y_variable_err])\n",
    "    x.append(params[x_variable])\n",
    "\n",
    "plt.figure()\n",
    "plt.title(y_variable + \" versus \" + x_variable)\n",
    "# plt.scatter(x, y, color = \"k\")\n",
    "plt.errorbar(x, y, np.sqrt(y_err)/10, color = \"b\", fmt = \"o\")\n",
    "plt.ylim(bottom=0)\n",
    "\n",
    "os.chdir(foldername)\n",
    "plt.savefig(y_variable + \".png\")"
   ]
  },
  {
   "cell_type": "code",
   "execution_count": null,
   "metadata": {},
   "outputs": [],
   "source": []
  }
 ],
 "metadata": {
  "kernelspec": {
   "display_name": "Python 3.8.2 64-bit",
   "language": "python",
   "name": "python3"
  },
  "language_info": {
   "codemirror_mode": {
    "name": "ipython",
    "version": 3
   },
   "file_extension": ".py",
   "mimetype": "text/x-python",
   "name": "python",
   "nbconvert_exporter": "python",
   "pygments_lexer": "ipython3",
   "version": "3.6.9"
  },
  "orig_nbformat": 4,
  "vscode": {
   "interpreter": {
    "hash": "31f2aee4e71d21fbe5cf8b01ff0e069b9275f58929596ceb00d14d90e3e16cd6"
   }
  }
 },
 "nbformat": 4,
 "nbformat_minor": 2
}
