{
 "cells": [
  {
   "cell_type": "code",
   "execution_count": 1,
   "metadata": {},
   "outputs": [],
   "source": [
    "import numpy as np\n",
    "import matplotlib.pyplot as plt\n",
    "import numpy.random as random\n",
    "from scipy.signal import convolve\n",
    "import scipy\n",
    "from joblib import Parallel, delayed\n",
    "import time\n",
    "\n",
    "num_cores = 32\n",
    "\n",
    "%run initMethods.py\n",
    "%run makeGif.py\n",
    "%run methods.py"
   ]
  },
  {
   "cell_type": "code",
   "execution_count": 8,
   "metadata": {},
   "outputs": [],
   "source": [
    "params = { #parameters relevant for the equations\n",
    "    \"Nh\":          1000000,\n",
    "    \"N0\":           100000,\n",
    "    \"R0\":              10,\n",
    "    \"M\":                1, #Also L, total number of spacers\n",
    "    \"D\":                3, #Unused\n",
    "    \"mu\":             0.02, #mutation rate\n",
    "    \"v0\":              0.5,\n",
    "    \"gamma_shape\":     20, \n",
    "    \"Np\":               0, #Number of Cas Protein\n",
    "    \"dc\":               3, #Required number of complexes to activate defence\n",
    "    \"h\":                4, #coordination coeff\n",
    "    \"r\":              1000, #cross-reactivity kernel\n",
    "    \"rho\":           5e-5, #spacer sharing coeff\n",
    "}\n",
    "sim_params = { #parameters relevant for the simulation (including Inital Valuess)\n",
    "    \"xdomain\":                  200,\n",
    "    \"dx\":                         1,\n",
    "    \"t0\":                         0, \n",
    "    \"tf\":                       100,\n",
    "    \"dt\":                         1,\n",
    "    \"initial_mean\":           [0,0],\n",
    "    \"initial_var\":                5,\n",
    "    \"n_step_prior\":               5,\n",
    "    \"conv_size\":               2000,\n",
    "    \"num_threads\":               24,\n",
    "    \"tail_axis\":            [1, 1],\n",
    "}"
   ]
  },
  {
   "cell_type": "code",
   "execution_count": null,
   "metadata": {},
   "outputs": [],
   "source": [
    "n = init_guassian_parallel(params[\"N0\"], sim_params)\n",
    "nh = init_exptail_parrallel(params[\"Nh\"], params, sim_params)\n",
    "kernel = init_kernel(params, sim_params)"
   ]
  },
  {
   "cell_type": "code",
   "execution_count": 102,
   "metadata": {},
   "outputs": [],
   "source": [
    "def growth_calc(n_split, nh_split, params, sim_params):\n",
    "    if np.sum(n_split) > 0:\n",
    "        p_split = coverage_convolution(nh_split, kernel, params, sim_params)\n",
    "        f_split = fitness_spacers(n_split, nh_split, p_split, params, sim_params)\n",
    "        n_split = virus_growth(n_split, f_split, params, sim_params)\n",
    "    return n_split\n",
    "\n",
    "def immunity_calc(nh_split, n_split, params, sim_params):\n",
    "    \n",
    "    nh_split = immunity_gain(nh_split, n_split, params, sim_params)\n",
    "    nh_split = immunity_loss(nh_split, n_split, params, sim_params)\n",
    "    return nh_split"
   ]
  },
  {
   "cell_type": "code",
   "execution_count": 10,
   "metadata": {},
   "outputs": [
    {
     "name": "stdout",
     "output_type": "stream",
     "text": [
      "Reproduction Rate R0: 20 | init time: 00:00:04\n",
      "Convolution Time: 00:00:53 | Fitness Spacer Time 00:00:00 | Virus Growth Time 00:00:00\n",
      "Mutation Parallel: 00:00:00 | Immunity Update Parallel: 00:00:00 | Number of Phage: 99951\n",
      "Convolution Time: 00:00:53 | Fitness Spacer Time 00:00:00 | Virus Growth Time 00:00:00\n",
      "Mutation Parallel: 00:00:00 | Immunity Update Parallel: 00:00:00 | Number of Phage: 99783\n",
      "Convolution Time: 00:00:52 | Fitness Spacer Time 00:00:00 | Virus Growth Time 00:00:00\n",
      "Mutation Parallel: 00:00:00 | Immunity Update Parallel: 00:00:00 | Number of Phage: 99663\n",
      "Convolution Time: 00:00:49 | Fitness Spacer Time 00:00:00 | Virus Growth Time 00:00:00\n",
      "Mutation Parallel: 00:00:00 | Immunity Update Parallel: 00:00:00 | Number of Phage: 99033\n",
      "Convolution Time: 00:00:49 | Fitness Spacer Time 00:00:00 | Virus Growth Time 00:00:00\n",
      "Mutation Parallel: 00:00:00 | Immunity Update Parallel: 00:00:00 | Number of Phage: 99343\n",
      "Convolution Time: 00:00:48 | Fitness Spacer Time 00:00:00 | Virus Growth Time 00:00:00\n",
      "Mutation Parallel: 00:00:00 | Immunity Update Parallel: 00:00:00 | Number of Phage: 99384\n",
      "Convolution Time: 00:00:48 | Fitness Spacer Time 00:00:00 | Virus Growth Time 00:00:00\n",
      "Mutation Parallel: 00:00:00 | Immunity Update Parallel: 00:00:00 | Number of Phage: 98893\n",
      "Convolution Time: 00:00:49 | Fitness Spacer Time 00:00:00 | Virus Growth Time 00:00:00\n",
      "Mutation Parallel: 00:00:00 | Immunity Update Parallel: 00:00:00 | Number of Phage: 98913\n",
      "Convolution Time: 00:00:49 | Fitness Spacer Time 00:00:00 | Virus Growth Time 00:00:00\n",
      "Mutation Parallel: 00:00:00 | Immunity Update Parallel: 00:00:00 | Number of Phage: 98476\n",
      "Convolution Time: 00:00:49 | Fitness Spacer Time 00:00:00 | Virus Growth Time 00:00:00\n",
      "Mutation Parallel: 00:00:00 | Immunity Update Parallel: 00:00:00 | Number of Phage: 97425\n",
      "Convolution Time: 00:00:50 | Fitness Spacer Time 00:00:00 | Virus Growth Time 00:00:00\n",
      "Mutation Parallel: 00:00:00 | Immunity Update Parallel: 00:00:00 | Number of Phage: 97111\n",
      "Convolution Time: 00:00:49 | Fitness Spacer Time 00:00:00 | Virus Growth Time 00:00:00\n",
      "Mutation Parallel: 00:00:00 | Immunity Update Parallel: 00:00:00 | Number of Phage: 97089\n",
      "Convolution Time: 00:00:49 | Fitness Spacer Time 00:00:00 | Virus Growth Time 00:00:00\n",
      "Mutation Parallel: 00:00:00 | Immunity Update Parallel: 00:00:00 | Number of Phage: 97286\n",
      "Convolution Time: 00:00:51 | Fitness Spacer Time 00:00:00 | Virus Growth Time 00:00:00\n",
      "Mutation Parallel: 00:00:00 | Immunity Update Parallel: 00:00:00 | Number of Phage: 96865\n",
      "Convolution Time: 00:00:53 | Fitness Spacer Time 00:00:00 | Virus Growth Time 00:00:00\n",
      "Mutation Parallel: 00:00:00 | Immunity Update Parallel: 00:00:00 | Number of Phage: 96335\n",
      "Convolution Time: 00:00:51 | Fitness Spacer Time 00:00:00 | Virus Growth Time 00:00:00\n",
      "Mutation Parallel: 00:00:00 | Immunity Update Parallel: 00:00:00 | Number of Phage: 95934\n",
      "Convolution Time: 00:00:53 | Fitness Spacer Time 00:00:00 | Virus Growth Time 00:00:00\n",
      "Mutation Parallel: 00:00:00 | Immunity Update Parallel: 00:00:00 | Number of Phage: 95619\n",
      "Convolution Time: 00:00:51 | Fitness Spacer Time 00:00:00 | Virus Growth Time 00:00:00\n",
      "Mutation Parallel: 00:00:00 | Immunity Update Parallel: 00:00:00 | Number of Phage: 95622\n",
      "Convolution Time: 00:00:52 | Fitness Spacer Time 00:00:00 | Virus Growth Time 00:00:00\n",
      "Mutation Parallel: 00:00:00 | Immunity Update Parallel: 00:00:00 | Number of Phage: 95517\n",
      "Convolution Time: 00:00:55 | Fitness Spacer Time 00:00:00 | Virus Growth Time 00:00:00\n",
      "Mutation Parallel: 00:00:00 | Immunity Update Parallel: 00:00:00 | Number of Phage: 95494\n",
      "Convolution Time: 00:00:54 | Fitness Spacer Time 00:00:00 | Virus Growth Time 00:00:00\n",
      "Mutation Parallel: 00:00:00 | Immunity Update Parallel: 00:00:00 | Number of Phage: 95136\n",
      "Convolution Time: 00:00:55 | Fitness Spacer Time 00:00:00 | Virus Growth Time 00:00:00\n",
      "Mutation Parallel: 00:00:00 | Immunity Update Parallel: 00:00:00 | Number of Phage: 94753\n",
      "Convolution Time: 00:00:55 | Fitness Spacer Time 00:00:00 | Virus Growth Time 00:00:00\n",
      "Mutation Parallel: 00:00:00 | Immunity Update Parallel: 00:00:00 | Number of Phage: 94770\n",
      "Convolution Time: 00:00:54 | Fitness Spacer Time 00:00:00 | Virus Growth Time 00:00:00\n",
      "Mutation Parallel: 00:00:00 | Immunity Update Parallel: 00:00:00 | Number of Phage: 94729\n",
      "Convolution Time: 00:00:53 | Fitness Spacer Time 00:00:00 | Virus Growth Time 00:00:00\n",
      "Mutation Parallel: 00:00:00 | Immunity Update Parallel: 00:00:00 | Number of Phage: 94841\n",
      "Convolution Time: 00:00:54 | Fitness Spacer Time 00:00:00 | Virus Growth Time 00:00:00\n",
      "Mutation Parallel: 00:00:00 | Immunity Update Parallel: 00:00:00 | Number of Phage: 94499\n",
      "Convolution Time: 00:00:54 | Fitness Spacer Time 00:00:00 | Virus Growth Time 00:00:00\n",
      "Mutation Parallel: 00:00:00 | Immunity Update Parallel: 00:00:00 | Number of Phage: 94432\n",
      "Convolution Time: 00:00:56 | Fitness Spacer Time 00:00:00 | Virus Growth Time 00:00:00\n",
      "Mutation Parallel: 00:00:00 | Immunity Update Parallel: 00:00:00 | Number of Phage: 94432\n"
     ]
    }
   ],
   "source": [
    "# R0_sweep = np.exp(np.linspace(0, 1, 10))\n",
    "R0_sweep = [20]\n",
    "exit_time = []\n",
    "# f_overtime = []\n",
    "# N_overtime = []\n",
    "# n_frames = []\n",
    "# nh_frames = []\n",
    "kernel = init_kernel(params, sim_params)\n",
    "\n",
    "for R0 in R0_sweep:\n",
    "    params[\"R0\"] = R0\n",
    "    st0 = time.time()\n",
    "    n = init_guassian_parallel(params[\"N0\"], sim_params)\n",
    "    nh = init_exptail_parrallel(params[\"Nh\"], params,sim_params)\n",
    "    st1 = time.time()\n",
    "\n",
    "    et0 = time.strftime(\"%H:%M:%S\", time.gmtime(st1 - st0))\n",
    "    print(f\"Reproduction Rate R0: {R0} | init time: {et0}\")\n",
    "\n",
    "    for i in range(1000):\n",
    "        st1 = time.time()\n",
    "        p = coverage_parrallel_convolution(nh, kernel, params, sim_params)\n",
    "        st2 = time.time()\n",
    "        f = fitness_spacers(n, nh, p, params, sim_params) #f is now a masked array (where mask is where eff_R0 = 0)\n",
    "        st3 = time.time()\n",
    "        f_avg = np.sum(f*n/np.sum(n))\n",
    "        n = virus_growth(n, f-f_avg, params, sim_params) #update\n",
    "        st4 = time.time()\n",
    "\n",
    "        et1 = time.strftime(\"%H:%M:%S\", time.gmtime(st2 - st1))\n",
    "        et2 = time.strftime(\"%H:%M:%S\", time.gmtime(st3 - st2))\n",
    "        et3 = time.strftime(\"%H:%M:%S\", time.gmtime(st4 - st3))\n",
    "        print(\"Convolution Time:\", et1, \"| Fitness Spacer Time\", et2, \"| Virus Growth Time\", et3)\n",
    "\n",
    "        n = mutation_parallel(n, params, sim_params)\n",
    "        st5 = time.time()\n",
    "        nh = immunity_update_parallel(nh, n, params, sim_params) #update nh\n",
    "        st6 = time.time()\n",
    "\n",
    "\n",
    "        et4 = time.strftime(\"%H:%M:%S\", time.gmtime(st5 - st4))\n",
    "        et5 = time.strftime(\"%H:%M:%S\", time.gmtime(st6 - st5))\n",
    "        print(\"Mutation Parallel:\", et4, \"| Immunity Update Parallel:\", et5, \"| Number of Phage:\", np.sum(n))\n",
    "\n",
    "        # f_overtime.append(f_avg)\n",
    "        # N_overtime.append(np.sum(n))\n",
    "        # n_frames.append(n)\n",
    "        # nh_frames.append(nh)\n",
    "        if (i%20 == 0):\n",
    "            np.save(f\"test4/frame_n{i}.npy\", n)\n",
    "            np.save(f\"test4/frame_nh{i}.npy\", nh)\n",
    "\n",
    "        if np.sum(n) >= 10*params[\"Nh\"]:\n",
    "            # exit_time.append(i)\n",
    "            break\n",
    "\n",
    "    else:\n",
    "        exit_time.append(1000)\n",
    "# plt.imshow(n)\n",
    "# plt.imshow(nh)"
   ]
  },
  {
   "cell_type": "code",
   "execution_count": 12,
   "metadata": {},
   "outputs": [
    {
     "name": "stderr",
     "output_type": "stream",
     "text": [
      "MovieWriter ffmpeg unavailable; using Pillow instead.\n",
      "MovieWriter ffmpeg unavailable; using Pillow instead.\n"
     ]
    }
   ],
   "source": [
    "foldername= \"test3\"\n",
    "\n",
    "makeGif(nh_frames, foldername + \"/\" + \"nh\")\n",
    "makeGif(n_frames, foldername + \"/\" + \"n\")\n",
    "write2json(foldername + \"/\", params, sim_params)"
   ]
  },
  {
   "cell_type": "code",
   "execution_count": 6,
   "metadata": {},
   "outputs": [],
   "source": [
    "n_single = np.load(\"test4/frame_n18.npy\")"
   ]
  },
  {
   "cell_type": "code",
   "execution_count": 7,
   "metadata": {},
   "outputs": [
    {
     "data": {
      "text/plain": [
       "<matplotlib.image.AxesImage at 0x7f0fd7831610>"
      ]
     },
     "execution_count": 7,
     "metadata": {},
     "output_type": "execute_result"
    },
    {
     "data": {
      "image/png": "[encoded data removed]",
      "text/plain": [
       "<Figure size 640x480 with 1 Axes>"
      ]
     },
     "metadata": {},
     "output_type": "display_data"
    }
   ],
   "source": [
    "plt.imshow(n_single)"
   ]
  },
  {
   "cell_type": "code",
   "execution_count": null,
   "metadata": {},
   "outputs": [],
   "source": []
  }
 ],
 "metadata": {
  "kernelspec": {
   "display_name": "base",
   "language": "python",
   "name": "python3"
  },
  "language_info": {
   "codemirror_mode": {
    "name": "ipython",
    "version": 3
   },
   "file_extension": ".py",
   "mimetype": "text/x-python",
   "name": "python",
   "nbconvert_exporter": "python",
   "pygments_lexer": "ipython3",
   "version": "3.9.16"
  },
  "orig_nbformat": 4,
  "vscode": {
   "interpreter": {
    "hash": "b5da1a19760c645bef876c945e2def5171d007c0fd3f14585be32e516ddabd56"
   }
  }
 },
 "nbformat": 4,
 "nbformat_minor": 2
}
