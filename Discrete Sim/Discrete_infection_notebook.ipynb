{
 "cells": [
  {
   "cell_type": "code",
   "execution_count": 1,
   "metadata": {},
   "outputs": [],
   "source": [
    "import numpy as np\n",
    "import numpy.ma as ma\n",
    "import pandas as pd\n",
    "import matplotlib.pyplot as plt\n",
    "import copy\n",
    "from scipy.ndimage import convolve\n",
    "import matplotlib.animation as animation\n",
    "import warnings\n",
    "import json\n",
    "import scipy\n",
    "import os\n",
    "\n",
    "import discrete_simulation_methods as ds"
   ]
  },
  {
   "cell_type": "code",
   "execution_count": 2,
   "metadata": {},
   "outputs": [],
   "source": [
    "params = { #parameters relevant for the equations\n",
    "    \"Nh\":             100,\n",
    "    \"N0\":             100,\n",
    "    \"R0\":             1.5,\n",
    "    \"M\":                1, #Also L\n",
    "    \"D\":                3, #Unused\n",
    "    \"dc\":               5, #Unused\n",
    "    \"mu\":             0.1, \n",
    "    \"gamma_shape\":     20, \n",
    "}\n",
    "sim_params = { #parameters relevant for the simulation (including Inital Valuess)\n",
    "    \"xdomain\":                    4,\n",
    "    \"dx\":                         1,\n",
    "    \"t0\":                         0, \n",
    "    \"tf\":                        10,\n",
    "    \"dt\":                       0.1,\n",
    "    \"noise_mean\":                 0,\n",
    "    \"noise_std\":                0.1,\n",
    "    \"initial_mean\":           [0,0],\n",
    "    \"initial_var\":                5,\n",
    "    \"n_step_prior\":              10,\n",
    "    \"folder_name\":  \"simulation#2/\",\n",
    "}"
   ]
  },
  {
   "cell_type": "code",
   "execution_count": 3,
   "metadata": {},
   "outputs": [],
   "source": [
    "x_range = sim_params[\"xdomain\"] #Initialize the spaces\n",
    "dx = sim_params[\"dx\"]\n",
    "x_linspace = np.arange(-x_range, x_range, dx)\n",
    "x_size = np.size(x_linspace)\n",
    "sim_params[\"x_size\"] = x_size\n",
    "\n",
    "t_size = (sim_params[\"tf\"]-sim_params[\"t0\"])/sim_params[\"dt\"]\n",
    "\n",
    "s = np.zeros([x_size, x_size], dtype=int)\n",
    "n = np.zeros([x_size, x_size], dtype=int) \n",
    "nh = np.zeros([x_size, x_size], dtype=int) #nh(x,t) = Nh*h(x,t) there should be a total of Nh*M elements \n",
    "coordmap = np.meshgrid(x_linspace, x_linspace) #coordmap is kinda stupid since we are not in any real space\n",
    "c = nh.copy() # c is unused (supposed to be coverage)"
   ]
  },
  {
   "cell_type": "code",
   "execution_count": 10,
   "metadata": {},
   "outputs": [
    {
     "data": {
      "text/plain": [
       "<matplotlib.image.AxesImage at 0x7f9e4211b700>"
      ]
     },
     "execution_count": 10,
     "metadata": {},
     "output_type": "execute_result"
    },
    {
     "data": {
      "image/png": "[encoded data removed]",
      "text/plain": [
       "<Figure size 432x288 with 1 Axes>"
      ]
     },
     "metadata": {
      "needs_background": "light"
     },
     "output_type": "display_data"
    }
   ],
   "source": [
    "n0 = np.zeros(n.size, dtype=int) #Initial value of n0, initialized with a gaussian distributed\n",
    "\n",
    "N0 = int(params[\"N0\"])\n",
    "initial_position = sim_params[\"initial_mean\"]\n",
    "initial_var = sim_params[\"initial_var\"]\n",
    "\n",
    "x_map = coordmap[0]\n",
    "y_map = coordmap[1]\n",
    "\n",
    "rsqrd = (x_map-initial_position[0])**2 + (y_map-initial_position[0])**2\n",
    "\n",
    "p0 = np.exp(-rsqrd/(2*(initial_var**2)))\n",
    "p0 = p0/np.sum(p0) # initial prob distribution for n: Gaussian dist\n",
    "\n",
    "p0 = p0.ravel()\n",
    "\n",
    "for i in range(N0):\n",
    "    index = np.random.choice(n.size, p=p0) #Should really have a better way of doing this, this is extremely slow: maybe MPI?\n",
    "    n0[index] += 1\n",
    "\n",
    "n = copy.deepcopy(n0.reshape(n.shape)) #Make a deepcopy to seperate the two functions\n",
    "plt.figure()\n",
    "plt.imshow(n)"
   ]
  },
  {
   "cell_type": "code",
   "execution_count": 11,
   "metadata": {},
   "outputs": [
    {
     "data": {
      "text/plain": [
       "<matplotlib.image.AxesImage at 0x7f9e41fb7040>"
      ]
     },
     "execution_count": 11,
     "metadata": {},
     "output_type": "execute_result"
    },
    {
     "data": {
      "image/png": "[encoded data removed]",
      "text/plain": [
       "<Figure size 432x288 with 1 Axes>"
      ]
     },
     "metadata": {
      "needs_background": "light"
     },
     "output_type": "display_data"
    }
   ],
   "source": [
    "nh0 = np.zeros(nh.size, dtype=int) #Similarly, this is the initial value for nh\n",
    "\n",
    "Nh = int(params[\"Nh\"])\n",
    "M = int(params[\"M\"])\n",
    "\n",
    "initial_position = sim_params[\"initial_mean\"]\n",
    "initial_var = 10*sim_params[\"initial_var\"] #just 10 times the variance of n0, maybe change this?\n",
    "\n",
    "x_map = coordmap[0]\n",
    "y_map = coordmap[1]\n",
    "\n",
    "rsqrd = (x_map-initial_position[0])**2 + (y_map-initial_position[0])**2\n",
    "\n",
    "p0 = np.exp(-rsqrd/(2*(initial_var**2)))\n",
    "p0 = p0/np.sum(p0) # initial prob distribution for n: Gaussian dist\n",
    "\n",
    "p0 = p0.ravel()\n",
    "\n",
    "for i in range(Nh*M):\n",
    "    index = np.random.choice(nh.size, p=p0) #similarly, this is really slow\n",
    "    nh0[index] += 1\n",
    "\n",
    "nh = copy.deepcopy(nh0.reshape(nh.shape))\n",
    "plt.figure()\n",
    "plt.imshow(nh)"
   ]
  },
  {
   "cell_type": "code",
   "execution_count": 7,
   "metadata": {},
   "outputs": [
    {
     "ename": "NameError",
     "evalue": "name 'fitness' is not defined",
     "output_type": "error",
     "traceback": [
      "\u001b[0;31m---------------------------------------------------------------------------\u001b[0m",
      "\u001b[0;31mNameError\u001b[0m                                 Traceback (most recent call last)",
      "\u001b[1;32m/home/zhi/Documents/Code/CRISPR_Sim/Discrete Sim/Discrete_infection_notebook.ipynb Cell 6'\u001b[0m in \u001b[0;36m<cell line: 15>\u001b[0;34m()\u001b[0m\n\u001b[1;32m     <a href='vscode-notebook-cell://ssh-remote%2B192.168.12.13/home/zhi/Documents/Code/CRISPR_Sim/Discrete%20Sim/Discrete_infection_notebook.ipynb#ch0000005vscode-remote?line=12'>13</a>\u001b[0m N \u001b[39m=\u001b[39m []\n\u001b[1;32m     <a href='vscode-notebook-cell://ssh-remote%2B192.168.12.13/home/zhi/Documents/Code/CRISPR_Sim/Discrete%20Sim/Discrete_infection_notebook.ipynb#ch0000005vscode-remote?line=14'>15</a>\u001b[0m \u001b[39mfor\u001b[39;00m t \u001b[39min\u001b[39;00m np\u001b[39m.\u001b[39marange(t_start, t_stop, t_step):\n\u001b[0;32m---> <a href='vscode-notebook-cell://ssh-remote%2B192.168.12.13/home/zhi/Documents/Code/CRISPR_Sim/Discrete%20Sim/Discrete_infection_notebook.ipynb#ch0000005vscode-remote?line=16'>17</a>\u001b[0m     f \u001b[39m=\u001b[39m fitness(nh, params, sim_params) \u001b[39m#f is now a masked array (where mask is where eff_R0 = 0)\u001b[39;00m\n\u001b[1;32m     <a href='vscode-notebook-cell://ssh-remote%2B192.168.12.13/home/zhi/Documents/Code/CRISPR_Sim/Discrete%20Sim/Discrete_infection_notebook.ipynb#ch0000005vscode-remote?line=17'>18</a>\u001b[0m     n \u001b[39m=\u001b[39m ds\u001b[39m.\u001b[39mvirus_growth(n, f, params, sim_params) \u001b[39m#update n\u001b[39;00m\n\u001b[1;32m     <a href='vscode-notebook-cell://ssh-remote%2B192.168.12.13/home/zhi/Documents/Code/CRISPR_Sim/Discrete%20Sim/Discrete_infection_notebook.ipynb#ch0000005vscode-remote?line=18'>19</a>\u001b[0m     n \u001b[39m=\u001b[39m ds\u001b[39m.\u001b[39mmutation(n, params, sim_params)\n",
      "\u001b[0;31mNameError\u001b[0m: name 'fitness' is not defined"
     ]
    }
   ],
   "source": [
    "nh = nh0.reshape(nh.shape)\n",
    "n = n0.reshape(n.shape) # In time \n",
    "\n",
    "t_start = sim_params[\"t0\"] #Time parameters\n",
    "t_stop = sim_params[\"tf\"]\n",
    "t_step = sim_params[\"dt\"]\n",
    "\n",
    "frames_n = [] #Store the frames as gifs\n",
    "frames_nh = []\n",
    "frames_f = []\n",
    "times = []\n",
    "\n",
    "N = []\n",
    "\n",
    "for t in np.arange(t_start, t_stop, t_step):\n",
    "\n",
    "    f = fitness(nh, params, sim_params) #f is now a masked array (where mask is where eff_R0 = 0)\n",
    "    n = ds.virus_growth(n, f, params, sim_params) #update n\n",
    "    n = ds.mutation(n, params, sim_params)\n",
    "\n",
    "    nh_old = copy.deepcopy(nh)\n",
    "    nh = ds.immunity_gain(nh, n) #update nh\n",
    "    nh = ds.immunity_loss(nh, n)\n",
    "\n",
    "    current_N = np.sum(n)\n",
    "    current_Nh = np.sum(nh)\n",
    "    \n",
    "    frames_nh.append([nh])\n",
    "    frames_f.append([f])\n",
    "    frames_n.append([n])\n",
    "    times.append([t])\n",
    "    N.append([current_N])\n",
    "\n",
    "    n_step_prior = sim_params[\"n_step_prior\"]\n",
    "\n",
    "    if (current_N > current_Nh/2) and (t > (t_stop - t_start)/2):\n",
    "        del frames_n[-n_step_prior:]\n",
    "        del frames_nh[-n_step_prior:]\n",
    "        del frames_f[-n_step_prior:]\n",
    "        del times[-n_step_prior:]\n",
    "\n",
    "        old_time = times[-1][0]\n",
    "        n = frames_n[-1][0]\n",
    "        nh = frames_nh[-1][0]"
   ]
  },
  {
   "cell_type": "code",
   "execution_count": 8,
   "metadata": {},
   "outputs": [
    {
     "ename": "FileExistsError",
     "evalue": "[Errno 17] File exists: 'simulation#5'",
     "output_type": "error",
     "traceback": [
      "\u001b[0;31m---------------------------------------------------------------------------\u001b[0m",
      "\u001b[0;31mFileExistsError\u001b[0m                           Traceback (most recent call last)",
      "\u001b[1;32m/home/zhi/Documents/Code/CRISPR_Sim/Discrete Sim/Discrete_infection_notebook.ipynb Cell 7'\u001b[0m in \u001b[0;36m<cell line: 2>\u001b[0;34m()\u001b[0m\n\u001b[1;32m      <a href='vscode-notebook-cell://ssh-remote%2B192.168.12.13/home/zhi/Documents/Code/CRISPR_Sim/Discrete%20Sim/Discrete_infection_notebook.ipynb#ch0000006vscode-remote?line=0'>1</a>\u001b[0m sim_params[\u001b[39m\"\u001b[39m\u001b[39mfolder_name\u001b[39m\u001b[39m\"\u001b[39m] \u001b[39m=\u001b[39m \u001b[39m\"\u001b[39m\u001b[39msimulation#5\u001b[39m\u001b[39m\"\u001b[39m\n\u001b[0;32m----> <a href='vscode-notebook-cell://ssh-remote%2B192.168.12.13/home/zhi/Documents/Code/CRISPR_Sim/Discrete%20Sim/Discrete_infection_notebook.ipynb#ch0000006vscode-remote?line=1'>2</a>\u001b[0m os\u001b[39m.\u001b[39;49mmkdir(sim_params[\u001b[39m\"\u001b[39;49m\u001b[39mfolder_name\u001b[39;49m\u001b[39m\"\u001b[39;49m])\n\u001b[1;32m      <a href='vscode-notebook-cell://ssh-remote%2B192.168.12.13/home/zhi/Documents/Code/CRISPR_Sim/Discrete%20Sim/Discrete_infection_notebook.ipynb#ch0000006vscode-remote?line=2'>3</a>\u001b[0m os\u001b[39m.\u001b[39mchdir(sim_params[\u001b[39m\"\u001b[39m\u001b[39mfolder_name\u001b[39m\u001b[39m\"\u001b[39m])\n\u001b[1;32m      <a href='vscode-notebook-cell://ssh-remote%2B192.168.12.13/home/zhi/Documents/Code/CRISPR_Sim/Discrete%20Sim/Discrete_infection_notebook.ipynb#ch0000006vscode-remote?line=4'>5</a>\u001b[0m ds\u001b[39m.\u001b[39mwrite2json(\u001b[39m\"\u001b[39m\u001b[39mtest\u001b[39m\u001b[39m\"\u001b[39m, params, sim_params)\n",
      "\u001b[0;31mFileExistsError\u001b[0m: [Errno 17] File exists: 'simulation#5'"
     ]
    }
   ],
   "source": [
    "sim_params[\"folder_name\"] = \"simulation#5\"\n",
    "os.mkdir(sim_params[\"folder_name\"])\n",
    "os.chdir(sim_params[\"folder_name\"])\n",
    "\n",
    "ds.write2json(\"test\", params, sim_params)\n",
    "ds.makeGif(frames_n, \"n_simulation\")\n",
    "ds.makeGif(frames_nh, \"nh_simulation\")\n",
    "ds.makeGif(frames_f, \"f_simulation\")\n",
    "\n",
    "os.chdir(\"../\")"
   ]
  },
  {
   "cell_type": "code",
   "execution_count": 12,
   "metadata": {},
   "outputs": [
    {
     "data": {
      "text/plain": [
       "[<matplotlib.lines.Line2D at 0x7f9e41472800>]"
      ]
     },
     "execution_count": 12,
     "metadata": {},
     "output_type": "execute_result"
    },
    {
     "data": {
      "image/png": "[encoded data removed]",
      "text/plain": [
       "<Figure size 432x288 with 1 Axes>"
      ]
     },
     "metadata": {
      "needs_background": "light"
     },
     "output_type": "display_data"
    }
   ],
   "source": [
    "plt.plot(N)"
   ]
  },
  {
   "cell_type": "code",
   "execution_count": 51,
   "metadata": {},
   "outputs": [],
   "source": [
    "def fitness(nh, params, sim_params):\n",
    "    R0 = params[\"R0\"]\n",
    "    M = params[\"M\"]\n",
    "    Nh = params[\"Nh\"]\n",
    "\n",
    "\n",
    "    h = nh/Nh\n",
    "    eff_R0 = R0*(1-ds.coverage(h, params, sim_params))**M\n",
    "    mask = (eff_R0 ==0)\n",
    "    ma_eff_R0 = ma.masked_array(eff_R0, mask = mask)\n",
    "    res = np.log(ma_eff_R0)\n",
    "    return res\n"
   ]
  },
  {
   "cell_type": "code",
   "execution_count": 25,
   "metadata": {},
   "outputs": [],
   "source": [
    "def virus_growth(n, f, params, sim_params):\n",
    "    dt = sim_params[\"dt\"]\n",
    "    return np.random.poisson((1+f*dt)*n) #growth rate is (1+fdt)n as normal really"
   ]
  },
  {
   "cell_type": "code",
   "execution_count": 75,
   "metadata": {},
   "outputs": [],
   "source": [
    "R0 = params[\"R0\"]\n",
    "M = params[\"M\"]\n",
    "Nh = params[\"Nh\"]"
   ]
  },
  {
   "cell_type": "code",
   "execution_count": 76,
   "metadata": {},
   "outputs": [
    {
     "name": "stderr",
     "output_type": "stream",
     "text": [
      "/tmp/ipykernel_6281/3099401134.py:11: RuntimeWarning: divide by zero encountered in log\n",
      "  res = np.log(ma_eff_R0)\n"
     ]
    }
   ],
   "source": [
    "nh[0,0] = Nh*M\n",
    "f = fitness(nh, params, sim_params) #f is now a masked array (where mask is where eff_R0 = 0)\n",
    "\n",
    "\n",
    "f[0,0] = 0\n",
    "f.mask[0,0] = True"
   ]
  },
  {
   "cell_type": "code",
   "execution_count": 97,
   "metadata": {},
   "outputs": [],
   "source": [
    "h = nh/Nh\n",
    "eff_R0 = R0*(1-ds.coverage(h, params, sim_params))**M\n",
    "mask = (eff_R0 ==0)\n",
    "ma_eff_R0 = ma.masked_array(eff_R0, mask = mask)\n",
    "res = ma.log(ma_eff_R0)"
   ]
  },
  {
   "cell_type": "code",
   "execution_count": 100,
   "metadata": {},
   "outputs": [
    {
     "data": {
      "text/plain": [
       "masked_array(\n",
       "  data=[[--, 0.4054651081081644, 0.4054651081081644, 0.33289441527332897,\n",
       "         0.4054651081081644, 0.4054651081081644, 0.4054651081081644,\n",
       "         0.4054651081081644],\n",
       "        [0.4054651081081644, 0.4054651081081644, 0.4054651081081644,\n",
       "         0.4054651081081644, 0.4054651081081644, 0.4054651081081644,\n",
       "         0.4054651081081644, 0.4054651081081644],\n",
       "        [0.4054651081081644, 0.4054651081081644, 0.4054651081081644,\n",
       "         0.4054651081081644, 0.4054651081081644, 0.4054651081081644,\n",
       "         0.4054651081081644, 0.4054651081081644],\n",
       "        [0.4054651081081644, 0.4054651081081644, 0.4054651081081644,\n",
       "         0.4054651081081644, 0.4054651081081644, 0.4054651081081644,\n",
       "         0.4054651081081644, 0.4054651081081644],\n",
       "        [0.4054651081081644, 0.4054651081081644, 0.11778303565638346,\n",
       "         0.4054651081081644, 0.4054651081081644, 0.4054651081081644,\n",
       "         0.4054651081081644, 0.4054651081081644],\n",
       "        [0.4054651081081644, 0.4054651081081644, 0.4054651081081644,\n",
       "         0.4054651081081644, 0.4054651081081644, 0.4054651081081644,\n",
       "         0.4054651081081644, 0.4054651081081644],\n",
       "        [0.4054651081081644, 0.4054651081081644, 0.4054651081081644,\n",
       "         0.4054651081081644, 0.4054651081081644, 0.4054651081081644,\n",
       "         0.4054651081081644, 0.4054651081081644],\n",
       "        [0.4054651081081644, 0.4054651081081644, 0.4054651081081644,\n",
       "         0.4054651081081644, 0.4054651081081644, 0.30010459245033816,\n",
       "         -0.4620354595965585, 0.4054651081081644]],\n",
       "  mask=[[ True, False, False, False, False, False, False, False],\n",
       "        [False, False, False, False, False, False, False, False],\n",
       "        [False, False, False, False, False, False, False, False],\n",
       "        [False, False, False, False, False, False, False, False],\n",
       "        [False, False, False, False, False, False, False, False],\n",
       "        [False, False, False, False, False, False, False, False],\n",
       "        [False, False, False, False, False, False, False, False],\n",
       "        [False, False, False, False, False, False, False, False]],\n",
       "  fill_value=1e+20)"
      ]
     },
     "execution_count": 100,
     "metadata": {},
     "output_type": "execute_result"
    }
   ],
   "source": [
    "res"
   ]
  },
  {
   "cell_type": "code",
   "execution_count": 91,
   "metadata": {},
   "outputs": [],
   "source": [
    "f = res"
   ]
  },
  {
   "cell_type": "code",
   "execution_count": 93,
   "metadata": {},
   "outputs": [
    {
     "data": {
      "text/plain": [
       "masked_array(\n",
       "  data=[[--, 1.0405465108108165, 1.0405465108108165, 1.0332894415273328,\n",
       "         1.0405465108108165, 1.0405465108108165, 1.0405465108108165,\n",
       "         1.0405465108108165],\n",
       "        [1.0405465108108165, 1.0405465108108165, 1.0405465108108165,\n",
       "         1.0405465108108165, 1.0405465108108165, 1.0405465108108165,\n",
       "         1.0405465108108165, 1.0405465108108165],\n",
       "        [1.0405465108108165, 1.0405465108108165, 1.0405465108108165,\n",
       "         1.0405465108108165, 1.0405465108108165, 1.0405465108108165,\n",
       "         1.0405465108108165, 1.0405465108108165],\n",
       "        [1.0405465108108165, 1.0405465108108165, 1.0405465108108165,\n",
       "         1.0405465108108165, 1.0405465108108165, 1.0405465108108165,\n",
       "         1.0405465108108165, 1.0405465108108165],\n",
       "        [1.0405465108108165, 1.0405465108108165, 1.0117783035656382,\n",
       "         1.0405465108108165, 1.0405465108108165, 1.0405465108108165,\n",
       "         1.0405465108108165, 1.0405465108108165],\n",
       "        [1.0405465108108165, 1.0405465108108165, 1.0405465108108165,\n",
       "         1.0405465108108165, 1.0405465108108165, 1.0405465108108165,\n",
       "         1.0405465108108165, 1.0405465108108165],\n",
       "        [1.0405465108108165, 1.0405465108108165, 1.0405465108108165,\n",
       "         1.0405465108108165, 1.0405465108108165, 1.0405465108108165,\n",
       "         1.0405465108108165, 1.0405465108108165],\n",
       "        [1.0405465108108165, 1.0405465108108165, 1.0405465108108165,\n",
       "         1.0405465108108165, 1.0405465108108165, 1.0300104592450339,\n",
       "         0.9537964540403442, 1.0405465108108165]],\n",
       "  mask=[[ True, False, False, False, False, False, False, False],\n",
       "        [False, False, False, False, False, False, False, False],\n",
       "        [False, False, False, False, False, False, False, False],\n",
       "        [False, False, False, False, False, False, False, False],\n",
       "        [False, False, False, False, False, False, False, False],\n",
       "        [False, False, False, False, False, False, False, False],\n",
       "        [False, False, False, False, False, False, False, False],\n",
       "        [False, False, False, False, False, False, False, False]],\n",
       "  fill_value=0.0)"
      ]
     },
     "execution_count": 93,
     "metadata": {},
     "output_type": "execute_result"
    }
   ],
   "source": [
    "dt = sim_params[\"dt\"]\n",
    "(1+f*dt)"
   ]
  },
  {
   "cell_type": "code",
   "execution_count": null,
   "metadata": {},
   "outputs": [],
   "source": []
  }
 ],
 "metadata": {
  "interpreter": {
   "hash": "31f2aee4e71d21fbe5cf8b01ff0e069b9275f58929596ceb00d14d90e3e16cd6"
  },
  "kernelspec": {
   "display_name": "Python 3.10.4 64-bit",
   "language": "python",
   "name": "python3"
  },
  "language_info": {
   "codemirror_mode": {
    "name": "ipython",
    "version": 3
   },
   "file_extension": ".py",
   "mimetype": "text/x-python",
   "name": "python",
   "nbconvert_exporter": "python",
   "pygments_lexer": "ipython3",
   "version": "3.10.4"
  },
  "orig_nbformat": 4
 },
 "nbformat": 4,
 "nbformat_minor": 2
}
