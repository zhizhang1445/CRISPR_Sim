{
 "cells": [
  {
   "cell_type": "code",
   "execution_count": 272,
   "metadata": {},
   "outputs": [],
   "source": [
    "import numpy as np\n",
    "import pandas as pd\n",
    "import matplotlib.pyplot as plt\n",
    "import copy\n",
    "from scipy.ndimage import convolve\n",
    "import matplotlib.animation as animation\n",
    "import warnings\n",
    "import json\n",
    "import scipy"
   ]
  },
  {
   "cell_type": "code",
   "execution_count": 260,
   "metadata": {},
   "outputs": [],
   "source": [
    "params = { #parameters relevant for the equations\n",
    "    \"Nh\":             100,\n",
    "    \"N0\":             100,\n",
    "    \"R0\":               4,\n",
    "    \"M\":                2, #Also L\n",
    "    \"D\":                1, \n",
    "    \"dc\":               5, #Unused\n",
    "    \"mu\":             0.1, #Unused\n",
    "    \"gamma_shape\":     20,\n",
    "}\n",
    "sim_params = { #parameters relevant for the simulation (including Inital Valuess)\n",
    "    \"xdomain\":         10,\n",
    "    \"dx\":               1,\n",
    "    \"t0\":               0, \n",
    "    \"tf\":             100,\n",
    "    \"dt\":             0.1,\n",
    "    \"noise_mean\":       0,\n",
    "    \"noise_std\":        1,\n",
    "    \"initial_mean\": [0,0],\n",
    "    \"initial_var\":      5,\n",
    "}"
   ]
  },
  {
   "cell_type": "code",
   "execution_count": 236,
   "metadata": {},
   "outputs": [],
   "source": [
    "x_range = sim_params[\"xdomain\"]\n",
    "dx = sim_params[\"dx\"]\n",
    "x_linspace = np.arange(-x_range, x_range, dx)\n",
    "x_size = np.size(x_linspace)\n",
    "sim_params[\"x_size\"] = x_size\n",
    "\n",
    "t_size = (sim_params[\"tf\"]-sim_params[\"t0\"])/sim_params[\"dt\"]\n",
    "\n",
    "s = np.zeros([x_size, x_size]) # Note this is a continuous simulation\n",
    "n = np.zeros([x_size, x_size]) # Not nh, n doesn't hate \n",
    "h = params[\"M\"]*np.ones([x_size, x_size])/x_size**2\n",
    "coordmap = np.meshgrid(x_linspace, x_linspace)\n",
    "c = h.copy()"
   ]
  },
  {
   "cell_type": "code",
   "execution_count": 237,
   "metadata": {},
   "outputs": [],
   "source": [
    "off_diag = np.ones(x_size**2)\n",
    "L = scipy.sparse.diags([-1, 5, -1], [-1, 0, 1], shape = (x_size**2, x_size**2)) #Discrete Laplacian Operator L \n",
    "L = L.tolil()\n",
    "L[0,0] = L[-1,-1] = 3 #Neumann Boundary condition\n",
    "sim_params[\"Laplacian\"] = L #Save it to use later"
   ]
  },
  {
   "cell_type": "code",
   "execution_count": 238,
   "metadata": {},
   "outputs": [],
   "source": [
    "initial_position = sim_params[\"initial_mean\"] = [0, 0]\n",
    "initial_var = sim_params[\"initial_var\"] = 1\n",
    "\n",
    "x_map = coordmap[0]\n",
    "y_map = coordmap[1]\n",
    "\n",
    "rsqrd = (x_map-initial_position[0])**2 + (y_map-initial_position[0])**2\n",
    "\n",
    "n0 = np.exp(-rsqrd/(2*(initial_var**2)))\n",
    "norm = np.sum(n0)\n",
    "n0 = n0/np.sum(n0) # initial cond for n: Gaussian dist\n",
    "\n",
    "h0 = params[\"M\"]*np.ones(h.shape)/np.size(h) # Initial condition for h0: Uniform dist"
   ]
  },
  {
   "cell_type": "code",
   "execution_count": null,
   "metadata": {},
   "outputs": [],
   "source": [
    "def write2json(name):\n",
    "    with open(name + '_params.json', 'w') as fp:\n",
    "        json.dump(params, fp)\n",
    "\n",
    "    with open(name + '_sim_params.json', 'w') as fp:\n",
    "        json.dump(sim_params, fp)"
   ]
  },
  {
   "cell_type": "code",
   "execution_count": 178,
   "metadata": {},
   "outputs": [],
   "source": [
    "def coverage(h):\n",
    "    return h/params[\"M\"]\n",
    "\n",
    "def normalization(h):\n",
    "    vmin = np.min(h)\n",
    "    M = params[\"M\"]\n",
    "\n",
    "    out = h - vmin\n",
    "    vtot = np.sum(out)\n",
    "    out = M*(out/vtot)\n",
    "\n",
    "    return out"
   ]
  },
  {
   "cell_type": "code",
   "execution_count": 179,
   "metadata": {},
   "outputs": [],
   "source": [
    "def gen_Gaussian_noise(n):\n",
    "    mean = sim_params[\"noise_mean\"]\n",
    "    std = sim_params[\"noise_std\"]\n",
    "    samples = np.random.normal(mean, std, size=n.size)\n",
    "    return samples.reshape(n.shape)"
   ]
  },
  {
   "cell_type": "code",
   "execution_count": 180,
   "metadata": {},
   "outputs": [],
   "source": [
    "n_flat = n.ravel() #ravel is just a pointer change, does not change memory\n",
    "h_flat = h.ravel() #if you change h, h_flat doesn't change, opposite is not true"
   ]
  },
  {
   "cell_type": "code",
   "execution_count": 244,
   "metadata": {},
   "outputs": [],
   "source": [
    "def makeGif(frame_stack, name):\n",
    "    fig = plt.figure()\n",
    "\n",
    "    animation_frames = []\n",
    "    for frame in frame_stack:\n",
    "        frame = np.squeeze(frame)\n",
    "        animation_frames.append([plt.imshow(frame, animated = True)])\n",
    "        \n",
    "    ani = animation.ArtistAnimation(fig, animation_frames, interval=50, blit=True, repeat_delay=1000)\n",
    "    ani.save(name + \".gif\")\n",
    "\n",
    "    return 1"
   ]
  },
  {
   "cell_type": "code",
   "execution_count": 257,
   "metadata": {},
   "outputs": [],
   "source": [
    "def step_n_approx(n, h):\n",
    "    R0 = params[\"R0\"]\n",
    "    D = params[\"D\"]\n",
    "    M = params[\"M\"]\n",
    "\n",
    "    eff_R0 = R0*(1-coverage(h))**M\n",
    "    drive = np.log(eff_R0, out=np.zeros_like(eff_R0), where=(eff_R0!=0))\n",
    "    approx_del2 = scipy.ndimage.filters.laplace(n) #Dumb Way to approximate Laplacian\n",
    "    \n",
    "    noise = np.sqrt(n)*gen_Gaussian_noise(n)\n",
    "     \n",
    "    return drive*n + D*approx_del2 + noise"
   ]
  },
  {
   "cell_type": "code",
   "execution_count": 251,
   "metadata": {},
   "outputs": [],
   "source": [
    "def step_n_exact(n, h):\n",
    "    R0 = params[\"R0\"]\n",
    "    D = params[\"D\"]\n",
    "    M = params[\"M\"]\n",
    "\n",
    "\n",
    "    eff_R0 = R0*(1-coverage(h))**M\n",
    "    drive = np.log(eff_R0, out=np.zeros_like(eff_R0), where=(eff_R0!=0))\n",
    "    \n",
    "    L = sim_params[\"Laplacian\"].tocsr() #more exact way to do Laplacian\n",
    "    \n",
    "    if n.ndim != 1:\n",
    "        del2n = L.dot(n.ravel()).reshape(n.shape)\n",
    "    else:\n",
    "        del2n = L.dot(n)\n",
    "\n",
    "    \n",
    "    noise = np.sqrt(n)*gen_Gaussian_noise(n)\n",
    "     \n",
    "    return drive*n + D*del2n + noise"
   ]
  },
  {
   "cell_type": "code",
   "execution_count": 183,
   "metadata": {},
   "outputs": [],
   "source": [
    "def step_h(n, h):\n",
    "    Nh = params[\"Nh\"]\n",
    "    N = np.sum(n) \n",
    "    # N = params[\"N\"] #fixed N\n",
    "    M = params[\"M\"]\n",
    "    h_new = (1/Nh)*(n - (h/M)*N) \n",
    "    return h_new"
   ]
  },
  {
   "cell_type": "code",
   "execution_count": 267,
   "metadata": {},
   "outputs": [],
   "source": [
    "h = h0\n",
    "n = n0\n",
    "t_start = sim_params[\"t0\"]\n",
    "t_stop = sim_params[\"tf\"]\n",
    "t_step = sim_params[\"dt\"]\n",
    "\n",
    "frames_n = []\n",
    "frames_h = []\n",
    "N = []\n",
    "\n",
    "for t in np.arange(t_start, t_stop, t_step):\n",
    "\n",
    "    n = n + step_n_approx(n, h)*(t_step/2) #Half-step first for n: n(t+dt/2) = n(t) + dn/dt(t)*(dt/2)\n",
    "    n[n < 0] = 0\n",
    "    h = h + step_h(n,h)*(t_step/2) #Half-step for h\n",
    "    h = normalization(h)\n",
    "\n",
    "    n = n + step_n_approx(n, h)*(t_step/2) #Second Half-step for n : n(t+dt) = n(t+dt/2) + dn/dt(t+dt/2)*(dt/2)\n",
    "    n[n < 0] =0\n",
    "    h = h + step_h(n, h)*(t_step/2) #Second Half-step for h\n",
    "    h = normalization(h)\n",
    "\n",
    "\n",
    "    frames_n.append([n])\n",
    "    frames_h.append([h])\n",
    "    N.append([np.sum(n)])\n"
   ]
  },
  {
   "cell_type": "code",
   "execution_count": 271,
   "metadata": {},
   "outputs": [
    {
     "data": {
      "text/plain": [
       "1"
      ]
     },
     "execution_count": 271,
     "metadata": {},
     "output_type": "execute_result"
    },
    {
     "data": {
      "image/png": "[encoded data removed]",
      "text/plain": [
       "<Figure size 432x288 with 1 Axes>"
      ]
     },
     "metadata": {
      "needs_background": "light"
     },
     "output_type": "display_data"
    }
   ],
   "source": [
    "makeGif(frames_h, \"continuous_h_approx_high_noise\")"
   ]
  },
  {
   "cell_type": "code",
   "execution_count": 245,
   "metadata": {},
   "outputs": [],
   "source": [
    "def update(n, h, t_step):\n",
    "    n = n + step_n_exact(n, h)*(t_step) #Half-step first for n: n(t+dt/2) = n(t) + dn/dt(t)*(dt/2)\n",
    "    n[n < 0] = 0\n",
    "    # h = h + step_h(n,h)*(t_step) #Half-step for h\n",
    "    # h = normalization(h)\n",
    "    return n, h"
   ]
  }
 ],
 "metadata": {
  "interpreter": {
   "hash": "ebcecea298eea1cfaf9072f1a359d41de78376b896924b732cb01e1a1ddaaea6"
  },
  "kernelspec": {
   "display_name": "Python 3.9.7 ('base')",
   "language": "python",
   "name": "python3"
  },
  "language_info": {
   "codemirror_mode": {
    "name": "ipython",
    "version": 3
   },
   "file_extension": ".py",
   "mimetype": "text/x-python",
   "name": "python",
   "nbconvert_exporter": "python",
   "pygments_lexer": "ipython3",
   "version": "3.9.7"
  },
  "orig_nbformat": 4
 },
 "nbformat": 4,
 "nbformat_minor": 2
}
