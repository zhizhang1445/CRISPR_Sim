{
 "cells": [
  {
   "cell_type": "code",
   "execution_count": 48,
   "metadata": {},
   "outputs": [],
   "source": [
    "import numpy as np\n",
    "import matplotlib.pyplot as plt\n",
    "import scipy\n",
    "import json\n",
    "import matplotlib as mpl\n",
    "import matplotlib.pyplot as plt\n",
    "import os\n",
    "\n",
    "%run ../Scripts/trajectory.py\n",
    "%run ../Scripts/trajectoryVisual.py\n",
    "%run ../Scripts/trajsTree.py\n",
    "%run ../Scripts/supMethods.py\n",
    "%run ../Scripts/formulas.py\n",
    "%run ../Scripts/plotVelocity.py"
   ]
  },
  {
   "cell_type": "code",
   "execution_count": 58,
   "metadata": {},
   "outputs": [],
   "source": [
    "foldername_itr = []\n",
    "betas = [-0.001, -0.01, -0.1, 0, 0.001, 0.01,]\n",
    "seeds = [0, 1, 2]\n",
    "for beta in betas:\n",
    "    for seed in seeds:\n",
    "        foldername = f\"../Data_Parallel/beta{beta}_seed{seed}\"\n",
    "        foldername_itr.append(foldername)"
   ]
  },
  {
   "cell_type": "code",
   "execution_count": 65,
   "metadata": {},
   "outputs": [],
   "source": [
    "def get_count_single(init_list, params, sim_params):\n",
    "    count_all_root = []\n",
    "\n",
    "    for root_node in init_list:\n",
    "        for trajs in root_node.get_all_traversals():\n",
    "            positions = [x.mean for x in trajs]\n",
    "            time = [x.frame for x in trajs]\n",
    "            time_avg = average_of_pairs(time)\n",
    "            \n",
    "            counts = np.array([x.count for x in trajs])\n",
    "            if len(counts)>0:\n",
    "                count_all_root.extend(counts)\n",
    "            # count_all_root = np.concatenate([count_all_root, np.mean(counts)], axis=0)\n",
    "\n",
    "    return  np.mean(count_all_root), np.var(count_all_root)"
   ]
  },
  {
   "cell_type": "code",
   "execution_count": null,
   "metadata": {},
   "outputs": [],
   "source": [
    "count_beta = np.zeros(len(betas))\n",
    "var_count_beta = np.zeros(len(betas))\n",
    "\n",
    "for foldername in foldername_itr:\n",
    "\n",
    "    with open(foldername + \"/params.json\") as json_file:\n",
    "        params = json.load(json_file)\n",
    "    with open(foldername + \"/sim_params.json\") as json_file:\n",
    "        sim_params = json.load(json_file)\n",
    "\n",
    "    init_list = []\n",
    "    tree_index = 0\n",
    "    tree_path = foldername + f\"/trajs_trees/tree{tree_index}.json\"\n",
    "    while(os.path.isfile(tree_path)):\n",
    "        # print(\"tree loaded:\", tree_index)\n",
    "        init_list.append(TreeNode.load_tree(tree_path))\n",
    "        tree_index += 1\n",
    "        tree_path = foldername + f\"/trajs_trees/tree{tree_index}.json\"\n",
    "    \n",
    "        count, var_count = get_count_single(init_list, params, sim_params)\n",
    "    print(count)\n",
    "    \n",
    "    index = betas.index(params[\"beta\"])\n",
    "    # print(i)\n",
    "    count_beta[index] += count\n",
    "    var_count_beta[index] += np.sqrt(var_count)\n",
    "\n",
    "count_beta = count_beta/len(seeds)\n",
    "var_count_beta = var_count_beta/len(seeds)"
   ]
  },
  {
   "cell_type": "code",
   "execution_count": 87,
   "metadata": {},
   "outputs": [],
   "source": [
    "def pi_exponent(beta):\n",
    "    ratio = 0.01\n",
    "    exponent = -2*(beta)*ratio/(np.sqrt(1+2*beta))\n",
    "    res = np.sqrt(1+2*beta)*np.exp(exponent)\n",
    "    return res\n",
    "\n",
    "def ratio_exponent(beta):\n",
    "    M = 100\n",
    "    R = 20\n",
    "    return 1/(np.power(R, 1/M)*(pi_exponent(beta)-1)+1)"
   ]
  },
  {
   "cell_type": "code",
   "execution_count": 99,
   "metadata": {},
   "outputs": [
    {
     "data": {
      "text/plain": [
       "3"
      ]
     },
     "execution_count": 99,
     "metadata": {},
     "output_type": "execute_result"
    }
   ],
   "source": [
    "betas.index(0)"
   ]
  },
  {
   "cell_type": "code",
   "execution_count": 130,
   "metadata": {},
   "outputs": [],
   "source": [
    "count_beta_normalized = count_beta/count_beta[betas.index(0)]\n",
    "var_beta_normalized = var_count_beta/(count_beta[betas.index(0)])\n",
    "betas = [-0.001, -0.01, -0.1, 0, 0.01, 0.001,]"
   ]
  },
  {
   "cell_type": "code",
   "execution_count": 131,
   "metadata": {},
   "outputs": [
    {
     "data": {
      "text/plain": [
       "<matplotlib.legend.Legend at 0x7f83b2854a00>"
      ]
     },
     "execution_count": 131,
     "metadata": {},
     "output_type": "execute_result"
    },
    {
     "data": {
      "image/png": "[encoded data removed]",
      "text/plain": [
       "<Figure size 500x500 with 1 Axes>"
      ]
     },
     "metadata": {},
     "output_type": "display_data"
    }
   ],
   "source": [
    "beta_range = np.linspace(-0.1, 0.01, 100)\n",
    "plt.figure(figsize = [5, 5])\n",
    "Y2 = ratio_exponent(beta_range)\n",
    "plt.xlabel(r\"$\\beta$ - Strength of Pimed Acquisition\")\n",
    "plt.ylabel(\"Wave Carrying Capacity\")\n",
    "plt.plot(beta_range, Y2, label = \"Exponential Acquisition\")\n",
    "\n",
    "plt.errorbar(betas, count_beta_normalized, yerr= var_beta_normalized,\n",
    "                linestyle = \"None\", capsize = 1)\n",
    "\n",
    "plt.scatter(betas, count_beta_normalized, color = \"orange\", linestyle = '--', label = \"simulation data\")\n",
    "\n",
    "plt.plot(beta_range, np.ones_like(beta_range), linestyle = \"--\", color = \"red\")\n",
    "plt.vlines(0, min(Y2), max(Y2), linestyle = \"--\", color = \"red\")\n",
    "plt.yscale('log')\n",
    "plt.legend()"
   ]
  },
  {
   "cell_type": "code",
   "execution_count": null,
   "metadata": {},
   "outputs": [],
   "source": []
  }
 ],
 "metadata": {
  "kernelspec": {
   "display_name": "base",
   "language": "python",
   "name": "python3"
  },
  "language_info": {
   "codemirror_mode": {
    "name": "ipython",
    "version": 3
   },
   "file_extension": ".py",
   "mimetype": "text/x-python",
   "name": "python",
   "nbconvert_exporter": "python",
   "pygments_lexer": "ipython3",
   "version": "3.9.16"
  },
  "orig_nbformat": 4
 },
 "nbformat": 4,
 "nbformat_minor": 2
}
