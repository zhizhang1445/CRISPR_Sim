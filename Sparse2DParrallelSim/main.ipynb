{
 "cells": [
  {
   "cell_type": "code",
   "execution_count": 16,
   "metadata": {},
   "outputs": [],
   "source": [
    "import numpy as np\n",
    "import matplotlib.pyplot as plt\n",
    "import numpy.random as random\n",
    "from scipy.signal import convolve\n",
    "import scipy\n",
    "from joblib import Parallel, delayed\n",
    "import time\n",
    "from scipy import sparse\n",
    "from tqdm import tqdm, tqdm_notebook\n",
    "\n",
    "%run initMethods_sparse.py\n",
    "%run makeGif.py\n",
    "%run methods_parallel_sparse.py\n",
    "%run ../QuickSimulation2D/initMethods.py"
   ]
  },
  {
   "cell_type": "code",
   "execution_count": 9,
   "metadata": {},
   "outputs": [],
   "source": [
    "params = { #parameters relevant for the equations\n",
    "    \"Nh\":           10000,\n",
    "    \"N0\":             100,\n",
    "    \"R0\":              20,\n",
    "    \"M\":                1, #Also L, total number of spacers\n",
    "    \"D\":                3, #Unused\n",
    "    \"mu\":             0.02, #mutation rate\n",
    "    \"v0\":              10,\n",
    "    \"gamma_shape\":     20, \n",
    "    \"Np\":               0, #Number of Cas Protein\n",
    "    \"dc\":               3, #Required number of complexes to activate defence\n",
    "    \"h\":                4, #coordination coeff\n",
    "    \"r\":              1000, #cross-reactivity kernel\n",
    "    \"rho\":            5e-5, #spacer sharing coeff\n",
    "}\n",
    "sim_params = { #parameters relevant for the simulation (including Inital Valuess)\n",
    "    \"xdomain\":                    100,\n",
    "    \"dx\":                           1,\n",
    "    \"t0\":                           0, \n",
    "    \"tf\":                         100,\n",
    "    \"dt\":                           1,\n",
    "    \"initial_mean_n\":           [0,0],\n",
    "    \"initial_var_n\":               10,\n",
    "    \"initial_mean_nh\":          [0,0],\n",
    "    \"initial_var_nh\":              10,\n",
    "    \"n_step_prior\":                 5,\n",
    "    \"conv_size\":                  100,\n",
    "    \"num_threads\":                  4,\n",
    "    \"tail_axis\":               [1, 1],\n",
    "}"
   ]
  },
  {
   "cell_type": "code",
   "execution_count": 10,
   "metadata": {},
   "outputs": [],
   "source": [
    "n = init_guassian_parallel(params[\"N0\"], sim_params)"
   ]
  },
  {
   "cell_type": "code",
   "execution_count": 11,
   "metadata": {},
   "outputs": [],
   "source": [
    "nh = init_uniform_parallel(params[\"Nh\"], sim_params)"
   ]
  },
  {
   "cell_type": "code",
   "execution_count": 17,
   "metadata": {},
   "outputs": [],
   "source": [
    "kernel_quarter = init_quarter_kernel(params, sim_params)\n",
    "kernel = init_kernel(params, sim_params)"
   ]
  },
  {
   "cell_type": "code",
   "execution_count": 54,
   "metadata": {},
   "outputs": [],
   "source": [
    "x_ind_nh, y_ind_nh = nh.nonzero()\n",
    "x_ind_n, y_ind_n = n.nonzero()\n",
    "conv_size = sim_params[\"conv_size\"]\n",
    "xdomain = sim_params[\"xdomain\"]\n",
    "Nh = params[\"Nh\"]\n",
    "M = params[\"M\"]\n",
    "r = params[\"r\"]\n",
    "num_threads = sim_params[\"num_threads\"]\n",
    "\n",
    "ind_nh_subsets = zip(np.array_split(x_ind_nh, num_threads), np.array_split(y_ind_nh, num_threads))\n",
    "ind_n_subsets = zip(np.array_split(x_ind_n, num_threads), np.array_split(y_ind_n, num_threads))\n",
    "\n",
    "input_h = np.divide(nh, Nh)\n",
    "\n",
    "def convolve_subset(ind_nh, ind_n):\n",
    "    res = scipy.sparse.dok_matrix(nh.shape, dtype=float)\n",
    "    for x_nh, y_nh in zip(x_ind_nh, y_ind_nh):\n",
    "        for x_n, y_n in zip(x_ind_n, y_ind_n):\n",
    "\n",
    "            x_kernel = np.abs(x_nh-x_n)\n",
    "            y_kernel = np.abs(y_nh-y_n)\n",
    "\n",
    "            if np.any((x_kernel >= conv_size, y_kernel>= conv_size)):\n",
    "                continue\n",
    "            \n",
    "            value = input_h[x_nh, y_nh]\n",
    "            \n",
    "            try:\n",
    "                interaction = kernel_quarter[x_kernel, y_kernel]\n",
    "                # dist = x_kernel**2 + y_kernel**2\n",
    "                # interaction = np.exp(-np.sqrt(dist)/r)\n",
    "            except(IndexError):\n",
    "                print(\"wtf? Convolution out of Bounds??\", x_kernel, y_kernel)\n",
    "                break\n",
    "            \n",
    "            # print(interaction)\n",
    "            res[x_n, y_n] += value*interaction\n",
    "    return res\n",
    "\n",
    "results = Parallel(n_jobs=num_threads)(delayed(convolve_subset)\n",
    "    (ind_nh_subset, ind_n_subset) for ind_nh_subset, ind_n_subset \n",
    "        in zip(ind_nh_subsets, ind_n_subsets))\n",
    "\n",
    "out = np.sum(results, axis=0)/M"
   ]
  },
  {
   "cell_type": "code",
   "execution_count": 6,
   "metadata": {},
   "outputs": [],
   "source": [
    "A = np.load(\"testSparseConv.npy\")"
   ]
  },
  {
   "cell_type": "code",
   "execution_count": 48,
   "metadata": {},
   "outputs": [],
   "source": [
    "B = scipy.signal.convolve2d(nh.todense()/(params[\"Nh\"]*params[\"M\"]), kernel)"
   ]
  },
  {
   "cell_type": "code",
   "execution_count": 49,
   "metadata": {},
   "outputs": [],
   "source": [
    "C = np.zeros(nh.shape)\n",
    "x_ind, y_ind = np.nonzero(n)\n",
    "C[x_ind, y_ind] = B[x_ind, y_ind]"
   ]
  },
  {
   "cell_type": "code",
   "execution_count": 55,
   "metadata": {},
   "outputs": [
    {
     "data": {
      "text/plain": [
       "<matplotlib.colorbar.Colorbar at 0x7fea23965b50>"
      ]
     },
     "execution_count": 55,
     "metadata": {},
     "output_type": "execute_result"
    },
    {
     "data": {
      "image/png": "[encoded data removed]",
      "text/plain": [
       "<Figure size 640x480 with 2 Axes>"
      ]
     },
     "metadata": {},
     "output_type": "display_data"
    }
   ],
   "source": [
    "plt.contourf(out.todense())\n",
    "plt.colorbar()"
   ]
  },
  {
   "cell_type": "code",
   "execution_count": 56,
   "metadata": {},
   "outputs": [
    {
     "data": {
      "text/plain": [
       "<matplotlib.colorbar.Colorbar at 0x7fea529c0940>"
      ]
     },
     "execution_count": 56,
     "metadata": {},
     "output_type": "execute_result"
    },
    {
     "data": {
      "image/png": "[encoded data removed]",
      "text/plain": [
       "<Figure size 640x480 with 2 Axes>"
      ]
     },
     "metadata": {},
     "output_type": "display_data"
    }
   ],
   "source": [
    "plt.contourf(C)\n",
    "plt.colorbar()"
   ]
  },
  {
   "cell_type": "code",
   "execution_count": 111,
   "metadata": {},
   "outputs": [],
   "source": [
    "np.save(\"testSparseConv.npy\", dense)"
   ]
  },
  {
   "cell_type": "code",
   "execution_count": null,
   "metadata": {},
   "outputs": [],
   "source": [
    "convolve_subset(zip(x_ind_nh, y_ind_nh), zip(x_ind_n, y_ind_n))"
   ]
  },
  {
   "cell_type": "code",
   "execution_count": 147,
   "metadata": {},
   "outputs": [],
   "source": [
    "p = nh/(params[\"Nh\"]*params[\"M\"])"
   ]
  },
  {
   "cell_type": "code",
   "execution_count": 152,
   "metadata": {},
   "outputs": [
    {
     "ename": "NotImplementedError",
     "evalue": "subtracting a sparse matrix from a nonzero scalar is not supported",
     "output_type": "error",
     "traceback": [
      "\u001b[0;31m---------------------------------------------------------------------------\u001b[0m",
      "\u001b[0;31mNotImplementedError\u001b[0m                       Traceback (most recent call last)",
      "\u001b[0;32m/var/folders/9_/htwk2tpd6tv_fy1sp81nfcsm0000gn/T/ipykernel_15902/689360106.py\u001b[0m in \u001b[0;36m<module>\u001b[0;34m\u001b[0m\n\u001b[0;32m----> 1\u001b[0;31m \u001b[0mf\u001b[0m \u001b[0;34m=\u001b[0m \u001b[0mfitness_spacers_parallel\u001b[0m\u001b[0;34m(\u001b[0m\u001b[0mn\u001b[0m\u001b[0;34m,\u001b[0m \u001b[0mnh\u001b[0m\u001b[0;34m,\u001b[0m \u001b[0mp\u001b[0m\u001b[0;34m,\u001b[0m \u001b[0mparams\u001b[0m\u001b[0;34m,\u001b[0m \u001b[0msim_params\u001b[0m\u001b[0;34m)\u001b[0m\u001b[0;34m\u001b[0m\u001b[0;34m\u001b[0m\u001b[0m\n\u001b[0m",
      "\u001b[0;32m~/Documents/CRISPR_Sim/Sparse2DParrallelSim/methods_parallel_sparse.py\u001b[0m in \u001b[0;36mfitness_spacers_parallel\u001b[0;34m(n, nh, p, params, sim_params)\u001b[0m\n\u001b[1;32m    125\u001b[0m     \u001b[0;31m# p_1_spacer = p_single_spacer(h, p, params, sim_params)\u001b[0m\u001b[0;34m\u001b[0m\u001b[0;34m\u001b[0m\u001b[0m\n\u001b[1;32m    126\u001b[0m     \u001b[0;31m# p_tt = p_0_spacer + p_1_spacer\u001b[0m\u001b[0;34m\u001b[0m\u001b[0;34m\u001b[0m\u001b[0m\n\u001b[0;32m--> 127\u001b[0;31m     \u001b[0mp_tt\u001b[0m \u001b[0;34m=\u001b[0m \u001b[0;34m(\u001b[0m\u001b[0;36m1\u001b[0m\u001b[0;34m-\u001b[0m\u001b[0mp\u001b[0m\u001b[0;34m)\u001b[0m\u001b[0;34m**\u001b[0m\u001b[0mM\u001b[0m \u001b[0;31m#Remove this is just for testing\u001b[0m\u001b[0;34m\u001b[0m\u001b[0;34m\u001b[0m\u001b[0m\n\u001b[0m\u001b[1;32m    128\u001b[0m \u001b[0;34m\u001b[0m\u001b[0m\n\u001b[1;32m    129\u001b[0m     \u001b[0;32mif\u001b[0m \u001b[0;34m(\u001b[0m\u001b[0mnp\u001b[0m\u001b[0;34m.\u001b[0m\u001b[0mmin\u001b[0m\u001b[0;34m(\u001b[0m\u001b[0mp_tt\u001b[0m\u001b[0;34m)\u001b[0m\u001b[0;34m)\u001b[0m \u001b[0;34m<\u001b[0m \u001b[0;36m0\u001b[0m\u001b[0;34m:\u001b[0m\u001b[0;34m\u001b[0m\u001b[0;34m\u001b[0m\u001b[0m\n",
      "\u001b[0;32m~/opt/anaconda3/lib/python3.9/site-packages/scipy/sparse/base.py\u001b[0m in \u001b[0;36m__rsub__\u001b[0;34m(self, other)\u001b[0m\n\u001b[1;32m    443\u001b[0m             \u001b[0;32mif\u001b[0m \u001b[0mother\u001b[0m \u001b[0;34m==\u001b[0m \u001b[0;36m0\u001b[0m\u001b[0;34m:\u001b[0m\u001b[0;34m\u001b[0m\u001b[0;34m\u001b[0m\u001b[0m\n\u001b[1;32m    444\u001b[0m                 \u001b[0;32mreturn\u001b[0m \u001b[0;34m-\u001b[0m\u001b[0mself\u001b[0m\u001b[0;34m.\u001b[0m\u001b[0mcopy\u001b[0m\u001b[0;34m(\u001b[0m\u001b[0;34m)\u001b[0m\u001b[0;34m\u001b[0m\u001b[0;34m\u001b[0m\u001b[0m\n\u001b[0;32m--> 445\u001b[0;31m             raise NotImplementedError('subtracting a sparse matrix from a '\n\u001b[0m\u001b[1;32m    446\u001b[0m                                       'nonzero scalar is not supported')\n\u001b[1;32m    447\u001b[0m         \u001b[0;32melif\u001b[0m \u001b[0misdense\u001b[0m\u001b[0;34m(\u001b[0m\u001b[0mother\u001b[0m\u001b[0;34m)\u001b[0m\u001b[0;34m:\u001b[0m\u001b[0;34m\u001b[0m\u001b[0;34m\u001b[0m\u001b[0m\n",
      "\u001b[0;31mNotImplementedError\u001b[0m: subtracting a sparse matrix from a nonzero scalar is not supported"
     ]
    }
   ],
   "source": [
    "f = fitness_spacers_parallel(n, nh, p, params, sim_params)"
   ]
  },
  {
   "cell_type": "code",
   "execution_count": null,
   "metadata": {},
   "outputs": [],
   "source": [
    "f = fitness_spacers(n, nh, p, params, sim_params) #f is now a masked array (where mask is where eff_R0 = 0)\n",
    "n = virus_growth(n, f, params, sim_params) #update\n",
    "\n",
    "\n",
    "n = mutation_parallel(n, params, sim_params)\n",
    "nh = immunity_update_parallel(nh, n, params, sim_params)"
   ]
  }
 ],
 "metadata": {
  "kernelspec": {
   "display_name": "base",
   "language": "python",
   "name": "python3"
  },
  "language_info": {
   "codemirror_mode": {
    "name": "ipython",
    "version": 3
   },
   "file_extension": ".py",
   "mimetype": "text/x-python",
   "name": "python",
   "nbconvert_exporter": "python",
   "pygments_lexer": "ipython3",
   "version": "3.9.7"
  },
  "orig_nbformat": 4,
  "vscode": {
   "interpreter": {
    "hash": "b5da1a19760c645bef876c945e2def5171d007c0fd3f14585be32e516ddabd56"
   }
  }
 },
 "nbformat": 4,
 "nbformat_minor": 2
}
