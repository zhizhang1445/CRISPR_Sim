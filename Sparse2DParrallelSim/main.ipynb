{
 "cells": [
  {
   "cell_type": "code",
   "execution_count": 58,
   "metadata": {},
   "outputs": [],
   "source": [
    "import numpy as np\n",
    "import matplotlib.pyplot as plt\n",
    "import numpy.random as random\n",
    "from scipy.signal import convolve\n",
    "import scipy\n",
    "from joblib import Parallel, delayed\n",
    "import time\n",
    "from scipy import sparse\n",
    "from tqdm import tqdm, tqdm_notebook\n",
    "\n",
    "num_cores = 32\n",
    "\n",
    "%run initMethods.py\n",
    "%run makeGif.py\n",
    "%run methods_parallel.py"
   ]
  },
  {
   "cell_type": "code",
   "execution_count": 75,
   "metadata": {},
   "outputs": [],
   "source": [
    "params = { #parameters relevant for the equations\n",
    "    \"Nh\":          1000000,\n",
    "    \"N0\":           100000,\n",
    "    \"R0\":              20,\n",
    "    \"M\":                1, #Also L, total number of spacers\n",
    "    \"D\":                3, #Unused\n",
    "    \"mu\":             0.02, #mutation rate\n",
    "    \"v0\":              10,\n",
    "    \"gamma_shape\":     20, \n",
    "    \"Np\":               0, #Number of Cas Protein\n",
    "    \"dc\":               3, #Required number of complexes to activate defence\n",
    "    \"h\":                4, #coordination coeff\n",
    "    \"r\":              1000, #cross-reactivity kernel\n",
    "    \"rho\":            5e-5, #spacer sharing coeff\n",
    "}\n",
    "sim_params = { #parameters relevant for the simulation (including Inital Valuess)\n",
    "    \"xdomain\":                  200,\n",
    "    \"dx\":                         1,\n",
    "    \"t0\":                         0, \n",
    "    \"tf\":                       100,\n",
    "    \"dt\":                         1,\n",
    "    \"initial_mean_n\":           [0,0],\n",
    "    \"initial_var_n\":               10,\n",
    "    \"initial_mean_nh\":           [0,0],\n",
    "    \"initial_var_nh\":               10,\n",
    "    \"n_step_prior\":               5,\n",
    "    \"conv_size\":               1000,\n",
    "    \"num_threads\":               4,\n",
    "    \"tail_axis\":            [1, 1],\n",
    "}"
   ]
  },
  {
   "cell_type": "code",
   "execution_count": 76,
   "metadata": {},
   "outputs": [],
   "source": [
    "n = scipy.sparse.dok_matrix(\n",
    "    init_guassian_parallel(params[\"N0\"], sim_params))"
   ]
  },
  {
   "cell_type": "code",
   "execution_count": 77,
   "metadata": {},
   "outputs": [],
   "source": [
    "nh = scipy.sparse.dok_matrix(\n",
    "    init_uniform_parallel(params[\"Nh\"], sim_params))"
   ]
  },
  {
   "cell_type": "code",
   "execution_count": 78,
   "metadata": {},
   "outputs": [],
   "source": [
    "kernel = init_quarter_kernel(params, sim_params)"
   ]
  },
  {
   "cell_type": "code",
   "execution_count": 81,
   "metadata": {},
   "outputs": [],
   "source": [
    "x_ind_nh, y_ind_nh = nh.nonzero()\n",
    "x_ind_n, y_ind_n = n.nonzero()\n",
    "conv_size = sim_params[\"conv_size\"]\n",
    "xdomain = sim_params[\"xdomain\"]\n",
    "Nh = params[\"Nh\"]\n",
    "M = params[\"M\"]\n",
    "num_threads = sim_params[\"num_threads\"]\n",
    "\n",
    "ind_nh_subsets = zip(np.array_split(x_ind_nh, num_threads), np.array_split(y_ind_nh, num_threads))\n",
    "ind_n_subsets = zip(np.array_split(x_ind_n, num_threads), np.array_split(y_ind_n, num_threads))\n",
    "\n",
    "def convolve_subset(ind_nh, ind_n):\n",
    "    res = scipy.sparse.dok_matrix(nh.shape, dtype=int)\n",
    "    for x_nh, y_nh in tqdm(zip(x_ind_nh, y_ind_nh), total=len(x_ind_nh)):\n",
    "        for x_n, y_n in zip(x_ind_n, y_ind_n):\n",
    "\n",
    "            x_kernel = np.abs(x_nh-x_n)\n",
    "            y_kernel = np.abs(y_nh-y_n)\n",
    "\n",
    "            if np.any((x_kernel >= conv_size, y_kernel>= conv_size)):\n",
    "                continue\n",
    "            \n",
    "            value = nh[x_nh, y_nh]/Nh\n",
    "            \n",
    "            try:\n",
    "                interaction = kernel[x_kernel, y_kernel]\n",
    "            except(IndexError):\n",
    "                print(\"wtf? Convolution out of Bounds??\", x_kernel, y_kernel)\n",
    "\n",
    "                break\n",
    "\n",
    "            res[x_n, y_n]+= value*interaction\n",
    "    return res\n",
    "\n",
    "results = Parallel(n_jobs=num_cores)(delayed(convolve_subset)\n",
    "    (ind_nh_subset, ind_n_subset) for ind_nh_subset, ind_n_subset \n",
    "        in zip(ind_nh_subsets, ind_n_subsets))\n"
   ]
  },
  {
   "cell_type": "code",
   "execution_count": null,
   "metadata": {},
   "outputs": [],
   "source": []
  }
 ],
 "metadata": {
  "kernelspec": {
   "display_name": "base",
   "language": "python",
   "name": "python3"
  },
  "language_info": {
   "codemirror_mode": {
    "name": "ipython",
    "version": 3
   },
   "file_extension": ".py",
   "mimetype": "text/x-python",
   "name": "python",
   "nbconvert_exporter": "python",
   "pygments_lexer": "ipython3",
   "version": "3.9.7"
  },
  "orig_nbformat": 4,
  "vscode": {
   "interpreter": {
    "hash": "b5da1a19760c645bef876c945e2def5171d007c0fd3f14585be32e516ddabd56"
   }
  }
 },
 "nbformat": 4,
 "nbformat_minor": 2
}
