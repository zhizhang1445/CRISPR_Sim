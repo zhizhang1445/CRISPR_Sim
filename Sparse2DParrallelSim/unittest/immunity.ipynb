{
 "cells": [
  {
   "cell_type": "code",
   "execution_count": 1,
   "metadata": {},
   "outputs": [],
   "source": [
    "import numpy as np\n",
    "import matplotlib.pyplot as plt\n",
    "import numpy.random as random\n",
    "from scipy.signal import convolve\n",
    "import scipy\n",
    "from joblib import Parallel, delayed\n",
    "import time\n",
    "from scipy import sparse\n",
    "from tqdm import tqdm, tqdm_notebook\n",
    "\n",
    "%run ../initMethods_sparse.py\n",
    "%run ../makeGif.py\n",
    "%run ../methods_parallel_sparse.py"
   ]
  },
  {
   "cell_type": "code",
   "execution_count": null,
   "metadata": {},
   "outputs": [],
   "source": [
    "params = { #parameters relevant for the equations\n",
    "    \"Nh\":           10000,\n",
    "    \"N0\":             100,\n",
    "    \"M\":                1, #Also L, total number of spacers\n",
    "    }\n",
    "sim_params = { #parameters relevant for the simulation (including Inital Valuess)\n",
    "    \"xdomain\":                    100,\n",
    "    \"dx\":                           1,\n",
    "    \"initial_mean_n\":           [0,0],\n",
    "    \"initial_var_n\":               10,\n",
    "    \"initial_mean_nh\":          [0,0],\n",
    "    \"initial_var_nh\":              10,\n",
    "    \"num_threads\":                  4,\n",
    "    \"tail_axis\":               [1, 1],\n",
    "    }"
   ]
  }
 ],
 "metadata": {
  "kernelspec": {
   "display_name": "base",
   "language": "python",
   "name": "python3"
  },
  "language_info": {
   "codemirror_mode": {
    "name": "ipython",
    "version": 3
   },
   "file_extension": ".py",
   "mimetype": "text/x-python",
   "name": "python",
   "nbconvert_exporter": "python",
   "pygments_lexer": "ipython3",
   "version": "3.9.7"
  },
  "orig_nbformat": 4
 },
 "nbformat": 4,
 "nbformat_minor": 2
}
