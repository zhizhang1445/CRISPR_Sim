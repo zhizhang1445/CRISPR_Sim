{
 "cells": [
  {
   "cell_type": "code",
   "execution_count": 12,
   "metadata": {},
   "outputs": [],
   "source": [
    "import numpy as np\n",
    "import matplotlib.pyplot as plt\n",
    "import numpy.random as random\n",
    "from scipy.signal import convolve\n",
    "import scipy\n",
    "from joblib import Parallel, delayed\n",
    "import time\n",
    "from scipy import sparse\n",
    "from tqdm import tqdm, tqdm_notebook\n",
    "\n",
    "%run ../Scripts/coverage.py\n",
    "%run ../Scripts/fitness.py\n",
    "%run ../Scripts/immunity.py\n",
    "%run ../Scripts/initMethods.py\n",
    "%run ../Scripts/supMethods.py\n",
    "%run ../Scripts/mutation.py"
   ]
  },
  {
   "cell_type": "code",
   "execution_count": 9,
   "metadata": {},
   "outputs": [],
   "source": [
    "params = { #parameters relevant for the equations\n",
    "    \"Nh\":        10000000,\n",
    "    \"N0\":          100000,\n",
    "    \"R0\":              20,\n",
    "    \"M\":                1, #Also L, total number of spacers\n",
    "    \"D\":                3, #Unused\n",
    "    \"mu\":              10, #mutation rate\n",
    "    \"v0\":              10,\n",
    "    \"gamma_shape\":     20, \n",
    "    \"Np\":               0, #Number of Cas Protein\n",
    "    \"dc\":               3, #Required number of complexes to activate defence\n",
    "    \"h\":                4, #coordination coeff\n",
    "    \"r\":               10, #cross-reactivity kernel\n",
    "    \"rho\":            5e-5, #spacer sharing coeff\n",
    "}\n",
    "sim_params = { #parameters relevant for the simulation (including Inital Valuess)\n",
    "    \"xdomain\":                  10000,\n",
    "    \"dx\":                           1,\n",
    "    \"t0\":                           0, \n",
    "    \"tf\":                        1000,\n",
    "    \"dt\":                           1,\n",
    "    \"initial_mean_n\":           [0,0],\n",
    "    \"initial_var_n\":               10,\n",
    "    \"initial_mean_nh\":          [0,-40],\n",
    "    \"initial_var_nh\":              10,\n",
    "    \"n_step_prior\":                 5,\n",
    "    \"conv_size\":                  100,\n",
    "    \"num_threads\":                 32,\n",
    "    \"tail_axis\":               [1, 1],\n",
    "}"
   ]
  },
  {
   "cell_type": "code",
   "execution_count": 14,
   "metadata": {},
   "outputs": [],
   "source": [
    "R0_sweep = [20]\n",
    "kernel = init_quarter_kernel(params, sim_params)\n",
    "foldername = \"test0/\"\n",
    "write2json(foldername, params, sim_params)\n",
    "\n",
    "for R0 in R0_sweep:\n",
    "    params[\"R0\"] = R0\n",
    "    n = init_guassian(params[\"N0\"], sim_params, \"n\")\n",
    "    nh = init_guassian(params[\"Nh\"], sim_params, \"nh\")\n",
    "\n",
    "    et0 = time_conv(st1-st0)\n",
    "\n",
    "    for i in range(10000):\n",
    "\n",
    "        if (i%100 == 0 or i < 20):\n",
    "            sparse.save_npz(foldername+f\"sp_frame_n{i}\",n.tocoo())\n",
    "            sparse.save_npz(foldername+f\"sp_frame_nh{i}\",nh.tocoo())\n",
    "\n",
    "        p = elementwise_coverage(nh, n, kernel, params, sim_params)\n",
    "        f = fitness_spacers(n, nh, p, params, sim_params) #f is now a masked array (where mask is where eff_R0 = 0)\n",
    "        f_avg = np.sum(f*n/np.sum(n))\n",
    "        n = virus_growth(n, f-f_avg, params, sim_params) #update\n",
    "\n",
    "        et1 = time.strftime(\"%H:%M:%S\", time.gmtime(st2 - st1))\n",
    "        et2 = time.strftime(\"%H:%M:%S\", time.gmtime(st3 - st2))\n",
    "        et3 = time.strftime(\"%H:%M:%S\", time.gmtime(st4 - st3))\n",
    "        print(\"Convolution Time:\", et1, \"| Fitness Spacer Time\", et2, \"| Virus Growth Time\", et3)\n",
    "\n",
    "        n = mutation(n, params, sim_params)\n",
    "        nh = immunity_update(nh, n, params, sim_params) #update nh\n",
    "        if np.sum(n) >= 10*params[\"Nh\"]:\n",
    "            break"
   ]
  },
  {
   "cell_type": "code",
   "execution_count": null,
   "metadata": {},
   "outputs": [],
   "source": []
  }
 ],
 "metadata": {
  "kernelspec": {
   "display_name": "base",
   "language": "python",
   "name": "python3"
  },
  "language_info": {
   "codemirror_mode": {
    "name": "ipython",
    "version": 3
   },
   "file_extension": ".py",
   "mimetype": "text/x-python",
   "name": "python",
   "nbconvert_exporter": "python",
   "pygments_lexer": "ipython3",
   "version": "3.9.7"
  },
  "orig_nbformat": 4,
  "vscode": {
   "interpreter": {
    "hash": "b5da1a19760c645bef876c945e2def5171d007c0fd3f14585be32e516ddabd56"
   }
  }
 },
 "nbformat": 4,
 "nbformat_minor": 2
}
