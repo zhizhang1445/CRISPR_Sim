{
 "cells": [
  {
   "cell_type": "code",
   "execution_count": 364,
   "metadata": {},
   "outputs": [],
   "source": [
    "import numpy as np\n",
    "import pandas as pd\n",
    "import matplotlib.pyplot as plt\n",
    "import copy\n",
    "from scipy.ndimage import convolve\n",
    "import matplotlib.animation as animation\n",
    "import warnings\n",
    "import scipy"
   ]
  },
  {
   "cell_type": "code",
   "execution_count": 408,
   "metadata": {},
   "outputs": [],
   "source": [
    "params = {\n",
    "    \"Nh\":          1e7,\n",
    "    \"N0\":          1e5,\n",
    "    \"R0\":           4,\n",
    "    \"M\":            1,\n",
    "    \"D\":            3,\n",
    "    \"dc\":           5,\n",
    "    \"mu\":           1,\n",
    "    \"gamma_shape\": 20, \n",
    "}\n",
    "sim_params = {\n",
    "    \"xdomain\":  100,\n",
    "    \"dx\":         1,\n",
    "    \"t0\":         0,\n",
    "    \"tf\":       100,\n",
    "    \"dt\":        0.1,\n",
    "    \"noise_mean\": 0,\n",
    "    \"noise_std\":0.1,\n",
    "    \"initial_mean\": [0,0],\n",
    "    \"initial_var\": 5,\n",
    "}"
   ]
  },
  {
   "cell_type": "code",
   "execution_count": 371,
   "metadata": {},
   "outputs": [],
   "source": [
    "x_range = sim_params[\"xdomain\"]\n",
    "dx = sim_params[\"dx\"]\n",
    "x_linspace = np.arange(-x_range, x_range, dx)\n",
    "x_size = np.size(x_linspace)\n",
    "sim_params[\"x_size\"] = x_size\n",
    "\n",
    "t_size = (sim_params[\"tf\"]-sim_params[\"t0\"])/sim_params[\"dt\"]\n",
    "\n",
    "s = np.zeros([x_size, x_size], dtype=int)\n",
    "n = np.zeros([x_size, x_size], dtype=int) \n",
    "nh = np.zeros([x_size, x_size], dtype=int) #nh(x,t) = Nh*h(x,t) there should be a total of Nh*M elements \n",
    "coordmap = np.meshgrid(x_linspace, x_linspace)\n",
    "c = nh.copy()"
   ]
  },
  {
   "cell_type": "code",
   "execution_count": 409,
   "metadata": {},
   "outputs": [
    {
     "data": {
      "text/plain": [
       "<matplotlib.image.AxesImage at 0x7f952fe343a0>"
      ]
     },
     "execution_count": 409,
     "metadata": {},
     "output_type": "execute_result"
    },
    {
     "data": {
      "image/png": "[encoded data removed]",
      "text/plain": [
       "<Figure size 432x288 with 1 Axes>"
      ]
     },
     "metadata": {
      "needs_background": "light"
     },
     "output_type": "display_data"
    }
   ],
   "source": [
    "n0 = np.zeros(n.size, dtype=int)\n",
    "\n",
    "N0 = int(params[\"N0\"])\n",
    "initial_position = sim_params[\"initial_mean\"]\n",
    "initial_var = sim_params[\"initial_var\"]\n",
    "\n",
    "x_map = coordmap[0]\n",
    "y_map = coordmap[1]\n",
    "\n",
    "rsqrd = (x_map-initial_position[0])**2 + (y_map-initial_position[0])**2\n",
    "\n",
    "p0 = np.exp(-rsqrd/(2*(initial_var**2)))\n",
    "p0 = p0/np.sum(p0) # initial prob distribution for n: Gaussian dist\n",
    "\n",
    "p0 = p0.ravel()\n",
    "\n",
    "for i in range(N0):\n",
    "    index = np.random.choice(n.size, p=p0)\n",
    "    n0[index] += 1\n",
    "\n",
    "n = copy.deepcopy(n0.reshape(n.shape))\n",
    "plt.figure()\n",
    "plt.imshow(n)"
   ]
  },
  {
   "cell_type": "code",
   "execution_count": 410,
   "metadata": {},
   "outputs": [
    {
     "ename": "KeyboardInterrupt",
     "evalue": "",
     "output_type": "error",
     "traceback": [
      "\u001b[0;31m---------------------------------------------------------------------------\u001b[0m",
      "\u001b[0;31mKeyboardInterrupt\u001b[0m                         Traceback (most recent call last)",
      "\u001b[0;32m/var/folders/9_/htwk2tpd6tv_fy1sp81nfcsm0000gn/T/ipykernel_25289/2197605762.py\u001b[0m in \u001b[0;36m<module>\u001b[0;34m\u001b[0m\n\u001b[1;32m     17\u001b[0m \u001b[0;34m\u001b[0m\u001b[0m\n\u001b[1;32m     18\u001b[0m \u001b[0;32mfor\u001b[0m \u001b[0mi\u001b[0m \u001b[0;32min\u001b[0m \u001b[0mrange\u001b[0m\u001b[0;34m(\u001b[0m\u001b[0mNh\u001b[0m\u001b[0;34m*\u001b[0m\u001b[0mM\u001b[0m\u001b[0;34m)\u001b[0m\u001b[0;34m:\u001b[0m\u001b[0;34m\u001b[0m\u001b[0;34m\u001b[0m\u001b[0m\n\u001b[0;32m---> 19\u001b[0;31m     \u001b[0mindex\u001b[0m \u001b[0;34m=\u001b[0m \u001b[0mnp\u001b[0m\u001b[0;34m.\u001b[0m\u001b[0mrandom\u001b[0m\u001b[0;34m.\u001b[0m\u001b[0mchoice\u001b[0m\u001b[0;34m(\u001b[0m\u001b[0mnh\u001b[0m\u001b[0;34m.\u001b[0m\u001b[0msize\u001b[0m\u001b[0;34m,\u001b[0m \u001b[0mp\u001b[0m\u001b[0;34m=\u001b[0m\u001b[0mp0\u001b[0m\u001b[0;34m)\u001b[0m\u001b[0;34m\u001b[0m\u001b[0;34m\u001b[0m\u001b[0m\n\u001b[0m\u001b[1;32m     20\u001b[0m     \u001b[0mnh0\u001b[0m\u001b[0;34m[\u001b[0m\u001b[0mindex\u001b[0m\u001b[0;34m]\u001b[0m \u001b[0;34m+=\u001b[0m \u001b[0;36m1\u001b[0m\u001b[0;34m\u001b[0m\u001b[0;34m\u001b[0m\u001b[0m\n\u001b[1;32m     21\u001b[0m \u001b[0;34m\u001b[0m\u001b[0m\n",
      "\u001b[0;31mKeyboardInterrupt\u001b[0m: "
     ]
    }
   ],
   "source": [
    "nh0 = np.zeros(nh.size, dtype=int)\n",
    "\n",
    "Nh = int(params[\"Nh\"])\n",
    "M = int(params[\"M\"])\n",
    "initial_position = sim_params[\"initial_mean\"]\n",
    "initial_var = 10*sim_params[\"initial_var\"]\n",
    "\n",
    "x_map = coordmap[0]\n",
    "y_map = coordmap[1]\n",
    "\n",
    "rsqrd = (x_map-initial_position[0])**2 + (y_map-initial_position[0])**2\n",
    "\n",
    "p0 = np.exp(-rsqrd/(2*(initial_var**2)))\n",
    "p0 = p0/np.sum(p0) # initial prob distribution for n: Gaussian dist\n",
    "\n",
    "p0 = p0.ravel()\n",
    "\n",
    "for i in range(Nh*M):\n",
    "    index = np.random.choice(nh.size, p=p0)\n",
    "    nh0[index] += 1\n",
    "\n",
    "nh = copy.deepcopy(nh0.reshape(nh.shape))\n",
    "plt.figure()\n",
    "plt.imshow(nh)"
   ]
  },
  {
   "cell_type": "code",
   "execution_count": 374,
   "metadata": {},
   "outputs": [],
   "source": [
    "def coverage(h):\n",
    "    return h/params[\"M\"]\n",
    "\n",
    "def fitness(nh):\n",
    "    R0 = params[\"R0\"]\n",
    "    M = params[\"M\"]\n",
    "    Nh = params[\"Nh\"]\n",
    "    h = nh/Nh\n",
    "    # check = R0*(1-coverage(h))**M\n",
    "    out = np.log(R0*((1-coverage(h))**M))\n",
    "    return out "
   ]
  },
  {
   "cell_type": "code",
   "execution_count": 375,
   "metadata": {},
   "outputs": [],
   "source": [
    "def virus_growth(n, f):\n",
    "    dt = sim_params[\"dt\"]\n",
    "    return np.random.poisson((1-f*dt)*n) \n",
    "\n",
    "def num_mutants(n, mu = params[\"mu\"], dt = sim_params[\"dt\"]):\n",
    "    p = 1-np.exp(-1*mu*dt)\n",
    "    return np.random.binomial(n, p)\n",
    "\n",
    "def num_mutation(mu, dt = sim_params[\"dt\"]):\n",
    "    out = np.random.poisson(mu*dt)\n",
    "    if out >= 1 :\n",
    "        return np.random.poisson(mu)\n",
    "    else:\n",
    "        return num_mutation(mu)\n",
    "\n",
    "def mutation_jump(m, dx = sim_params[\"dx\"], shape_param = params[\"gamma_shape\"]):\n",
    "    jump = np.zeros(2)\n",
    "    mean = 2*dx\n",
    "    theta = mean/shape_param\n",
    "    \n",
    "    for i in range(m):\n",
    "        jump = jump + np.random.gamma(shape_param, theta, size=2)\n",
    "\n",
    "    jump = np.round(jump)\n",
    "    return jump\n",
    "\n",
    "def immunity_gain(nh, n):\n",
    "    return nh + n\n",
    "\n",
    "def immunity_loss(nh, n):\n",
    "    N = np.sum(n)\n",
    "    checksum = np.sum(nh)\n",
    "\n",
    "    for i in range(N):\n",
    "        indexes = np.argwhere(nh > 0)\n",
    "        index = np.random.choice(indexes.shape[0])\n",
    "\n",
    "        nh[indexes[index, 0], indexes[index, 1]] -= 1 #There is a race condition, don't fuck with this\n",
    "    \n",
    "    if np.any(nh<0):\n",
    "        raise ValueError(\"Immunity is negative\")\n",
    "    elif np.sum(nh) != checksum - N :\n",
    "        raise ValueError(\"In and out total value don't match\")\n",
    "    \n",
    "\n",
    "    return nh"
   ]
  },
  {
   "cell_type": "code",
   "execution_count": 376,
   "metadata": {},
   "outputs": [],
   "source": [
    "def mutation(n):\n",
    "    checksum = np.sum(n)\n",
    "\n",
    "    mu = params[\"mu\"]\n",
    "    dt = sim_params[\"dt\"]\n",
    "    dx = sim_params[\"dx\"]\n",
    "    shape_param = params[\"gamma_shape\"]\n",
    "\n",
    "    mutation_map = num_mutants(n, mu)\n",
    "    x_ind, y_ind = np.nonzero(m)\n",
    "    num_mutation_sites = x_ind.size\n",
    "    \n",
    "    for i in range(num_mutation_sites):\n",
    "        num_mutants_at_site = mutation_map[x_ind[i], y_ind[i]]\n",
    "        n[x_ind[i], y_ind[i]] -= num_mutants_at_site\n",
    "\n",
    "        for j in range(num_mutants_at_site):\n",
    "            num_mutation_at_site = num_mutation(mu, dt)\n",
    "            jump = mutation_jump(num_mutation_at_site, dx, shape_param)\n",
    "            new_x_loc = (x_ind[i] + jump[0]).astype(int)\n",
    "            new_y_loc = (y_ind[i] + jump[1]).astype(int)\n",
    "            n[new_x_loc, new_y_loc] += 1\n",
    "\n",
    "    if np.sum(n) != checksum :\n",
    "        raise ValueError('mutation changed total number of n')\n",
    "    elif np.any(n<0):\n",
    "        raise ValueError('mutation made n negative')\n",
    "\n",
    "    return n"
   ]
  },
  {
   "cell_type": "code",
   "execution_count": 390,
   "metadata": {},
   "outputs": [
    {
     "data": {
      "image/png": "[encoded data removed]",
      "text/plain": [
       "<Figure size 432x288 with 1 Axes>"
      ]
     },
     "metadata": {
      "needs_background": "light"
     },
     "output_type": "display_data"
    }
   ],
   "source": [
    "nh = nh0.reshape(nh.shape)\n",
    "n = n0.reshape(n.shape)\n",
    "\n",
    "t_start = sim_params[\"t0\"]\n",
    "t_stop = sim_params[\"tf\"]\n",
    "t_step = sim_params[\"dt\"]\n",
    "\n",
    "frames_n = []\n",
    "frames_f = []\n",
    "N = []\n",
    "fig = plt.figure()\n",
    "\n",
    "# for t in np.arange(t_start, t_stop, t_step):\n",
    "for t in np.arange(0, 5, 1): \n",
    "    f = fitness(nh)\n",
    "\n",
    "    n = virus_growth(n, f)\n",
    "\n",
    "    n = mutation(n)\n",
    "    # print(np.any(nh<0))\n",
    "    nh = immunity_gain(nh, n)\n",
    "    # print(np.any(nh<0))\n",
    "    nh = immunity_loss(nh, n)\n",
    "    \n",
    "    frames_n.append([plt.imshow(n, animated = True)])\n",
    "    frames_f.append([plt.imshow(f, animated = True)])\n",
    "    N.append([np.sum(n)])\n",
    "\n",
    "ani_n = animation.ArtistAnimation(fig, frames_n, interval=50, blit=True, repeat_delay=1000)\n",
    "ani_f = animation.ArtistAnimation(fig, frames_f, interval=50, blit=True, repeat_delay=1000)\n",
    "ani_n.save(\"discrete_n_test.gif\")\n",
    "ani_f.save(\"discrete_f_test.gif\")"
   ]
  },
  {
   "cell_type": "code",
   "execution_count": 391,
   "metadata": {},
   "outputs": [],
   "source": [
    "nh = nh0.reshape(nh.shape)\n",
    "n = n0.reshape(n.shape)\n",
    "\n",
    "t_start = sim_params[\"t0\"]\n",
    "t_stop = sim_params[\"tf\"]\n",
    "t_step = sim_params[\"dt\"]\n",
    "\n",
    "N = []\n",
    "\n",
    "# for t in np.arange(t_start, t_stop, t_step):\n",
    "for t in np.arange(0, 5, 1): \n",
    "    f = fitness(nh)\n",
    "\n",
    "    n = virus_growth(n, f)\n",
    "\n",
    "    n = mutation(n)\n",
    "    # print(np.any(nh<0))\n",
    "    nh = immunity_gain(nh, n)\n",
    "    # print(np.any(nh<0))\n",
    "    nh = immunity_loss(nh, n)\n",
    "\n",
    "    \n",
    "    N.append([np.sum(n)])"
   ]
  },
  {
   "cell_type": "code",
   "execution_count": 401,
   "metadata": {},
   "outputs": [],
   "source": [
    "nh = nh0.reshape(nh.shape)\n",
    "n = n0.reshape(n.shape)"
   ]
  },
  {
   "cell_type": "code",
   "execution_count": 404,
   "metadata": {},
   "outputs": [
    {
     "data": {
      "text/plain": [
       "1000"
      ]
     },
     "execution_count": 404,
     "metadata": {},
     "output_type": "execute_result"
    }
   ],
   "source": [
    "np.sum(nh)"
   ]
  },
  {
   "cell_type": "code",
   "execution_count": 406,
   "metadata": {},
   "outputs": [
    {
     "data": {
      "text/plain": [
       "array([[4., 4., 4., ..., 4., 4., 4.],\n",
       "       [4., 4., 4., ..., 4., 4., 4.],\n",
       "       [4., 4., 4., ..., 4., 4., 4.],\n",
       "       ...,\n",
       "       [4., 4., 4., ..., 4., 4., 4.],\n",
       "       [4., 4., 4., ..., 4., 4., 4.],\n",
       "       [4., 4., 4., ..., 4., 4., 4.]])"
      ]
     },
     "execution_count": 406,
     "metadata": {},
     "output_type": "execute_result"
    }
   ],
   "source": [
    "R0 = params[\"R0\"]\n",
    "M = params[\"M\"]\n",
    "Nh = params[\"Nh\"]\n",
    "h = nh/Nh\n",
    "R0*((1-coverage(h))**M)\n",
    "# out = np.log(R0*((1-coverage(h))**M))"
   ]
  },
  {
   "cell_type": "code",
   "execution_count": 407,
   "metadata": {},
   "outputs": [
    {
     "data": {
      "text/plain": [
       "0.002"
      ]
     },
     "execution_count": 407,
     "metadata": {},
     "output_type": "execute_result"
    }
   ],
   "source": []
  },
  {
   "cell_type": "code",
   "execution_count": null,
   "metadata": {},
   "outputs": [],
   "source": []
  }
 ],
 "metadata": {
  "interpreter": {
   "hash": "ebcecea298eea1cfaf9072f1a359d41de78376b896924b732cb01e1a1ddaaea6"
  },
  "kernelspec": {
   "display_name": "Python 3.9.7 ('base')",
   "language": "python",
   "name": "python3"
  },
  "language_info": {
   "codemirror_mode": {
    "name": "ipython",
    "version": 3
   },
   "file_extension": ".py",
   "mimetype": "text/x-python",
   "name": "python",
   "nbconvert_exporter": "python",
   "pygments_lexer": "ipython3",
   "version": "3.9.7"
  },
  "orig_nbformat": 4
 },
 "nbformat": 4,
 "nbformat_minor": 2
}
