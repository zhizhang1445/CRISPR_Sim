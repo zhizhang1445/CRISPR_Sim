{
 "cells": [
  {
   "cell_type": "code",
   "execution_count": 198,
   "metadata": {},
   "outputs": [],
   "source": [
    "import numpy as np\n",
    "import pandas as pd\n",
    "import matplotlib.pyplot as plt\n",
    "import copy\n",
    "from scipy.ndimage import convolve\n",
    "import matplotlib.animation as animation\n",
    "import warnings\n",
    "import scipy"
   ]
  },
  {
   "cell_type": "code",
   "execution_count": 199,
   "metadata": {},
   "outputs": [],
   "source": [
    "params = { #parameters relevant for the equations\n",
    "    \"Nh\":               1,\n",
    "    \"N0\":              10,\n",
    "    \"R0\":               8,\n",
    "    \"M\":                1, #Also L\n",
    "    \"D\":                3, #Unused\n",
    "    \"dc\":               5, #Unused\n",
    "    \"mu\":             0.1, \n",
    "    \"gamma_shape\":     20, \n",
    "}\n",
    "sim_params = { #parameters relevant for the simulation (including Inital Valuess)\n",
    "    \"xdomain\":          1,\n",
    "    \"dx\":               1,\n",
    "    \"t0\":               0, \n",
    "    \"tf\":               1,\n",
    "    \"dt\":             0.1,\n",
    "    \"noise_mean\":       0,\n",
    "    \"noise_std\":      0.1,\n",
    "    \"initial_mean\": [0,0],\n",
    "    \"initial_var\":      5,\n",
    "}"
   ]
  },
  {
   "cell_type": "code",
   "execution_count": 200,
   "metadata": {},
   "outputs": [],
   "source": [
    "x_range = sim_params[\"xdomain\"] #Initialize the spaces\n",
    "dx = sim_params[\"dx\"]\n",
    "x_linspace = np.arange(-x_range, x_range, dx)\n",
    "x_size = np.size(x_linspace)\n",
    "sim_params[\"x_size\"] = x_size\n",
    "\n",
    "t_size = (sim_params[\"tf\"]-sim_params[\"t0\"])/sim_params[\"dt\"]\n",
    "\n",
    "s = np.zeros([x_size, x_size], dtype=int)\n",
    "n = np.zeros([x_size, x_size], dtype=int) \n",
    "nh = np.zeros([x_size, x_size], dtype=int) #nh(x,t) = Nh*h(x,t) there should be a total of Nh*M elements \n",
    "coordmap = np.meshgrid(x_linspace, x_linspace) #coordmap is kinda stupid since we are not in any real space\n",
    "c = nh.copy() # c is unused (supposed to be coverage)"
   ]
  },
  {
   "cell_type": "code",
   "execution_count": 201,
   "metadata": {},
   "outputs": [
    {
     "data": {
      "text/plain": [
       "<matplotlib.image.AxesImage at 0x7fd8c2b71070>"
      ]
     },
     "execution_count": 201,
     "metadata": {},
     "output_type": "execute_result"
    },
    {
     "data": {
      "image/png": "[encoded data removed]",
      "text/plain": [
       "<Figure size 432x288 with 1 Axes>"
      ]
     },
     "metadata": {
      "needs_background": "light"
     },
     "output_type": "display_data"
    }
   ],
   "source": [
    "n0 = np.zeros(n.size, dtype=int) #Initial value of n0, initialized with a gaussian distributed\n",
    "\n",
    "N0 = int(params[\"N0\"])\n",
    "initial_position = sim_params[\"initial_mean\"]\n",
    "initial_var = sim_params[\"initial_var\"]\n",
    "\n",
    "x_map = coordmap[0]\n",
    "y_map = coordmap[1]\n",
    "\n",
    "rsqrd = (x_map-initial_position[0])**2 + (y_map-initial_position[0])**2\n",
    "\n",
    "p0 = np.exp(-rsqrd/(2*(initial_var**2)))\n",
    "p0 = p0/np.sum(p0) # initial prob distribution for n: Gaussian dist\n",
    "\n",
    "p0 = p0.ravel()\n",
    "\n",
    "for i in range(N0):\n",
    "    index = np.random.choice(n.size, p=p0) #Should really have a better way of doing this, this is extremely slow: maybe MPI?\n",
    "    n0[index] += 1\n",
    "\n",
    "n = copy.deepcopy(n0.reshape(n.shape)) #Make a deepcopy to seperate the two functions\n",
    "plt.figure()\n",
    "plt.imshow(n)"
   ]
  },
  {
   "cell_type": "code",
   "execution_count": 202,
   "metadata": {},
   "outputs": [
    {
     "data": {
      "text/plain": [
       "<matplotlib.image.AxesImage at 0x7fd8c29e2310>"
      ]
     },
     "execution_count": 202,
     "metadata": {},
     "output_type": "execute_result"
    },
    {
     "data": {
      "image/png": "[encoded data removed]",
      "text/plain": [
       "<Figure size 432x288 with 1 Axes>"
      ]
     },
     "metadata": {
      "needs_background": "light"
     },
     "output_type": "display_data"
    }
   ],
   "source": [
    "nh0 = np.zeros(nh.size, dtype=int) #Similarly, this is the initial value for nh\n",
    "\n",
    "Nh = int(params[\"Nh\"])\n",
    "M = int(params[\"M\"])\n",
    "initial_position = sim_params[\"initial_mean\"]\n",
    "initial_var = 10*sim_params[\"initial_var\"] #just 10 times the variance of n0, maybe change this?\n",
    "\n",
    "x_map = coordmap[0]\n",
    "y_map = coordmap[1]\n",
    "\n",
    "rsqrd = (x_map-initial_position[0])**2 + (y_map-initial_position[0])**2\n",
    "\n",
    "p0 = np.exp(-rsqrd/(2*(initial_var**2)))\n",
    "p0 = p0/np.sum(p0) # initial prob distribution for n: Gaussian dist\n",
    "\n",
    "p0 = p0.ravel()\n",
    "\n",
    "for i in range(Nh*M):\n",
    "    index = np.random.choice(nh.size, p=p0) #similarly, this is really slow\n",
    "    nh0[index] += 1\n",
    "\n",
    "nh = copy.deepcopy(nh0.reshape(nh.shape))\n",
    "plt.figure()\n",
    "plt.imshow(nh)"
   ]
  },
  {
   "cell_type": "code",
   "execution_count": 203,
   "metadata": {},
   "outputs": [],
   "source": [
    "def coverage(h):\n",
    "    return h/params[\"M\"] #I know this looks stupid but the coverage is not necessarily just a scale\n",
    "\n",
    "def fitness(nh):\n",
    "    R0 = params[\"R0\"]\n",
    "    M = params[\"M\"]\n",
    "    Nh = params[\"Nh\"]\n",
    "\n",
    "    h = nh/Nh\n",
    "    eff_R0 = R0*(1-coverage(h))**M\n",
    "    res = np.log(eff_R0, out=np.zeros_like(eff_R0), where=(eff_R0!=0))  # I'm not convinced this is right, the log(0) = 0 as \n",
    "                                                                        # is might not be correct but R0 should not be smaller than 1 \n",
    "    # check = R0*(1-coverage(h))**M\n",
    "    # out = np.log(R0*((1-coverage(h))**M)) # This just fails as log(0) happens regularly\n",
    "    return res"
   ]
  },
  {
   "cell_type": "code",
   "execution_count": 204,
   "metadata": {},
   "outputs": [],
   "source": [
    "def virus_growth(n, f):\n",
    "    dt = sim_params[\"dt\"]\n",
    "    return np.random.poisson((1+f*dt)*n) #growth rate is (1+fdt)n as normal really\n",
    "\n",
    "def num_mutants(n, mu = params[\"mu\"], dt = sim_params[\"dt\"]):\n",
    "    p = 1-np.exp(-1*mu*dt)\n",
    "    return np.random.binomial(n, p) #   so this is really prob of finding k mutation in n possible virus with prob p in 1-e^-mudt\n",
    "                                    #   so p to not mutated is really e^-mu*dt\n",
    "\n",
    "def num_mutation(mu, dt = sim_params[\"dt\"]):\n",
    "    out = np.random.poisson(mu*dt)\n",
    "    if out >= 1 :\n",
    "        return out #This is what mu, is the average rate of mutation\n",
    "    else:\n",
    "        return num_mutation(mu) #conditioned as to have at least one mutation\n",
    "\n",
    "def mutation_jump(m, dx = sim_params[\"dx\"], shape_param = params[\"gamma_shape\"]):\n",
    "    jump = np.zeros(2)\n",
    "    mean = 2*dx\n",
    "    theta = mean/shape_param\n",
    "    \n",
    "    for i in range(m):\n",
    "        jump = jump + np.random.gamma(shape_param, theta, size=2) #The distribution of jump is a sum of gamma distribution. \n",
    "\n",
    "    jump = np.round(jump)\n",
    "    return jump\n",
    "\n",
    "def immunity_gain(nh, n): \n",
    "    return nh + n # to gain immunity you need some amount infected\n",
    "\n",
    "def immunity_loss(nh, n):\n",
    "    N = np.sum(n)\n",
    "    checksum = np.sum(nh)\n",
    "\n",
    "    for i in range(N):\n",
    "        indexes = np.argwhere(nh > 0)\n",
    "        index = np.random.choice(indexes.shape[0]) # Choose random spots uniformly to loose immunity\n",
    "\n",
    "        nh[indexes[index, 0], indexes[index, 1]] -= 1 #There is a race condition, don't fuck with this\n",
    "    \n",
    "    if np.any(nh<0):\n",
    "        raise ValueError(\"Immunity is negative\")\n",
    "    elif np.sum(nh) != checksum - N :\n",
    "        raise ValueError(\"In and out total value don't match\")\n",
    "    \n",
    "\n",
    "    return nh"
   ]
  },
  {
   "cell_type": "code",
   "execution_count": 205,
   "metadata": {},
   "outputs": [],
   "source": [
    "def mutation(n): #this is the joined function for the mutation step\n",
    "    checksum = np.sum(n)\n",
    "\n",
    "    mu = params[\"mu\"]\n",
    "    dt = sim_params[\"dt\"]\n",
    "    dx = sim_params[\"dx\"]\n",
    "    shape_param = params[\"gamma_shape\"]\n",
    "\n",
    "    mutation_map = num_mutants(n, mu) # The mutation maps tells you how many virus have mutated at each location\n",
    "    x_ind, y_ind = np.nonzero(mutation_map) #finding out where the mutations happends\n",
    "    num_mutation_sites = x_ind.size \n",
    "    \n",
    "    for i in range(num_mutation_sites): \n",
    "        num_mutants_at_site = mutation_map[x_ind[i], y_ind[i]] # unpacking the number of mutated virus\n",
    "        n[x_ind[i], y_ind[i]] -= num_mutants_at_site #first remove all the virus that moved\n",
    "\n",
    "        for j in range(num_mutants_at_site): #Find out where those virus have moved to\n",
    "            num_mutation_at_site = num_mutation(mu, dt) #Sampling how many single mutation for a single virus (num of jumps) \n",
    "            jump = mutation_jump(num_mutation_at_site, dx, shape_param) #Sampling the jump\n",
    "\n",
    "            try:\n",
    "                new_x_loc = (x_ind[i] + jump[0]).astype(int)\n",
    "                new_y_loc = (y_ind[i] + jump[1]).astype(int)\n",
    "                n[new_x_loc, new_y_loc] += 1\n",
    "            except IndexError: #Array Out of Bounds\n",
    "                if new_x_loc >= n.shape[0]:\n",
    "                    new_x_loc = -1 #lmao this is gonna be a pain in cpp\n",
    "                if new_y_loc >= n.shape[1]:\n",
    "                    new_y_loc = -1\n",
    "                n[new_x_loc, new_y_loc] += 1\n",
    "\n",
    "    if np.sum(n) != checksum : #Should conserve number of virus/infection\n",
    "        raise ValueError('mutation changed total number of n')\n",
    "    elif np.any(n<0): #Should definitely not be negative\n",
    "        raise ValueError('mutation made n negative')\n",
    "\n",
    "    return n"
   ]
  },
  {
   "cell_type": "code",
   "execution_count": null,
   "metadata": {},
   "outputs": [],
   "source": [
    "nh = nh0.reshape(nh.shape)\n",
    "n = n0.reshape(n.shape) # In time \n",
    "\n",
    "t_start = sim_params[\"t0\"] #Time parameters\n",
    "t_stop = sim_params[\"tf\"]\n",
    "t_step = sim_params[\"dt\"]\n",
    "\n",
    "frames_n = [] #Store the frames as gifs\n",
    "frames_nh = []\n",
    "frames_f = []\n",
    "\n",
    "N = []\n",
    "fig = plt.figure()\n",
    "\n",
    "for t in np.arange(t_start, t_stop, t_step):\n",
    "\n",
    "    f = fitness(nh)\n",
    "    n = virus_growth(n, f) #update n\n",
    "    n = mutation(n)\n",
    "\n",
    "    nh = immunity_gain(nh, n) #update nh\n",
    "    nh = immunity_loss(nh, n)\n",
    "    \n",
    "    frames_n.append([plt.imshow(n, animated = True)])\n",
    "    frames_f.append([plt.imshow(f, animated = True)])\n",
    "    frames_nh.append([plt.imshow(nh, animated = True)])\n",
    "    N.append([np.sum(n)])\n",
    "\n",
    "ani_n = animation.ArtistAnimation(fig, frames_n, interval=50, blit=True, repeat_delay=1000)\n",
    "ani_f = animation.ArtistAnimation(fig, frames_f, interval=50, blit=True, repeat_delay=1000)\n",
    "ani_nh = animation.ArtistAnimation(fig, frames_nh, interval=50, blit=True, repeat_delay=1000)\n",
    "\n",
    "ani_n.save(\"discrete_n_test.gif\")\n",
    "ani_nh.save(\"discrete_nh_test.gif\")\n",
    "ani_f.save(\"discrete_f_test.gif\")"
   ]
  },
  {
   "cell_type": "code",
   "execution_count": 225,
   "metadata": {},
   "outputs": [],
   "source": [
    "def update(n, nh):\n",
    "    f = fitness(nh)\n",
    "    n = virus_growth(n, f)\n",
    "\n",
    "    n = mutation(n)\n",
    "    nh = immunity_gain(nh, n)\n",
    "    nh = immunity_loss(nh, n)\n",
    "    # plt.imshow(n)\n",
    "    return n, nh"
   ]
  },
  {
   "cell_type": "code",
   "execution_count": 226,
   "metadata": {},
   "outputs": [],
   "source": [
    "# nh = nh0.reshape(nh.shape)\n",
    "# n = n0.reshape(n.shape)\n",
    "nh = np.array([[1, 0], [0, 0]])\n",
    "n = 4*np.ones([2, 2])"
   ]
  },
  {
   "cell_type": "code",
   "execution_count": 228,
   "metadata": {},
   "outputs": [
    {
     "name": "stdout",
     "output_type": "stream",
     "text": [
      "[[0 0]\n",
      " [0 1]]\n",
      "[[0 0]\n",
      " [0 1]]\n",
      "[[0 0]\n",
      " [0 1]]\n",
      "[[0 0]\n",
      " [0 1]]\n",
      "[[0 0]\n",
      " [1 0]]\n",
      "[[0 0]\n",
      " [0 1]]\n",
      "[[0 0]\n",
      " [1 0]]\n",
      "[[0 0]\n",
      " [1 0]]\n",
      "[[0 0]\n",
      " [0 1]]\n",
      "[[0 1]\n",
      " [0 0]]\n"
     ]
    },
    {
     "data": {
      "text/plain": [
       "[<matplotlib.lines.Line2D at 0x7fd93d526f40>]"
      ]
     },
     "execution_count": 228,
     "metadata": {},
     "output_type": "execute_result"
    },
    {
     "data": {
      "image/png": "[encoded data removed]",
      "text/plain": [
       "<Figure size 432x288 with 1 Axes>"
      ]
     },
     "metadata": {
      "needs_background": "light"
     },
     "output_type": "display_data"
    }
   ],
   "source": [
    "N = []\n",
    "for i in range(10):\n",
    "    print(nh)\n",
    "    n, nh = update(n, nh)\n",
    "    N.append([np.sum(n)])\n",
    "\n",
    "plt.figure()\n",
    "plt.plot(N)"
   ]
  },
  {
   "cell_type": "code",
   "execution_count": null,
   "metadata": {},
   "outputs": [],
   "source": []
  }
 ],
 "metadata": {
  "interpreter": {
   "hash": "ebcecea298eea1cfaf9072f1a359d41de78376b896924b732cb01e1a1ddaaea6"
  },
  "kernelspec": {
   "display_name": "Python 3.9.7 ('base')",
   "language": "python",
   "name": "python3"
  },
  "language_info": {
   "codemirror_mode": {
    "name": "ipython",
    "version": 3
   },
   "file_extension": ".py",
   "mimetype": "text/x-python",
   "name": "python",
   "nbconvert_exporter": "python",
   "pygments_lexer": "ipython3",
   "version": "3.9.7"
  },
  "orig_nbformat": 4
 },
 "nbformat": 4,
 "nbformat_minor": 2
}
