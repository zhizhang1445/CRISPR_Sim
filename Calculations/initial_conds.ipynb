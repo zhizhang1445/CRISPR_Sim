{
 "cells": [
  {
   "cell_type": "code",
   "execution_count": 2,
   "metadata": {},
   "outputs": [],
   "source": [
    "import numpy as np\n",
    "import matplotlib.pyplot as plt\n",
    "import numpy.random as random\n",
    "from scipy.signal import convolve\n",
    "import scipy\n",
    "from joblib import Parallel, delayed\n",
    "import time\n",
    "from scipy import sparse\n",
    "import json\n",
    "from tqdm import tqdm, tqdm_notebook\n",
    "\n",
    "%run ../Scripts/coverage.py\n",
    "%run ../Scripts/fitness.py\n",
    "%run ../Scripts/immunity.py\n",
    "%run ../Scripts/initMethods.py\n",
    "%run ../Scripts/supMethods.py\n",
    "%run ../Scripts/mutation.py"
   ]
  },
  {
   "cell_type": "code",
   "execution_count": 42,
   "metadata": {},
   "outputs": [],
   "source": [
    "params = { #parameters relevant for the equations\n",
    "    \"Nh\":        10000000,\n",
    "    \"N0\":          100000,\n",
    "    \"R0\":              20,\n",
    "    \"M\":                1, #Also L, total number of spacers\n",
    "    \"mu\":             0.2, #mutation rate\n",
    "    \"gamma_shape\":     20, \n",
    "    \"Np\":               0, #Number of Cas Protein\n",
    "    \"dc\":               3, #Required number of complexes to activate defence\n",
    "    \"h\":                4, #coordination coeff\n",
    "    \"r\":             1000, #cross-reactivity kernel\n",
    "}\n",
    "sim_params = { #parameters relevant for the simulation (including Inital Valuess)\n",
    "    \"xdomain\":                    100,\n",
    "    \"dx\":                           1,\n",
    "    \"t0\":                           0, \n",
    "    \"tf\":                        1000,\n",
    "    \"dt\":                           1,\n",
    "    \"initial_mean_n\":           [0,0],\n",
    "    \"initial_var_n\":               10,\n",
    "    \"initial_mean_nh\":          [0,0],\n",
    "    \"initial_var_nh\":              10,\n",
    "    \"n_step_prior\":                 5,\n",
    "    \"conv_size\":                  100,\n",
    "    \"num_threads\":                  4,\n",
    "    \"tail_axis\":               [1, 1],\n",
    "}"
   ]
  },
  {
   "cell_type": "code",
   "execution_count": 43,
   "metadata": {},
   "outputs": [],
   "source": [
    "def fill_parameters(params, sim_params):\n",
    "    R0 = params[\"R0\"]\n",
    "    M = params[\"M\"]\n",
    "    N0 = params[\"N0\"]\n",
    "    r = params[\"r\"]\n",
    "\n",
    "    params[\"D\"] = D = calc_diff_const(params, sim_params)\n",
    "    inv_v_tau = (np.power(R0, 1/M)-1)/r\n",
    "    params[\"s\"] = s = M*inv_v_tau\n",
    "\n",
    "    common_log = 24*np.log(N0*np.power(D*np.power(s,2), 1/3))\n",
    "    sigma = np.power(D/s, 1/3)*np.power(common_log, 1/6)\n",
    "    v0 = np.power(s, 1/3)*np.power(D, 2/3)*np.power(common_log, 1/3)\n",
    "    uc = s*np.power(sigma, 4)/(4*D)\n",
    "\n",
    "    sim_params[\"initial_var_n\"] = sim_params[\"initial_var_nh\"] = sigma\n",
    "    params[\"v0\"] = v0\n",
    "    sim_params[\"initial_mean_n\"] = [0, uc]\n",
    "    \n",
    "    return params, sim_params"
   ]
  },
  {
   "cell_type": "code",
   "execution_count": 44,
   "metadata": {},
   "outputs": [],
   "source": [
    "params, sim_params = fill_parameters(params, sim_params)"
   ]
  },
  {
   "cell_type": "code",
   "execution_count": 45,
   "metadata": {},
   "outputs": [],
   "source": [
    "n = init_guassian(params[\"N0\"], sim_params, \"n\")\n",
    "nh = init_exptail(params[\"Nh\"], params, sim_params, \"nh\")\n",
    "kernel_quarter = init_quarter_kernel(params, sim_params)\n",
    "plt.contour(n.todense(), label = \"n\", cmap = \"Reds\")\n",
    "plt.contour(nh.todense(), label = \"nh\", cmap = \"Blues\")\n",
    "plt.legend()\n",
    "plt.show()"
   ]
  },
  {
   "cell_type": "code",
   "execution_count": 31,
   "metadata": {},
   "outputs": [],
   "source": [
    "R0 = params[\"R0\"]\n",
    "mu = params[\"mu\"]\n",
    "k = params[\"gamma_shape\"]\n",
    "M = params[\"M\"]\n",
    "Nh = params[\"Nh\"]\n",
    "N0 = params[\"N0\"]\n",
    "r = params[\"r\"]\n",
    "\n",
    "tau = M*Nh/N0\n",
    "params[\"D\"] = D = calc_diff_const(params, sim_params)"
   ]
  },
  {
   "cell_type": "code",
   "execution_count": 32,
   "metadata": {},
   "outputs": [],
   "source": [
    "inv_v_tau = (np.power(R0, 1/M)-1)/r\n",
    "params[\"s\"] = s = M*inv_v_tau"
   ]
  },
  {
   "cell_type": "code",
   "execution_count": 33,
   "metadata": {},
   "outputs": [
    {
     "name": "stdout",
     "output_type": "stream",
     "text": [
      "sigma: 5.388598677483459\n",
      "v0: 0.5517029184325534\n",
      "uc: 19.07118485006243\n"
     ]
    }
   ],
   "source": [
    "common_log = 24*np.log(N0*np.power(D*np.power(s,2), 1/3))\n",
    "sigma = np.power(D/s, 1/3)*np.power(common_log, 1/6)\n",
    "v0 = np.power(s, 1/3)*np.power(D, 2/3)*np.power(common_log, 1/3)\n",
    "uc = s*np.power(sigma, 4)/(4*D)\n",
    "\n",
    "print(f\"sigma: {sigma}\")\n",
    "print(f\"v0: {v0}\")\n",
    "print(f\"uc: {uc}\")"
   ]
  },
  {
   "cell_type": "code",
   "execution_count": 38,
   "metadata": {},
   "outputs": [],
   "source": [
    "sim_params[\"initial_var_n\"] = sim_params[\"initial_var_nh\"] = sigma\n",
    "params[\"v0\"] = v0\n",
    "sim_params[\"initial_mean_n\"] = [0, uc]"
   ]
  },
  {
   "cell_type": "code",
   "execution_count": 37,
   "metadata": {},
   "outputs": [
    {
     "name": "stdout",
     "output_type": "stream",
     "text": [
      "sigma check: 5.388598677483459\n",
      "v0 check: 0.5517029184325534\n",
      "uc check: 19.071184850062433\n"
     ]
    }
   ],
   "source": [
    "A = np.power((D*r)/(M*(np.power(R0, 1/M)-1)), 1/3)\n",
    "B = M*(np.power(R0, 1/M)-1)/r\n",
    "B = N0*np.power(D, 1/3)*np.power(B, 2/3)\n",
    "B = np.power(24*np.log(B), 1/6)\n",
    "print(f\"sigma check: {A*B}\")\n",
    "\n",
    "A = np.power(D, 2/3)\n",
    "A = A*np.power((M*(np.power(R0, 1/M)-1))/r,1/3)\n",
    "B = M*(np.power(R0, 1/M)-1)/r\n",
    "B = N0*np.power(D, 1/3)*np.power(B, 2/3)\n",
    "B = np.power(24*np.log(B), 1/3)\n",
    "print(f\"v0 check: {A*B}\")\n",
    "\n",
    "A = np.power(D, 2/3)\n",
    "A = (1/4)*np.power((D*r)/(M*(np.power(R0, 1/M)-1)),1/3)\n",
    "B = M*(np.power(R0, 1/M)-1)/r\n",
    "B = N0*np.power(D, 1/3)*np.power(B, 2/3)\n",
    "B = np.power(24*np.log(B), 2/3)\n",
    "print(f\"uc check: {A*B}\")"
   ]
  },
  {
   "cell_type": "code",
   "execution_count": null,
   "metadata": {},
   "outputs": [],
   "source": []
  }
 ],
 "metadata": {
  "kernelspec": {
   "display_name": "base",
   "language": "python",
   "name": "python3"
  },
  "language_info": {
   "codemirror_mode": {
    "name": "ipython",
    "version": 3
   },
   "file_extension": ".py",
   "mimetype": "text/x-python",
   "name": "python",
   "nbconvert_exporter": "python",
   "pygments_lexer": "ipython3",
   "version": "3.9.7"
  },
  "orig_nbformat": 4
 },
 "nbformat": 4,
 "nbformat_minor": 2
}
